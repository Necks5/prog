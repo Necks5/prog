{
 "cells": [
  {
   "cell_type": "code",
   "execution_count": 1,
   "metadata": {},
   "outputs": [],
   "source": [
    "import requests\n",
    "from html.parser import HTMLParser\n",
    "import re\n",
    "from tqdm import tqdm\n",
    "import json\n",
    "import pandas as pd\n",
    "from bs4 import BeautifulSoup\n",
    "from multiprocessing.dummy import Pool as ThreadPool\n",
    "from selenium import webdriver\n",
    "import html\n",
    "from time import sleep"
   ]
  },
  {
   "cell_type": "code",
   "execution_count": 2,
   "metadata": {},
   "outputs": [],
   "source": [
    "def get_ids(driver, url, t_sleep=10):\n",
    "    driver.get(url)\n",
    "    sleep(t_sleep)\n",
    "    flag = 0\n",
    "    find_count = 0\n",
    "    need_count = driver.find_element_by_class_name('catalog').find_element_by_class_name('count-result').text\n",
    "    num = int(need_count.split(' ')[1])\n",
    "    result = []\n",
    "    items = driver.find_elements_by_class_name(\"product-card\")\n",
    "    while(len(items) != num):\n",
    "        items = driver.find_elements_by_class_name(\"product-card\")\n",
    "        driver.execute_script(\"window.scrollTo(0, document.body.scrollHeight);\")\n",
    "        if(len(items) == 60 and flag == 0):\n",
    "            buttom = driver.find_element_by_xpath(\"/html/body/div[2]/div/div[7]/div/div[2]/div[4]/div[2]/div\")\n",
    "            sleep(10)\n",
    "            buttom.click()\n",
    "            flag = 1\n",
    "    for item in items:\n",
    "        classes = item.get_attribute('data-product').split()\n",
    "        result.append(classes)\n",
    "    return result\n",
    "\n"
   ]
  },
  {
   "cell_type": "code",
   "execution_count": 3,
   "metadata": {},
   "outputs": [],
   "source": [
    "def books(ids):\n",
    "    sleep(0.5)\n",
    "    itog = []\n",
    "    url_format = \"https://www.chitai-gorod.ru/catalog/book/{card_id}/\"\n",
    "    for i in ids:\n",
    "        url_param = {\n",
    "            'card_id': i[0],\n",
    "        }\n",
    "        url_cur = url_format.format(**url_param)\n",
    "        book_html = requests.get(url_cur).text\n",
    "        soup = BeautifulSoup(book_html, 'html.parser')\n",
    "        ra_in = soup.find('div', class_='rating').find('span').text\n",
    "        rating, voice = ra_in.replace(')','').replace(' ', '').split('(')\n",
    "        ff = [i.find_all('div') for i in soup.find('div', class_='product__props').find_all('div', class_='product-prop')]\n",
    "        m = dict([list(map(lambda x: re.sub(\"\\s\", ' ', x.text.strip()), i)) for i in ff])\n",
    "        cost = soup.find('div', class_= 'price')\n",
    "        \n",
    "        book_info = {\n",
    "            'ID карточки': i[0],\n",
    "            'Название': soup.find('h1', class_ = 'product__title').text,\n",
    "            \"Автор \" : re.sub('\\s', '',soup.find('a', class_='link product__author').text),\n",
    "            \"Рейтинг\": rating,\n",
    "            \"Голоса\": voice,\n",
    "            \"Цена\": re.sub('\\s', '',cost.text) if cost else None,\n",
    "            \"Обложка\": soup.find('img', itemprop = 'image').get('src')\n",
    "        }\n",
    "        book_info.update(m)\n",
    "        itog.append(book_info)\n",
    "    return itog\n",
    "        "
   ]
  },
  {
   "cell_type": "code",
   "execution_count": 4,
   "metadata": {},
   "outputs": [],
   "source": [
    "def get_table():\n",
    "    tables = []\n",
    "    urls = ['https://www.chitai-gorod.ru/search/result.php?q=%EC%E0%EA%F1+%F4%F0%E0%E9',\n",
    "            'https://www.chitai-gorod.ru/search/result.php?q=%DD%F0%E8%ED+%D5%E0%ED%F2%E5%F0',\n",
    "             'https://www.chitai-gorod.ru/search/result.php?q=%C4%EC%E8%F2%F0%E8%E9+%C5%EC%E5%F6']\n",
    "    for url in urls:\n",
    "        with webdriver.Firefox() as driver:\n",
    "            result = get_ids(driver, url)\n",
    "        table = books(result)\n",
    "        tables += table\n",
    "    return tables"
   ]
  },
  {
   "cell_type": "code",
   "execution_count": 5,
   "metadata": {},
   "outputs": [],
   "source": [
    "final_table = pd.DataFrame(get_table())"
   ]
  },
  {
   "cell_type": "code",
   "execution_count": 6,
   "metadata": {},
   "outputs": [],
   "source": [
    "with open('hw_4.csv', mode='w', encoding='utf-8') as f_csv:\n",
    "    final_table.to_csv(f_csv, index=False)"
   ]
  },
  {
   "cell_type": "code",
   "execution_count": null,
   "metadata": {},
   "outputs": [],
   "source": []
  }
 ],
 "metadata": {
  "kernelspec": {
   "display_name": "Python 3",
   "language": "python",
   "name": "python3"
  },
  "language_info": {
   "codemirror_mode": {
    "name": "ipython",
    "version": 3
   },
   "file_extension": ".py",
   "mimetype": "text/x-python",
   "name": "python",
   "nbconvert_exporter": "python",
   "pygments_lexer": "ipython3",
   "version": "3.7.1"
  }
 },
 "nbformat": 4,
 "nbformat_minor": 2
}
