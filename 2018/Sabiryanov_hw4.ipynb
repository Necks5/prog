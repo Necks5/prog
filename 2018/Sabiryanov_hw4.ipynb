{
 "cells": [
  {
   "cell_type": "markdown",
   "metadata": {},
   "source": [
    "# Алгоритмы интеллектуальной обработки больших объемов данных\n",
    "## Домашнее задание №4 - Метод k-средних, предобработка признаков\n"
   ]
  },
  {
   "cell_type": "markdown",
   "metadata": {},
   "source": [
    "###### <hr\\>\n",
    "**Общая информация**\n",
    "\n",
    "**Срок сдачи:** 28 ноября 2018, 06:00 <br\\>\n",
    "**Штраф за опоздание:** -2 балла после 06:00 28 ноября, -4 балла после 06:00 5 декабря, -6 баллов после 06:00 12 декабря, -8 баллов после 19 декабря\n",
    "\n",
    "При отправлении ДЗ указывайте фамилию в названии файла\n",
    "Присылать ДЗ необходимо в виде ссылки на свой github репозиторий в slack @alkhamush\n",
    "\n",
    "Необходимо в slack создать таск в приватный чат:\n",
    "/todo Фамилия Имя ссылка на гитхаб @alkhamush\n",
    "Пример:\n",
    "/todo Ксения Стройкова https://github.com/stroykova/spheremailru/stroykova_hw1.ipynb @alkhamush\n",
    "Дополнительно нужно просто скинуть ссылку в slack в личный чат\n",
    "\n",
    "Используйте данный Ipython Notebook при оформлении домашнего задания."
   ]
  },
  {
   "cell_type": "markdown",
   "metadata": {},
   "source": [
    "# Имплементация K-means\n",
    "\n",
    "Пользуясь наработками выше, имплементируйте метод k-means.  \n",
    "При инициализации необходимо задавать количество кластеров, функцию расстояния между кластерами (для оригинального k-means - евклидово расстояние) и начальное состояние генератора случайных чисел.\n",
    "\n",
    "После обучения, среди атрибутов класса `Kmeans` должны появится\n",
    "* Метки кластеров для объектов\n",
    "* Координаты центройдов кластеров\n",
    "\n",
    "k-means - это алгоритм **кластеризации**, а не классификации, а посему метод `.predict()` в нем фактически не нужен, но он может возвращать метки ближайшего кластера для объектов."
   ]
  },
  {
   "cell_type": "markdown",
   "metadata": {},
   "source": [
    "###### Задание 1 (2 баллов)\n",
    "Имплементируйте метод k-means. Задание считается выполненным, если Ваша реализация работает быстрее реализации из sklearn.\n",
    "\n",
    "Теория для выполнения задания 2 и 3 остаётся на самостоятельное изучение. Теории немного и она совсем простая.\n",
    "\n",
    "###### Задание 2 (2 балла)\n",
    "Имплементируйте класс MiniBatchKMeans, который является классом наследником Kmeans.\n",
    "\n",
    "###### Задание 3 (2 балла)\n",
    "Превратите k-means в k-means++. Для этого нужно реализовать метод в классе Kmeans, который будет инициализировать более \"хорошие\" значения центроидов. Чтобы использовался метод k-means++, в параметр init необходимо передать строковое значение 'k-means' (по умолчанию 'random').\n",
    "\n",
    "###### Задание 4 (2 балла)\n",
    "В пункте \"Проверка корректности метода\" нужно нарисовать графики, которые показывают зависимость времени выполнения алгоритма от количества сэмплов. Графики должны быть  нарисованы для различных комбинаций реализаций алгоритма (k-means, k-means++, k-means с MiniBatchKMeans, k-means++ с MiniBatchKMeans). График достаточно построить на 5-10 точках.\n",
    "\n",
    "###### Задание 5 (2 балла)\n",
    "В пункте \"Применение K-means на реальных данных\" нужно сравнить различные реализации k-means (k-means, k-means++, k-means с MiniBatchKMeans, k-means++ с MiniBatchKMeans). После чего написать вывод, в котором должно быть объяснение того, почему один алгоритм оказался лучше остальных или почему не было выявлено лучшего алгоритма.\n",
    "\n",
    "**Штрафные баллы:**\n",
    "\n",
    "1. Невыполнение PEP8 -1 балл\n",
    "2. Отсутствие фамилии в имени скрипта (скрипт должен называться по аналогии со stroykova_hw4.ipynb) -1 балл\n",
    "3. Все строчки должны быть выполнены. Нужно, чтобы output команды можно было увидеть уже в git'е. В противном случае -1 балл\n",
    "4. При оформлении ДЗ нужно пользоваться данным файлом в качестве шаблона. Не нужно удалять и видоизменять написанный код и текст. В противном случае -1 балл\n",
    "<hr\\>"
   ]
  },
  {
   "cell_type": "code",
   "execution_count": 1,
   "metadata": {},
   "outputs": [],
   "source": [
    "import pandas as pd\n",
    "import numpy as np\n",
    "import matplotlib.pyplot as plt\n",
    "from sklearn.metrics import pairwise_distances\n",
    "\n",
    "%matplotlib inline\n",
    "\n",
    "plt.style.use('ggplot')\n",
    "plt.rcParams['figure.figsize'] = (12,5)\n",
    "\n",
    "#%load_ext pycodestyle_magic"
   ]
  },
  {
   "cell_type": "code",
   "execution_count": 28,
   "metadata": {},
   "outputs": [],
   "source": [
    "#%%pycodestyle\n",
    "\n",
    "\n",
    "class MyKmeans: \n",
    "    \n",
    "    def __init__(self, k=2, metric='euclidean', max_iter=1000, random_state=None, init='random'):\n",
    "        \"\"\"\n",
    "        Инициализация метода\n",
    "        :k - количество кластеров\n",
    "        :metric - функция расстояния между объектами\n",
    "        :max_iter - максиальное количество итераций\n",
    "        :random_state - seed для инициализации генератора случайных чисел\n",
    "        \"\"\"\n",
    "        \n",
    "        self.k = k\n",
    "        self.random_state = random_state\n",
    "        self.metric = metric\n",
    "        self.max_iter = max_iter\n",
    "        self.init = init\n",
    "    def init_centroids(self, X, y=None):\n",
    "        if self.init == 'random':\n",
    "            self.centroids = X[np.random.choice(np.shape(X)[0], \\\n",
    "                                                size=self.k, replace=False)]\n",
    "            return\n",
    "        elif self.init == 'k-means':\n",
    "            self.centroids[0] = X[np.random.randint(0, X.shape[0])]\n",
    "            for i in range(1, self.k):\n",
    "                dist = (np.square((X[np.newaxis, :] - \\\n",
    "                                   self.centroids[:i, np.newaxis]))).sum(axis=2)\n",
    "                min_dist = np.min(dist, axis=0)\n",
    "                dd = np.sum(min_dist, axis=0)\n",
    "                probs = min_dist/dd\n",
    "                self.centroids[i] = X[np.random.choice(X.shape[0],\\\n",
    "                                                       size=1, replace=False, p=probs)]\n",
    "            return\n",
    "\n",
    "    def fit(self, X, y=None):\n",
    "        \"\"\"\n",
    "        Процедура обучения k-means\n",
    "        \"\"\"\n",
    "        \n",
    "        # Инициализация генератора случайных чисел\n",
    "        np.random.seed(self.random_state)\n",
    "        \n",
    "        # Массив с метками кластеров для каждого объекта из X\n",
    "        self.labels = np.empty(X.shape[0])\n",
    "        \n",
    "        # Массив с центройдами кластеров\n",
    "        self.centroids = np.empty((self.k, X.shape[1]))\n",
    "        \n",
    "        ## Your Code Here\n",
    "        # ...\n",
    "        old_dist = -1\n",
    "        self.init_centroids(X, y)\n",
    "        for i in range(self.max_iter):\n",
    "            dist = ((X - self.centroids[0]) ** 2).sum(axis=1)\n",
    "            self.labels = np.zeros(X.shape[0])\n",
    "            for j in range(self.k - 1):\n",
    "                distj = ((X - self.centroids[j+1]) ** 2).sum(axis=1)\n",
    "                mask = dist > distj\n",
    "                dist[mask] = distj[mask]\n",
    "                self.labels[mask] = j + 1\n",
    "            for j in range(self.k):\n",
    "                mask = self.labels == j\n",
    "                self.centroids[j] = X[mask].sum(axis=0) / mask.sum()\n",
    "            if np.sum(np.abs(old_dist - dist) < 0.1):\n",
    "                return self\n",
    "            else:\n",
    "                old_dist = dist\n",
    "        \n",
    "        return self\n",
    "\n",
    "    def predict(self, X, y=None):\n",
    "        return self.labels, self.centroids\n",
    "        \"\"\"\n",
    "        Процедура предсказания кластера\n",
    "        \n",
    "        Возвращает метку ближайшего кластера для каждого объекта\n",
    "        \"\"\"\n",
    "\n",
    "class MiniBatchKmeans(MyKmeans):\n",
    "    def __init__(self, k=2, metric='euclidean', max_iter=100, random_state=None, \\\n",
    "                 init='random', batch_size=10):\n",
    "\n",
    "        MyKmeans.__init__(self, k, metric, max_iter, random_state, init)\n",
    "        self.batch_size = batch_size\n",
    "\n",
    "    def fit(self, X, y=None):\n",
    "        np.random.seed(self.random_state)\n",
    "        self.labels = np.empty(X.shape[0])\n",
    "        self.centroids = np.empty((self.k, X.shape[1]))\n",
    "\n",
    "        self.init_centroids(X, y)\n",
    "        for i in range(self.max_iter):\n",
    "            np.random.shuffle(X)\n",
    "            d = X[:self.batch_size]\n",
    "            dist = ((d - self.centroids[0]) ** 2).sum(axis=1)\n",
    "            labels = np.zeros(d.shape[0])\n",
    "            for j in range(self.k - 1):\n",
    "                distj = ((d - self.centroids[j+1]) ** 2).sum(axis=1)\n",
    "                mask = dist > distj\n",
    "                dist[mask] = distj[mask]\n",
    "                labels[mask] = j + 1\n",
    "            for j in range(self.k):\n",
    "                mask = labels == j\n",
    "                mask_s = mask.sum()\n",
    "                if(mask_s == 0):\n",
    "                    continue\n",
    "                C_ = d[mask].sum(axis=0) / mask.sum()\n",
    "                self.centroids[j] = (1 - 1 / (i + 1)) * self.centroids[j] + \\\n",
    "                    1 / (i + 1) * C_\n",
    "\n",
    "        return self\n",
    "\n",
    "    def predict(self, X, y=None):\n",
    "        for i in range(X.shape[0]):\n",
    "            dists =((self.centroids - X[i])**2).sum(axis = 1)\n",
    "            self.labels[i] = dists.argmin()\n",
    "        return self.labels, self.centroids\n",
    "     "
   ]
  },
  {
   "cell_type": "markdown",
   "metadata": {},
   "source": [
    "### Проверка корректности метода\n",
    "\n",
    "Перед тем как применять алгоритм на реальных данных, нужно испытать его на простых \"игрушечных\" данных.\n",
    "\n",
    "Если алгоритм реализован правильно, то метод должен идеально разбивать на 3 кластера данные ниже. Проверьте это.\n",
    "\n",
    "ВНИМАНИЕ! Проверка должна быть осуществлена на всех реализациях, иначе реализация не будет зачтена!"
   ]
  },
  {
   "cell_type": "code",
   "execution_count": 3,
   "metadata": {},
   "outputs": [],
   "source": [
    "from sklearn.datasets import make_blobs"
   ]
  },
  {
   "cell_type": "code",
   "execution_count": 4,
   "metadata": {},
   "outputs": [
    {
     "data": {
      "text/plain": [
       "(100, 2)"
      ]
     },
     "execution_count": 4,
     "metadata": {},
     "output_type": "execute_result"
    }
   ],
   "source": [
    "X, y = make_blobs(n_samples=100, n_features=2, centers=3, cluster_std=1, \n",
    "           center_box=(-10.0, 10.0), shuffle=False, random_state=1234)\n",
    "X.shape"
   ]
  },
  {
   "cell_type": "code",
   "execution_count": 5,
   "metadata": {},
   "outputs": [
    {
     "data": {
      "text/plain": [
       "<matplotlib.collections.PathCollection at 0x7fedc52e16a0>"
      ]
     },
     "execution_count": 5,
     "metadata": {},
     "output_type": "execute_result"
    },
    {
     "data": {
      "image/png": "[encoded data removed]",
      "text/plain": [
       "<Figure size 432x288 with 1 Axes>"
      ]
     },
     "metadata": {},
     "output_type": "display_data"
    }
   ],
   "source": [
    "plt.scatter(X[:,0], X[:, 1], c=y)"
   ]
  },
  {
   "cell_type": "markdown",
   "metadata": {},
   "source": [
    "Проверьте Вашу имплементацию на простых данных (без этого пункта ДЗ не считается выполненным).   \n",
    "КОММЕНТАРИИ НЕ СТИРАТЬ!"
   ]
  },
  {
   "cell_type": "code",
   "execution_count": 6,
   "metadata": {},
   "outputs": [
    {
     "data": {
      "text/plain": [
       "<matplotlib.collections.PathCollection at 0x7fedc520eb00>"
      ]
     },
     "execution_count": 6,
     "metadata": {},
     "output_type": "execute_result"
    },
    {
     "data": {
      "image/png": "[encoded data removed]",
      "text/plain": [
       "<Figure size 432x288 with 1 Axes>"
      ]
     },
     "metadata": {},
     "output_type": "display_data"
    }
   ],
   "source": [
    "## Работоспособность MyKmeans\n",
    "clf = MyKmeans(k = 3, random_state = 10)\n",
    "clf.fit(X)\n",
    "pred, cen = clf.predict(X)\n",
    "plt.scatter(X[:,0], X[:, 1], c=pred)\n",
    "plt.scatter(cen[:, 0], cen[:,1])"
   ]
  },
  {
   "cell_type": "code",
   "execution_count": 7,
   "metadata": {},
   "outputs": [
    {
     "data": {
      "text/plain": [
       "<matplotlib.collections.PathCollection at 0x7fedc5207860>"
      ]
     },
     "execution_count": 7,
     "metadata": {},
     "output_type": "execute_result"
    },
    {
     "data": {
      "image/png": "[encoded data removed]",
      "text/plain": [
       "<Figure size 432x288 with 1 Axes>"
      ]
     },
     "metadata": {},
     "output_type": "display_data"
    }
   ],
   "source": [
    "## Работоспособность MyKmeans++\n",
    "clf = MyKmeans(k=3, random_state=13, init = \"k-means\")\n",
    "clf.fit(X)\n",
    "pred, cen = clf.predict(X)\n",
    "plt.scatter(X[:,0], X[:, 1], c=pred)\n",
    "plt.scatter(cen[:, 0], cen[:,1])"
   ]
  },
  {
   "cell_type": "code",
   "execution_count": 8,
   "metadata": {},
   "outputs": [
    {
     "data": {
      "text/plain": [
       "<matplotlib.collections.PathCollection at 0x7fedc5177160>"
      ]
     },
     "execution_count": 8,
     "metadata": {},
     "output_type": "execute_result"
    },
    {
     "data": {
      "image/png": "[encoded data removed]",
      "text/plain": [
       "<Figure size 432x288 with 1 Axes>"
      ]
     },
     "metadata": {},
     "output_type": "display_data"
    }
   ],
   "source": [
    "## Работоспособность MyKmeans с MiniBatchMyKmeans\n",
    "clf = MiniBatchKmeans(k = 3, random_state = 1234, init = 'random')\n",
    "clf.fit(X)\n",
    "pred, cen = clf.predict(X)\n",
    "plt.scatter(X[:,0], X[:, 1], c=pred)\n",
    "plt.scatter(cen[:, 0], cen[:,1])"
   ]
  },
  {
   "cell_type": "code",
   "execution_count": 9,
   "metadata": {},
   "outputs": [
    {
     "data": {
      "text/plain": [
       "<matplotlib.collections.PathCollection at 0x7fedc50e3a58>"
      ]
     },
     "execution_count": 9,
     "metadata": {},
     "output_type": "execute_result"
    },
    {
     "data": {
      "image/png": "[encoded data removed]",
      "text/plain": [
       "<Figure size 432x288 with 1 Axes>"
      ]
     },
     "metadata": {},
     "output_type": "display_data"
    }
   ],
   "source": [
    "## Работоспособность MyKmeans++ с MiniBatchMyKmeans\n",
    "clf = MiniBatchKmeans(k = 3, random_state = 100, init = \"k-means\")\n",
    "clf.fit(X)\n",
    "pred, cen = clf.predict(X)\n",
    "plt.scatter(X[:,0], X[:, 1], c=pred)\n",
    "plt.scatter(cen[:, 0], cen[:,1])"
   ]
  },
  {
   "cell_type": "code",
   "execution_count": 10,
   "metadata": {},
   "outputs": [],
   "source": [
    "import time\n",
    "def tim(clf):\n",
    "    times = []\n",
    "    points = np.array([100,1000, 5000, 10000, 15000])\n",
    "    for i in points:\n",
    "        t = 0\n",
    "        for j in range(20):\n",
    "            start = time.time()\n",
    "            X, y = make_blobs(n_samples=i, n_features=2, centers=3, cluster_std=1, \n",
    "               center_box=(-10.0, 10.0), shuffle=False, random_state=1234)\n",
    "           \n",
    "            clf.fit(X, y)\n",
    "            t += time.time() - start\n",
    "        t /= 20\n",
    "        times.append(t)\n",
    "    plt.plot(points, times)"
   ]
  },
  {
   "cell_type": "code",
   "execution_count": 11,
   "metadata": {},
   "outputs": [
    {
     "data": {
      "image/png": "[encoded data removed]",
      "text/plain": [
       "<Figure size 432x288 with 1 Axes>"
      ]
     },
     "metadata": {},
     "output_type": "display_data"
    }
   ],
   "source": [
    "## Время выполнения алгоритма Kmeans из sklearn\n",
    "from sklearn.cluster import KMeans\n",
    "clf = KMeans(n_clusters=3, max_iter=1000, random_state=1234, init='random')\n",
    "tim(clf)"
   ]
  },
  {
   "cell_type": "code",
   "execution_count": 27,
   "metadata": {},
   "outputs": [
    {
     "data": {
      "image/png": "[encoded data removed]",
      "text/plain": [
       "<Figure size 432x288 with 1 Axes>"
      ]
     },
     "metadata": {},
     "output_type": "display_data"
    }
   ],
   "source": [
    "## Время выполнения алгоритма MyKmeans\n",
    "clf = MyKmeans(k = 3, random_state = 10)\n",
    "tim(clf)"
   ]
  },
  {
   "cell_type": "code",
   "execution_count": 13,
   "metadata": {},
   "outputs": [
    {
     "data": {
      "image/png": "[encoded data removed]",
      "text/plain": [
       "<Figure size 432x288 with 1 Axes>"
      ]
     },
     "metadata": {},
     "output_type": "display_data"
    }
   ],
   "source": [
    "## Время выполнения алгоритма MyKmeans++\n",
    "clf = MyKmeans(k=3, random_state=13, init = \"k-means\")\n",
    "tim(clf)"
   ]
  },
  {
   "cell_type": "code",
   "execution_count": 16,
   "metadata": {},
   "outputs": [
    {
     "data": {
      "image/png": "[encoded data removed]",
      "text/plain": [
       "<Figure size 432x288 with 1 Axes>"
      ]
     },
     "metadata": {},
     "output_type": "display_data"
    }
   ],
   "source": [
    "## Время выполнения алгоритма MyKmeans с MiniBatchMyKmeans\n",
    "clf = MiniBatchKmeans(k = 3, random_state = 1234, init = 'random')\n",
    "tim(clf)"
   ]
  },
  {
   "cell_type": "code",
   "execution_count": 17,
   "metadata": {},
   "outputs": [
    {
     "data": {
      "image/png": "[encoded data removed]",
      "text/plain": [
       "<Figure size 432x288 with 1 Axes>"
      ]
     },
     "metadata": {},
     "output_type": "display_data"
    }
   ],
   "source": [
    "## Время выполнения алгоритма  MyKmeans++ с MiniBatchMyKmeans\n",
    "clf = MiniBatchKmeans(k = 3, random_state = 1234, init = 'k_means')\n",
    "tim(clf)"
   ]
  },
  {
   "cell_type": "markdown",
   "metadata": {},
   "source": [
    "# Применение K-means на реальных данных"
   ]
  },
  {
   "cell_type": "markdown",
   "metadata": {},
   "source": [
    "Загрузите [данные](https://github.com/brenden17/sklearnlab/blob/master/facebook/snsdata.csv) в которых содержится описание интересов профилей учеников старшей школы США.  (без этого пункта задание не считается выполненным).   \n",
    "ВНИМАНИЕ! Проверка должна быть осуществлена на всех реализациях, иначе реализация не будет зачтена!"
   ]
  },
  {
   "cell_type": "code",
   "execution_count": 18,
   "metadata": {},
   "outputs": [
    {
     "data": {
      "text/html": [
       "<div>\n",
       "<style scoped>\n",
       "    .dataframe tbody tr th:only-of-type {\n",
       "        vertical-align: middle;\n",
       "    }\n",
       "\n",
       "    .dataframe tbody tr th {\n",
       "        vertical-align: top;\n",
       "    }\n",
       "\n",
       "    .dataframe thead th {\n",
       "        text-align: right;\n",
       "    }\n",
       "</style>\n",
       "<table border=\"1\" class=\"dataframe\">\n",
       "  <thead>\n",
       "    <tr style=\"text-align: right;\">\n",
       "      <th></th>\n",
       "      <th>gradyear</th>\n",
       "      <th>gender</th>\n",
       "      <th>age</th>\n",
       "      <th>friends</th>\n",
       "      <th>basketball</th>\n",
       "      <th>football</th>\n",
       "      <th>soccer</th>\n",
       "      <th>softball</th>\n",
       "      <th>volleyball</th>\n",
       "      <th>swimming</th>\n",
       "      <th>...</th>\n",
       "      <th>blonde</th>\n",
       "      <th>mall</th>\n",
       "      <th>shopping</th>\n",
       "      <th>clothes</th>\n",
       "      <th>hollister</th>\n",
       "      <th>abercrombie</th>\n",
       "      <th>die</th>\n",
       "      <th>death</th>\n",
       "      <th>drunk</th>\n",
       "      <th>drugs</th>\n",
       "    </tr>\n",
       "  </thead>\n",
       "  <tbody>\n",
       "    <tr>\n",
       "      <th>0</th>\n",
       "      <td>2006</td>\n",
       "      <td>M</td>\n",
       "      <td>18.982</td>\n",
       "      <td>7</td>\n",
       "      <td>0</td>\n",
       "      <td>0</td>\n",
       "      <td>0</td>\n",
       "      <td>0</td>\n",
       "      <td>0</td>\n",
       "      <td>0</td>\n",
       "      <td>...</td>\n",
       "      <td>0</td>\n",
       "      <td>0</td>\n",
       "      <td>0</td>\n",
       "      <td>0</td>\n",
       "      <td>0</td>\n",
       "      <td>0</td>\n",
       "      <td>0</td>\n",
       "      <td>0</td>\n",
       "      <td>0</td>\n",
       "      <td>0</td>\n",
       "    </tr>\n",
       "    <tr>\n",
       "      <th>1</th>\n",
       "      <td>2006</td>\n",
       "      <td>F</td>\n",
       "      <td>18.801</td>\n",
       "      <td>0</td>\n",
       "      <td>0</td>\n",
       "      <td>1</td>\n",
       "      <td>0</td>\n",
       "      <td>0</td>\n",
       "      <td>0</td>\n",
       "      <td>0</td>\n",
       "      <td>...</td>\n",
       "      <td>0</td>\n",
       "      <td>1</td>\n",
       "      <td>0</td>\n",
       "      <td>0</td>\n",
       "      <td>0</td>\n",
       "      <td>0</td>\n",
       "      <td>0</td>\n",
       "      <td>0</td>\n",
       "      <td>0</td>\n",
       "      <td>0</td>\n",
       "    </tr>\n",
       "    <tr>\n",
       "      <th>2</th>\n",
       "      <td>2006</td>\n",
       "      <td>M</td>\n",
       "      <td>18.335</td>\n",
       "      <td>69</td>\n",
       "      <td>0</td>\n",
       "      <td>1</td>\n",
       "      <td>0</td>\n",
       "      <td>0</td>\n",
       "      <td>0</td>\n",
       "      <td>0</td>\n",
       "      <td>...</td>\n",
       "      <td>0</td>\n",
       "      <td>0</td>\n",
       "      <td>0</td>\n",
       "      <td>0</td>\n",
       "      <td>0</td>\n",
       "      <td>0</td>\n",
       "      <td>0</td>\n",
       "      <td>1</td>\n",
       "      <td>0</td>\n",
       "      <td>0</td>\n",
       "    </tr>\n",
       "    <tr>\n",
       "      <th>3</th>\n",
       "      <td>2006</td>\n",
       "      <td>F</td>\n",
       "      <td>18.875</td>\n",
       "      <td>0</td>\n",
       "      <td>0</td>\n",
       "      <td>0</td>\n",
       "      <td>0</td>\n",
       "      <td>0</td>\n",
       "      <td>0</td>\n",
       "      <td>0</td>\n",
       "      <td>...</td>\n",
       "      <td>0</td>\n",
       "      <td>0</td>\n",
       "      <td>0</td>\n",
       "      <td>0</td>\n",
       "      <td>0</td>\n",
       "      <td>0</td>\n",
       "      <td>0</td>\n",
       "      <td>0</td>\n",
       "      <td>0</td>\n",
       "      <td>0</td>\n",
       "    </tr>\n",
       "    <tr>\n",
       "      <th>4</th>\n",
       "      <td>2006</td>\n",
       "      <td>NaN</td>\n",
       "      <td>18.995</td>\n",
       "      <td>10</td>\n",
       "      <td>0</td>\n",
       "      <td>0</td>\n",
       "      <td>0</td>\n",
       "      <td>0</td>\n",
       "      <td>0</td>\n",
       "      <td>0</td>\n",
       "      <td>...</td>\n",
       "      <td>0</td>\n",
       "      <td>0</td>\n",
       "      <td>2</td>\n",
       "      <td>0</td>\n",
       "      <td>0</td>\n",
       "      <td>0</td>\n",
       "      <td>0</td>\n",
       "      <td>0</td>\n",
       "      <td>1</td>\n",
       "      <td>1</td>\n",
       "    </tr>\n",
       "  </tbody>\n",
       "</table>\n",
       "<p>5 rows × 40 columns</p>\n",
       "</div>"
      ],
      "text/plain": [
       "   gradyear gender     age  friends  basketball  football  soccer  softball  \\\n",
       "0      2006      M  18.982        7           0         0       0         0   \n",
       "1      2006      F  18.801        0           0         1       0         0   \n",
       "2      2006      M  18.335       69           0         1       0         0   \n",
       "3      2006      F  18.875        0           0         0       0         0   \n",
       "4      2006    NaN  18.995       10           0         0       0         0   \n",
       "\n",
       "   volleyball  swimming  ...    blonde  mall  shopping  clothes  hollister  \\\n",
       "0           0         0  ...         0     0         0        0          0   \n",
       "1           0         0  ...         0     1         0        0          0   \n",
       "2           0         0  ...         0     0         0        0          0   \n",
       "3           0         0  ...         0     0         0        0          0   \n",
       "4           0         0  ...         0     0         2        0          0   \n",
       "\n",
       "   abercrombie  die  death  drunk  drugs  \n",
       "0            0    0      0      0      0  \n",
       "1            0    0      0      0      0  \n",
       "2            0    0      1      0      0  \n",
       "3            0    0      0      0      0  \n",
       "4            0    0      0      1      1  \n",
       "\n",
       "[5 rows x 40 columns]"
      ]
     },
     "execution_count": 18,
     "metadata": {},
     "output_type": "execute_result"
    }
   ],
   "source": [
    "df_sns = pd.read_csv('snsdata.csv', sep=',')\n",
    "df_sns.head()"
   ]
  },
  {
   "cell_type": "code",
   "execution_count": 19,
   "metadata": {},
   "outputs": [
    {
     "data": {
      "text/plain": [
       "array([[-0.33221726, -0.35769737, -0.2428741 , ..., -0.26153016,\n",
       "        -0.22040264, -0.1749076 ],\n",
       "       [-0.33221726,  1.06004883, -0.2428741 , ..., -0.26153016,\n",
       "        -0.22040264, -0.1749076 ],\n",
       "       [-0.33221726,  1.06004883, -0.2428741 , ...,  2.02790809,\n",
       "        -0.22040264, -0.1749076 ],\n",
       "       ...,\n",
       "       [-0.33221726,  1.06004883, -0.2428741 , ..., -0.26153016,\n",
       "        -0.22040264, -0.1749076 ],\n",
       "       [-0.33221726, -0.35769737, -0.2428741 , ..., -0.26153016,\n",
       "        -0.22040264, -0.1749076 ],\n",
       "       [ 2.15319868, -0.35769737, -0.2428741 , ..., -0.26153016,\n",
       "        -0.22040264, -0.1749076 ]])"
      ]
     },
     "execution_count": 19,
     "metadata": {},
     "output_type": "execute_result"
    }
   ],
   "source": [
    "df_sns.shape\n",
    "X = df_sns.iloc[:, 4:].values\n",
    "X = (X - X.mean(axis=0))/X.std(axis=0)\n",
    "\n",
    "X"
   ]
  },
  {
   "cell_type": "markdown",
   "metadata": {},
   "source": [
    "Данные устроены так: \n",
    "* Год выпуска\n",
    "* Пол\n",
    "* Возраст\n",
    "* Количество друзей\n",
    "* 36 ключевых слов, которые встречаются в профилe facebook (интересы, сообщества, встречи)"
   ]
  },
  {
   "cell_type": "markdown",
   "metadata": {},
   "source": [
    "* Удалите все признаки кроме 36 ключевых слов.\n",
    "* Нормализуйте данные - из каждого столбца вычтите его среднее значение и поделите на стандартное отклонение.\n",
    "* Используйте метод k-means чтобы выделить 9 кластеров\n",
    "* Попробуйте проинтерпретировать каждый кластер проанализировав полученные центройды (Некоторые кластеры могут быть очень большие и очень маленькие - плохо интерпретируются)   \n",
    "КОММЕНТАРИИ НЕ СТИРАТЬ!"
   ]
  },
  {
   "cell_type": "code",
   "execution_count": 20,
   "metadata": {},
   "outputs": [],
   "source": [
    "def f(clf):\n",
    "    clf.fit(X)\n",
    "    pred, cen = clf.predict(X)\n",
    "    temp = df_sns\n",
    "    temp.loc[:, 'label'] = pred\n",
    "    temp.label.value_counts()\n",
    "    for c, group in temp.groupby('label'):\n",
    "        print('Cluster: {}'.format(c))\n",
    "        print(group.iloc[:, 4:-1].mean().nlargest(5))\n",
    "        print('=' * 10 + '\\n')"
   ]
  },
  {
   "cell_type": "code",
   "execution_count": 21,
   "metadata": {
    "scrolled": true
   },
   "outputs": [
    {
     "name": "stdout",
     "output_type": "stream",
     "text": [
      "Cluster: 0\n",
      "music         1.066521\n",
      "dance         1.051033\n",
      "shopping      0.890191\n",
      "cute          0.828435\n",
      "basketball    0.722597\n",
      "dtype: float64\n",
      "==========\n",
      "\n",
      "Cluster: 1\n",
      "drunk    1.409873\n",
      "music    0.707554\n",
      "hair     0.629020\n",
      "god      0.522064\n",
      "dance    0.439043\n",
      "dtype: float64\n",
      "==========\n",
      "\n",
      "Cluster: 2\n",
      "band        4.105053\n",
      "marching    1.418883\n",
      "music       1.215426\n",
      "god         0.505319\n",
      "dance       0.464096\n",
      "dtype: float64\n",
      "==========\n",
      "\n",
      "Cluster: 3\n",
      "soccer      4.901004\n",
      "music       0.773314\n",
      "shopping    0.499283\n",
      "god         0.469154\n",
      "hair        0.440459\n",
      "dtype: float64\n",
      "==========\n",
      "\n",
      "Cluster: 4\n",
      "music       0.554035\n",
      "god         0.311626\n",
      "dance       0.230423\n",
      "hair        0.192419\n",
      "shopping    0.181632\n",
      "dtype: float64\n",
      "==========\n",
      "\n",
      "Cluster: 5\n",
      "blonde    327.0\n",
      "sex        22.0\n",
      "hair       12.0\n",
      "god        10.0\n",
      "die         6.0\n",
      "dtype: float64\n",
      "==========\n",
      "\n",
      "Cluster: 6\n",
      "hair      3.475177\n",
      "sex       2.760047\n",
      "music     2.374704\n",
      "kissed    1.874704\n",
      "die       1.269504\n",
      "dtype: float64\n",
      "==========\n",
      "\n",
      "Cluster: 7\n",
      "god       4.725322\n",
      "church    2.180258\n",
      "jesus     2.049356\n",
      "music     1.066524\n",
      "bible     0.972103\n",
      "dtype: float64\n",
      "==========\n",
      "\n",
      "Cluster: 8\n",
      "hollister      1.512485\n",
      "abercrombie    1.173603\n",
      "shopping       0.932224\n",
      "music          0.909631\n",
      "hair           0.897741\n",
      "dtype: float64\n",
      "==========\n",
      "\n"
     ]
    }
   ],
   "source": [
    "# sklearn для сравнения \n",
    "kmeans = KMeans(n_clusters=9, init='k-means++', max_iter=2000, random_state=123)\n",
    "kmeans.fit(X)\n",
    "labels = kmeans.labels_\n",
    "df_sns.loc[:, 'label'] = labels\n",
    "for c, group in df_sns.groupby('label'):\n",
    "    print('Cluster: {}'.format(c))\n",
    "    print(group.iloc[:, 4:-1].mean().nlargest(5))\n",
    "    print('=' * 10 + '\\n')"
   ]
  },
  {
   "cell_type": "code",
   "execution_count": 22,
   "metadata": {
    "scrolled": true
   },
   "outputs": [
    {
     "name": "stdout",
     "output_type": "stream",
     "text": [
      "Cluster: 0.0\n",
      "hot         1.389116\n",
      "music       0.740136\n",
      "hair        0.632200\n",
      "shopping    0.576871\n",
      "cute        0.529705\n",
      "dtype: float64\n",
      "==========\n",
      "\n",
      "Cluster: 1.0\n",
      "hair     3.510817\n",
      "music    2.695913\n",
      "sex      1.723558\n",
      "cute     1.610577\n",
      "dance    1.379808\n",
      "dtype: float64\n",
      "==========\n",
      "\n",
      "Cluster: 2.0\n",
      "sex       9.049383\n",
      "hair      6.098765\n",
      "blonde    5.012346\n",
      "music     4.148148\n",
      "die       3.358025\n",
      "dtype: float64\n",
      "==========\n",
      "\n",
      "Cluster: 3.0\n",
      "church        4.321755\n",
      "god           2.689214\n",
      "jesus         1.029250\n",
      "music         0.987203\n",
      "basketball    0.787934\n",
      "dtype: float64\n",
      "==========\n",
      "\n",
      "Cluster: 4.0\n",
      "music         0.427731\n",
      "god           0.222422\n",
      "shopping      0.215991\n",
      "cute          0.183453\n",
      "basketball    0.178712\n",
      "dtype: float64\n",
      "==========\n",
      "\n",
      "Cluster: 5.0\n",
      "soccer        3.557175\n",
      "sexy          1.149103\n",
      "music         0.819507\n",
      "sports        0.668161\n",
      "basketball    0.618834\n",
      "dtype: float64\n",
      "==========\n",
      "\n",
      "Cluster: 6.0\n",
      "dance       2.276348\n",
      "music       0.762255\n",
      "shopping    0.674020\n",
      "hair        0.553922\n",
      "cute        0.532782\n",
      "dtype: float64\n",
      "==========\n",
      "\n",
      "Cluster: 7.0\n",
      "band        6.056782\n",
      "marching    2.151420\n",
      "music       1.419558\n",
      "god         0.536278\n",
      "dance       0.504732\n",
      "dtype: float64\n",
      "==========\n",
      "\n",
      "Cluster: 8.0\n",
      "music    1.669607\n",
      "god      1.367103\n",
      "rock     1.032442\n",
      "hair     0.514513\n",
      "band     0.475526\n",
      "dtype: float64\n",
      "==========\n",
      "\n"
     ]
    }
   ],
   "source": [
    "## MyKMeans\n",
    "clf = MyKmeans(k = 9, random_state = 10)\n",
    "f(clf)"
   ]
  },
  {
   "cell_type": "code",
   "execution_count": 23,
   "metadata": {
    "scrolled": true
   },
   "outputs": [
    {
     "name": "stdout",
     "output_type": "stream",
     "text": [
      "Cluster: 0.0\n",
      "die      4.174721\n",
      "music    1.163569\n",
      "hair     1.074349\n",
      "god      1.052045\n",
      "death    0.847584\n",
      "dtype: float64\n",
      "==========\n",
      "\n",
      "Cluster: 1.0\n",
      "dance    4.668493\n",
      "drunk    1.780822\n",
      "music    1.068493\n",
      "hair     0.797260\n",
      "cute     0.684932\n",
      "dtype: float64\n",
      "==========\n",
      "\n",
      "Cluster: 2.0\n",
      "hair      3.641452\n",
      "sex       3.004539\n",
      "kissed    2.472012\n",
      "music     2.217852\n",
      "rock      1.119516\n",
      "dtype: float64\n",
      "==========\n",
      "\n",
      "Cluster: 3.0\n",
      "hair        1.145795\n",
      "music       0.890397\n",
      "shopping    0.671602\n",
      "dance       0.645075\n",
      "cute        0.624306\n",
      "dtype: float64\n",
      "==========\n",
      "\n",
      "Cluster: 4.0\n",
      "hollister      2.222561\n",
      "abercrombie    1.551829\n",
      "shopping       1.192073\n",
      "hair           1.182927\n",
      "music          1.036585\n",
      "dtype: float64\n",
      "==========\n",
      "\n",
      "Cluster: 5.0\n",
      "softball      8.009804\n",
      "blonde        3.392157\n",
      "basketball    1.176471\n",
      "music         0.921569\n",
      "god           0.872549\n",
      "dtype: float64\n",
      "==========\n",
      "\n",
      "Cluster: 6.0\n",
      "band        3.553672\n",
      "hot         1.655367\n",
      "marching    1.241055\n",
      "music       1.195857\n",
      "dance       0.670433\n",
      "dtype: float64\n",
      "==========\n",
      "\n",
      "Cluster: 7.0\n",
      "music         0.520984\n",
      "god           0.263245\n",
      "dance         0.251139\n",
      "basketball    0.234049\n",
      "football      0.220993\n",
      "dtype: float64\n",
      "==========\n",
      "\n",
      "Cluster: 8.0\n",
      "god         2.762245\n",
      "music       1.977435\n",
      "church      1.188222\n",
      "rock        0.924601\n",
      "shopping    0.864062\n",
      "dtype: float64\n",
      "==========\n",
      "\n"
     ]
    }
   ],
   "source": [
    "## MyKMeans++\n",
    "clf = MyKmeans(k=9, random_state=1234, init = \"k-means\")\n",
    "f(clf)\n"
   ]
  },
  {
   "cell_type": "code",
   "execution_count": 24,
   "metadata": {
    "scrolled": true
   },
   "outputs": [
    {
     "name": "stdout",
     "output_type": "stream",
     "text": [
      "Cluster: 0.0\n",
      "music       0.743644\n",
      "god         0.444915\n",
      "dance       0.438559\n",
      "hair        0.432203\n",
      "shopping    0.394068\n",
      "dtype: float64\n",
      "==========\n",
      "\n",
      "Cluster: 1.0\n",
      "music         0.500000\n",
      "basketball    0.435484\n",
      "dance         0.403226\n",
      "god           0.387097\n",
      "hair          0.370968\n",
      "dtype: float64\n",
      "==========\n",
      "\n",
      "Cluster: 2.0\n",
      "music       0.731034\n",
      "dance       0.417625\n",
      "god         0.415709\n",
      "hair        0.403065\n",
      "shopping    0.323372\n",
      "dtype: float64\n",
      "==========\n",
      "\n",
      "Cluster: 3.0\n",
      "music         0.773333\n",
      "god           0.600000\n",
      "basketball    0.413333\n",
      "shopping      0.400000\n",
      "cute          0.386667\n",
      "dtype: float64\n",
      "==========\n",
      "\n",
      "Cluster: 4.0\n",
      "music    0.789041\n",
      "dance    0.494521\n",
      "hair     0.472603\n",
      "god      0.424658\n",
      "band     0.373973\n",
      "dtype: float64\n",
      "==========\n",
      "\n",
      "Cluster: 5.0\n",
      "music       0.705054\n",
      "god         0.449136\n",
      "dance       0.394114\n",
      "hair        0.378119\n",
      "shopping    0.357006\n",
      "dtype: float64\n",
      "==========\n",
      "\n",
      "Cluster: 6.0\n",
      "music       0.776812\n",
      "dance       0.521739\n",
      "hair        0.501449\n",
      "band        0.466667\n",
      "shopping    0.431884\n",
      "dtype: float64\n",
      "==========\n",
      "\n",
      "Cluster: 7.0\n",
      "music       0.739955\n",
      "god         0.472580\n",
      "hair        0.425280\n",
      "dance       0.424438\n",
      "shopping    0.355699\n",
      "dtype: float64\n",
      "==========\n",
      "\n",
      "Cluster: 8.0\n",
      "music    0.680798\n",
      "god      0.571072\n",
      "dance    0.433915\n",
      "hair     0.411471\n",
      "cute     0.364090\n",
      "dtype: float64\n",
      "==========\n",
      "\n"
     ]
    }
   ],
   "source": [
    "## MyKMeans с MiniBatchMyKMeans\n",
    "clf = MiniBatchKmeans(k = 9, random_state = 1234, init = 'random')\n",
    "f(clf)"
   ]
  },
  {
   "cell_type": "code",
   "execution_count": 25,
   "metadata": {
    "scrolled": true
   },
   "outputs": [
    {
     "name": "stdout",
     "output_type": "stream",
     "text": [
      "Cluster: 0.0\n",
      "music    0.631915\n",
      "hair     0.434043\n",
      "god      0.427660\n",
      "dance    0.421277\n",
      "cute     0.363830\n",
      "dtype: float64\n",
      "==========\n",
      "\n",
      "Cluster: 1.0\n",
      "music       0.715909\n",
      "god         0.447727\n",
      "shopping    0.388636\n",
      "hair        0.379545\n",
      "band        0.356818\n",
      "dtype: float64\n",
      "==========\n",
      "\n",
      "Cluster: 2.0\n",
      "music       0.705216\n",
      "god         0.446200\n",
      "dance       0.432489\n",
      "hair        0.393741\n",
      "shopping    0.347243\n",
      "dtype: float64\n",
      "==========\n",
      "\n",
      "Cluster: 3.0\n",
      "band        6.0\n",
      "church      3.0\n",
      "football    2.0\n",
      "music       2.0\n",
      "god         2.0\n",
      "dtype: float64\n",
      "==========\n",
      "\n",
      "Cluster: 4.0\n",
      "music       0.745723\n",
      "god         0.471460\n",
      "hair        0.428142\n",
      "dance       0.425855\n",
      "shopping    0.353743\n",
      "dtype: float64\n",
      "==========\n",
      "\n",
      "Cluster: 5.0\n",
      "music       0.761155\n",
      "god         0.451444\n",
      "dance       0.426072\n",
      "hair        0.412948\n",
      "shopping    0.334208\n",
      "dtype: float64\n",
      "==========\n",
      "\n",
      "Cluster: 6.0\n",
      "music       0.753181\n",
      "god         0.384224\n",
      "shopping    0.381679\n",
      "dance       0.376590\n",
      "hair        0.368957\n",
      "dtype: float64\n",
      "==========\n",
      "\n",
      "Cluster: 7.0\n",
      "dance       0.7125\n",
      "music       0.7125\n",
      "god         0.6000\n",
      "hair        0.5125\n",
      "shopping    0.3875\n",
      "dtype: float64\n",
      "==========\n",
      "\n",
      "Cluster: 8.0\n",
      "music    0.75000\n",
      "rock     0.37500\n",
      "god      0.37500\n",
      "hair     0.37500\n",
      "sex      0.34375\n",
      "dtype: float64\n",
      "==========\n",
      "\n"
     ]
    }
   ],
   "source": [
    "## MyKMeans++ с MiniBatchMyKMeans\n",
    "clf = MiniBatchKmeans(k = 9, random_state = 100, init = \"k-means\")\n",
    "f(clf)"
   ]
  },
  {
   "cell_type": "code",
   "execution_count": 26,
   "metadata": {},
   "outputs": [],
   "source": [
    "## Вывод\n",
    "# 1) Кластеры MyKMeans мне показались довольно адекватными и схожими с\n",
    "# skilearn- овскими класстерами\n",
    "# 2) Кластеры MyKMeans++ мне показались странными\n",
    "# 3) MiniBatch странно кластеризировал, т.к. везде есть music, но у skilearn тоже в 8 из 9 класстеров\n",
    "#    есть music\n",
    "# 4) В целом все реализации, как мне кажется, показали себя хорошо\n",
    "#\n",
    "#"
   ]
  }
 ],
 "metadata": {
  "anaconda-cloud": {},
  "kernelspec": {
   "display_name": "Python 3",
   "language": "python",
   "name": "python3"
  },
  "language_info": {
   "codemirror_mode": {
    "name": "ipython",
    "version": 3
   },
   "file_extension": ".py",
   "mimetype": "text/x-python",
   "name": "python",
   "nbconvert_exporter": "python",
   "pygments_lexer": "ipython3",
   "version": "3.6.5"
  },
  "nav_menu": {},
  "toc": {
   "navigate_menu": true,
   "number_sections": false,
   "sideBar": true,
   "threshold": 6,
   "toc_cell": false,
   "toc_section_display": "block",
   "toc_window_display": true
  }
 },
 "nbformat": 4,
 "nbformat_minor": 2
}
