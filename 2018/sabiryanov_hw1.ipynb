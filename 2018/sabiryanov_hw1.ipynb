{
 "cells": [
  {
   "cell_type": "markdown",
   "metadata": {},
   "source": [
    "**Общая информация**\n",
    "\n",
    "**Срок сдачи:** 18 октября 2017, 06:00 <br\\>\n",
    "**Штраф за опоздание:** -2 балла после 06:00 18 октября, -4 балла после 06:00 25 октября, -6 баллов после 06:00 1 ноября\n",
    "\n",
    "При отправлении ДЗ указывайте фамилию в названии файла\n",
    "Присылать ДЗ необходимо в виде ссылки на свой github репозиторий в slack @alkhamush\n",
    "\n",
    "Необходимо в slack создать таск в приватный чат:\n",
    "/todo Фамилия Имя ссылка на гитхаб @alkhamush\n",
    "Пример:\n",
    "/todo Ксения Стройкова https://github.com/stroykova/spheremailru/stroykova_hw1.ipynb @alkhamush\n",
    "Дополнительно нужно просто скинуть ссылку в slack в личный чат\n",
    "\n",
    "Используйте данный Ipython Notebook при оформлении домашнего задания."
   ]
  },
  {
   "cell_type": "markdown",
   "metadata": {},
   "source": [
    "###### Задание 1 (2 баллов)\n",
    "Реализовать KNN в классе MyKNeighborsClassifier (обязательное условие: точность не ниже sklearn реализации)\n",
    "Разберитесь самостоятельно, какая мера расстояния используется в KNeighborsClassifier дефолтно и реализуйте свой алгоритм именно с этой мерой. Самостоятельно разберитесь, как считается score из KNeighborsClassifier и реализуйте аналог в своём классе. Score не должен уступать значению KNN из sklearn\n",
    "\n",
    "###### Задание 2 (2 балла)\n",
    "Добиться скорости работы на fit,  predict и predict_proba сравнимой со sklearn для iris и mnist\n",
    "Для этого используем numpy\n",
    "\n",
    "###### Задание 3 (2 балла)\n",
    "Для iris найдите такой параметр n_neighbors, при котором выдаётся наилучший score. Нарисуйте график зависимости score от n_neighbors\n",
    "\n",
    "###### Задание 4 (3 балла)\n",
    "Добавить algorithm='kd_tree' в реализацию KNN (использовать KDTree из sklearn.neighbors). Значение n_neighbors нужно взять из задания 3. Добиться скорости работы на fit,  predict и predict_proba сравнимой со sklearn для iris и mnist\n",
    "Для этого используем numpy. Score не должен уступать значению KNN из sklearn\n",
    "\n",
    "###### Задание 5 (1 балла)\n",
    "Описать для чего нужны следующие библиотеки/классы/функции (список будет ниже)\n",
    "\n",
    "**Штрафные баллы:**\n",
    "\n",
    "1. Невыполнение PEP8 -1 балл\n",
    "2. Отсутствие фамилии в имени скрипта (скрипт должен называться по аналогии со stroykova_hw1.ipynb) -1 балл\n",
    "3. Все строчки должны быть выполнены. Нужно, чтобы output команды можно было увидеть уже в git'е. В противном случае -1 балл\n",
    "4. При оформлении ДЗ нужно пользоваться данным файлом в качестве шаблона. Не нужно удалять и видоизменять структуру кода и текст. В противном случае -1 балл\n"
   ]
  },
  {
   "cell_type": "code",
   "execution_count": 40,
   "metadata": {},
   "outputs": [],
   "source": [
    "import numpy as np\n",
    "import matplotlib.pyplot as plt\n",
    "from collections import Counter\n",
    "import seaborn as sns\n",
    "from sklearn import datasets\n",
    "from sklearn.base import ClassifierMixin\n",
    "from sklearn.datasets import fetch_mldata\n",
    "from sklearn.neighbors.base import NeighborsBase, KNeighborsMixin, SupervisedIntegerMixin \n",
    "from sklearn.model_selection import train_test_split\n",
    "from sklearn.neighbors import KNeighborsClassifier, KDTree\n",
    "#%load_ext pycodestyle_magic"
   ]
  },
  {
   "cell_type": "code",
   "execution_count": 41,
   "metadata": {},
   "outputs": [],
   "source": [
    "#%%pycodestyle\n",
    "\n",
    "class MyKNeighborsClassifier(NeighborsBase, KNeighborsMixin, SupervisedIntegerMixin, ClassifierMixin):\n",
    "    \n",
    "    def __init__(self, n_neighbors = 3, algorithm='brute'):\n",
    "        self.neighbors = n_neighbors\n",
    "        self.algorithm = algorithm\n",
    "    \n",
    "    def fit(self, X, y):\n",
    "        self.x_train = np.array(X).astype(float)\n",
    "        self.y_train = np.array(y).astype(int)\n",
    "        self.y_label = np.unique(y)\n",
    "        #self.y_dist = (self.x_train ** 2).sum(axis=1)\n",
    "        if self.algorithm == 'kd_tree':\n",
    "            self.tree = KDTree(self.x_train)\n",
    "    \n",
    "    def predict(self, X):\n",
    "        return self.predict_proba(X).argmax(axis = 1)\n",
    "    \n",
    "    def predict_proba(self, X):\n",
    "        if self.algorithm == 'brute':\n",
    "            return self.pp_brute(X)\n",
    "        if self.algorithm == 'kd_tree':\n",
    "            return self.pp_kd(X)\n",
    "    def score(self, X, y):\n",
    "        return (y == self.predict(X)).sum() / X.shape[0]\n",
    "    \n",
    "    def pp_brute(self, X):\n",
    "        dist = np.array([((self.x_train - X[i]) ** 2).sum(axis = 1) for i in range(np.shape(X)[0])])\n",
    "        neig_arg = np.argsort(dist)[:, :self.neighbors]\n",
    "        otvet = np.zeros((X.shape[0], self.y_label.shape[0]))\n",
    "        for i in range(X.shape[0]):\n",
    "            for j in neig_arg[i]:\n",
    "                otvet[i, int(self.y_train[j])] += 1\n",
    "        return otvet / self.neighbors\n",
    "        \n",
    "      \n",
    "    def pp_kd(self, X):\n",
    "        X = X.astype(float)\n",
    "        dist, k_pred = self.tree.query(X, k=self.neighbors)\n",
    "        predict = np.zeros((np.shape(X)[0], np.shape(self.y_label)[0]))\n",
    "        for i in range(np.shape(k_pred)[0]):\n",
    "            for j in k_pred[i]:\n",
    "                predict[i][int(self.y_train[j])] += 1\n",
    "        return predict / self.neighbors\n",
    "            \n",
    "            \n",
    "            \n",
    "            \n",
    "            "
   ]
  },
  {
   "cell_type": "markdown",
   "metadata": {},
   "source": [
    "**IRIS**"
   ]
  },
  {
   "cell_type": "code",
   "execution_count": 42,
   "metadata": {},
   "outputs": [],
   "source": [
    "iris = datasets.load_iris()"
   ]
  },
  {
   "cell_type": "code",
   "execution_count": 43,
   "metadata": {},
   "outputs": [],
   "source": [
    "X_train, X_test, y_train, y_test = train_test_split(iris.data, iris.target, test_size=0.1, stratify=iris.target)"
   ]
  },
  {
   "cell_type": "code",
   "execution_count": 44,
   "metadata": {},
   "outputs": [],
   "source": [
    "clf = KNeighborsClassifier(n_neighbors=2)\n",
    "my_clf = MyKNeighborsClassifier(n_neighbors=2)"
   ]
  },
  {
   "cell_type": "code",
   "execution_count": 45,
   "metadata": {},
   "outputs": [
    {
     "name": "stdout",
     "output_type": "stream",
     "text": [
      "CPU times: user 1.52 ms, sys: 0 ns, total: 1.52 ms\n",
      "Wall time: 1.22 ms\n"
     ]
    },
    {
     "data": {
      "text/plain": [
       "KNeighborsClassifier(algorithm='auto', leaf_size=30, metric='minkowski',\n",
       "           metric_params=None, n_jobs=1, n_neighbors=2, p=2,\n",
       "           weights='uniform')"
      ]
     },
     "execution_count": 45,
     "metadata": {},
     "output_type": "execute_result"
    }
   ],
   "source": [
    "%time clf.fit(X_train, y_train)"
   ]
  },
  {
   "cell_type": "code",
   "execution_count": 46,
   "metadata": {},
   "outputs": [
    {
     "name": "stdout",
     "output_type": "stream",
     "text": [
      "CPU times: user 281 µs, sys: 29 µs, total: 310 µs\n",
      "Wall time: 391 µs\n"
     ]
    }
   ],
   "source": [
    "%time my_clf.fit(X_train, y_train)"
   ]
  },
  {
   "cell_type": "code",
   "execution_count": 47,
   "metadata": {},
   "outputs": [
    {
     "name": "stdout",
     "output_type": "stream",
     "text": [
      "CPU times: user 735 µs, sys: 76 µs, total: 811 µs\n",
      "Wall time: 620 µs\n"
     ]
    },
    {
     "data": {
      "text/plain": [
       "array([0, 0, 1, 2, 2, 0, 0, 1, 2, 2, 2, 2, 1, 1, 0])"
      ]
     },
     "execution_count": 47,
     "metadata": {},
     "output_type": "execute_result"
    }
   ],
   "source": [
    "%time clf.predict(X_test)"
   ]
  },
  {
   "cell_type": "code",
   "execution_count": 48,
   "metadata": {
    "scrolled": true
   },
   "outputs": [
    {
     "name": "stdout",
     "output_type": "stream",
     "text": [
      "CPU times: user 812 µs, sys: 83 µs, total: 895 µs\n",
      "Wall time: 629 µs\n"
     ]
    },
    {
     "data": {
      "text/plain": [
       "array([0, 0, 1, 2, 2, 0, 0, 1, 2, 2, 2, 2, 1, 1, 0])"
      ]
     },
     "execution_count": 48,
     "metadata": {},
     "output_type": "execute_result"
    }
   ],
   "source": [
    "%time my_clf.predict(X_test)"
   ]
  },
  {
   "cell_type": "code",
   "execution_count": 49,
   "metadata": {},
   "outputs": [
    {
     "name": "stdout",
     "output_type": "stream",
     "text": [
      "CPU times: user 792 µs, sys: 0 ns, total: 792 µs\n",
      "Wall time: 801 µs\n"
     ]
    },
    {
     "data": {
      "text/plain": [
       "array([[1., 0., 0.],\n",
       "       [1., 0., 0.],\n",
       "       [0., 1., 0.],\n",
       "       [0., 0., 1.],\n",
       "       [0., 0., 1.],\n",
       "       [1., 0., 0.],\n",
       "       [1., 0., 0.],\n",
       "       [0., 1., 0.],\n",
       "       [0., 0., 1.],\n",
       "       [0., 0., 1.],\n",
       "       [0., 0., 1.],\n",
       "       [0., 0., 1.],\n",
       "       [0., 1., 0.],\n",
       "       [0., 1., 0.],\n",
       "       [1., 0., 0.]])"
      ]
     },
     "execution_count": 49,
     "metadata": {},
     "output_type": "execute_result"
    }
   ],
   "source": [
    "%time clf.predict_proba(X_test)"
   ]
  },
  {
   "cell_type": "code",
   "execution_count": 50,
   "metadata": {},
   "outputs": [
    {
     "name": "stdout",
     "output_type": "stream",
     "text": [
      "CPU times: user 2.31 ms, sys: 0 ns, total: 2.31 ms\n",
      "Wall time: 2.12 ms\n"
     ]
    },
    {
     "data": {
      "text/plain": [
       "array([[1., 0., 0.],\n",
       "       [1., 0., 0.],\n",
       "       [0., 1., 0.],\n",
       "       [0., 0., 1.],\n",
       "       [0., 0., 1.],\n",
       "       [1., 0., 0.],\n",
       "       [1., 0., 0.],\n",
       "       [0., 1., 0.],\n",
       "       [0., 0., 1.],\n",
       "       [0., 0., 1.],\n",
       "       [0., 0., 1.],\n",
       "       [0., 0., 1.],\n",
       "       [0., 1., 0.],\n",
       "       [0., 1., 0.],\n",
       "       [1., 0., 0.]])"
      ]
     },
     "execution_count": 50,
     "metadata": {},
     "output_type": "execute_result"
    }
   ],
   "source": [
    "%time my_clf.predict_proba(X_test)"
   ]
  },
  {
   "cell_type": "code",
   "execution_count": 51,
   "metadata": {},
   "outputs": [
    {
     "data": {
      "text/plain": [
       "0.9333333333333333"
      ]
     },
     "execution_count": 51,
     "metadata": {},
     "output_type": "execute_result"
    }
   ],
   "source": [
    "clf.score(X_test, y_test)"
   ]
  },
  {
   "cell_type": "code",
   "execution_count": 52,
   "metadata": {},
   "outputs": [
    {
     "data": {
      "text/plain": [
       "0.9333333333333333"
      ]
     },
     "execution_count": 52,
     "metadata": {},
     "output_type": "execute_result"
    }
   ],
   "source": [
    "my_clf.score(X_test, y_test)"
   ]
  },
  {
   "cell_type": "markdown",
   "metadata": {},
   "source": [
    "Задание 3"
   ]
  },
  {
   "cell_type": "code",
   "execution_count": 53,
   "metadata": {},
   "outputs": [
    {
     "name": "stdout",
     "output_type": "stream",
     "text": [
      "Sklearn n_neighbors =  18\n",
      "My n_neighbors =  18\n"
     ]
    },
    {
     "data": {
      "image/png": "[encoded data removed]",
      "text/plain": [
       "<Figure size 432x288 with 1 Axes>"
      ]
     },
     "metadata": {},
     "output_type": "display_data"
    }
   ],
   "source": [
    "from sklearn.metrics import accuracy_score\n",
    "\n",
    "kol = 200\n",
    "neighbors = range(1, 30)\n",
    "errors_stand = []\n",
    "errors_my = []\n",
    "for k in neighbors:\n",
    "    er_stand_std = 0\n",
    "    er_my_std = 0\n",
    "    for i in range(kol):\n",
    "        X_train, X_test, y_train, y_test = train_test_split(iris.data, iris.target, test_size=0.1, stratify=iris.target)\n",
    "        knt = KNeighborsClassifier(n_neighbors=k)\n",
    "        my_knt = MyKNeighborsClassifier(n_neighbors=k)\n",
    "        knt.fit(X_train, y_train)\n",
    "        my_knt.fit(X_train, y_train)\n",
    "        er_stand_std = er_stand_std + accuracy_score(knt.predict(X_test), y_test)\n",
    "        er_my_std = er_my_std + accuracy_score(my_knt.predict(X_test), y_test)\n",
    "    errors_stand.append(er_stand_std/kol)\n",
    "    errors_my.append(er_my_std/kol)\n",
    "\n",
    "plt.plot(neighbors, errors_stand, color='blue')\n",
    "plt.plot(neighbors, errors_my, color='red')\n",
    "print(\"Sklearn n_neighbors = \", errors_stand.index(max(errors_stand)))\n",
    "print(\"My n_neighbors = \", errors_my.index(max(errors_my)))\n"
   ]
  },
  {
   "cell_type": "markdown",
   "metadata": {},
   "source": [
    "**MNIST**"
   ]
  },
  {
   "cell_type": "code",
   "execution_count": 54,
   "metadata": {},
   "outputs": [],
   "source": [
    "mnist = fetch_mldata('MNIST original')"
   ]
  },
  {
   "cell_type": "code",
   "execution_count": 55,
   "metadata": {},
   "outputs": [],
   "source": [
    "X_train, X_test, y_train, y_test = train_test_split(mnist.data, mnist.target, test_size=0.01, stratify=mnist.target)"
   ]
  },
  {
   "cell_type": "code",
   "execution_count": 56,
   "metadata": {},
   "outputs": [],
   "source": [
    "clf = KNeighborsClassifier(n_neighbors=2)\n",
    "my_clf = MyKNeighborsClassifier(n_neighbors=2)"
   ]
  },
  {
   "cell_type": "code",
   "execution_count": 57,
   "metadata": {},
   "outputs": [
    {
     "name": "stdout",
     "output_type": "stream",
     "text": [
      "CPU times: user 25.5 s, sys: 186 ms, total: 25.7 s\n",
      "Wall time: 25.6 s\n"
     ]
    },
    {
     "data": {
      "text/plain": [
       "KNeighborsClassifier(algorithm='auto', leaf_size=30, metric='minkowski',\n",
       "           metric_params=None, n_jobs=1, n_neighbors=2, p=2,\n",
       "           weights='uniform')"
      ]
     },
     "execution_count": 57,
     "metadata": {},
     "output_type": "execute_result"
    }
   ],
   "source": [
    "%time clf.fit(X_train, y_train)"
   ]
  },
  {
   "cell_type": "code",
   "execution_count": 58,
   "metadata": {},
   "outputs": [
    {
     "name": "stdout",
     "output_type": "stream",
     "text": [
      "CPU times: user 471 ms, sys: 163 ms, total: 635 ms\n",
      "Wall time: 212 ms\n"
     ]
    }
   ],
   "source": [
    "%time my_clf.fit(X_train, y_train)"
   ]
  },
  {
   "cell_type": "code",
   "execution_count": 59,
   "metadata": {},
   "outputs": [
    {
     "name": "stdout",
     "output_type": "stream",
     "text": [
      "CPU times: user 1min 10s, sys: 43.7 ms, total: 1min 10s\n",
      "Wall time: 1min 10s\n"
     ]
    },
    {
     "data": {
      "text/plain": [
       "array([5., 3., 8., 5., 9., 2., 7., 1., 0., 6., 1., 5., 5., 6., 7., 3., 9.,\n",
       "       5., 7., 7., 6., 0., 4., 1., 7., 7., 8., 4., 1., 0., 0., 4., 9., 7.,\n",
       "       5., 5., 2., 0., 4., 2., 2., 4., 7., 7., 8., 0., 0., 8., 1., 2., 6.,\n",
       "       1., 1., 4., 3., 3., 0., 7., 2., 9., 0., 3., 5., 7., 6., 4., 2., 5.,\n",
       "       6., 4., 8., 4., 3., 2., 9., 9., 0., 0., 4., 7., 8., 7., 9., 6., 6.,\n",
       "       4., 1., 4., 2., 0., 2., 1., 1., 6., 1., 2., 1., 8., 7., 1., 1., 7.,\n",
       "       4., 7., 5., 4., 9., 7., 2., 2., 5., 5., 3., 3., 8., 5., 4., 0., 7.,\n",
       "       0., 0., 5., 9., 6., 3., 1., 9., 9., 4., 4., 2., 9., 3., 0., 6., 8.,\n",
       "       6., 6., 2., 6., 8., 6., 5., 7., 7., 9., 9., 0., 8., 8., 6., 9., 6.,\n",
       "       5., 1., 5., 7., 7., 1., 3., 7., 1., 6., 0., 5., 2., 6., 7., 6., 0.,\n",
       "       3., 5., 9., 0., 6., 0., 1., 1., 8., 9., 2., 3., 4., 4., 9., 9., 9.,\n",
       "       2., 4., 1., 3., 7., 9., 7., 4., 5., 1., 4., 3., 3., 1., 3., 2., 5.,\n",
       "       0., 7., 9., 1., 6., 6., 8., 3., 0., 0., 7., 6., 6., 2., 0., 9., 4.,\n",
       "       4., 4., 9., 2., 2., 3., 6., 2., 1., 1., 2., 1., 5., 0., 7., 8., 1.,\n",
       "       7., 9., 9., 5., 1., 3., 4., 5., 0., 7., 5., 5., 0., 7., 4., 0., 2.,\n",
       "       5., 2., 0., 8., 0., 4., 4., 1., 6., 2., 4., 4., 8., 9., 0., 6., 5.,\n",
       "       7., 0., 2., 0., 3., 0., 6., 7., 3., 0., 8., 6., 0., 9., 6., 8., 5.,\n",
       "       3., 9., 6., 0., 3., 2., 5., 5., 1., 2., 9., 0., 2., 0., 1., 5., 0.,\n",
       "       2., 7., 7., 8., 2., 2., 7., 3., 7., 2., 9., 8., 5., 0., 4., 1., 1.,\n",
       "       8., 1., 4., 9., 3., 0., 5., 8., 6., 2., 1., 5., 9., 8., 8., 9., 8.,\n",
       "       1., 8., 6., 3., 0., 7., 0., 1., 7., 8., 2., 1., 2., 5., 1., 4., 9.,\n",
       "       3., 5., 6., 5., 9., 1., 5., 6., 9., 2., 1., 4., 9., 1., 2., 9., 6.,\n",
       "       7., 6., 9., 3., 6., 3., 7., 1., 3., 9., 3., 3., 2., 3., 3., 1., 9.,\n",
       "       3., 6., 7., 6., 5., 1., 8., 1., 3., 2., 8., 1., 4., 7., 4., 6., 4.,\n",
       "       1., 4., 4., 9., 1., 6., 3., 7., 2., 8., 7., 7., 6., 4., 5., 9., 0.,\n",
       "       2., 8., 3., 9., 6., 7., 9., 1., 0., 3., 6., 1., 1., 6., 3., 2., 6.,\n",
       "       8., 7., 5., 7., 4., 8., 6., 1., 8., 5., 3., 5., 3., 7., 0., 3., 8.,\n",
       "       2., 9., 5., 4., 0., 2., 3., 7., 3., 2., 1., 3., 8., 4., 8., 7., 4.,\n",
       "       8., 3., 9., 1., 1., 9., 8., 5., 8., 9., 2., 6., 8., 7., 8., 6., 5.,\n",
       "       5., 3., 1., 6., 4., 2., 7., 4., 4., 4., 2., 8., 2., 9., 7., 3., 7.,\n",
       "       2., 4., 9., 3., 0., 1., 5., 7., 7., 9., 7., 9., 1., 0., 5., 4., 1.,\n",
       "       0., 4., 1., 8., 1., 8., 7., 8., 0., 2., 2., 7., 2., 2., 6., 9., 2.,\n",
       "       7., 8., 8., 1., 5., 9., 9., 3., 4., 3., 7., 8., 8., 9., 0., 4., 8.,\n",
       "       9., 1., 1., 1., 3., 2., 4., 3., 0., 6., 6., 3., 5., 1., 1., 0., 6.,\n",
       "       0., 4., 3., 0., 1., 0., 5., 1., 0., 2., 5., 4., 3., 8., 5., 3., 7.,\n",
       "       2., 0., 8., 2., 6., 4., 0., 1., 4., 6., 8., 0., 1., 2., 5., 3., 1.,\n",
       "       2., 1., 8., 5., 3., 4., 8., 9., 3., 6., 6., 8., 7., 9., 3., 5., 3.,\n",
       "       4., 9., 2., 9., 6., 7., 6., 3., 9., 0., 7., 8., 6., 0., 7., 5., 7.,\n",
       "       7., 9., 6., 4., 7., 5., 3., 8., 1., 3., 9., 8., 8., 4., 0., 3., 2.,\n",
       "       0., 5., 6., 3., 4., 4., 1., 6., 2., 4., 6., 0., 3., 1., 2., 6., 2.,\n",
       "       0., 5., 3., 9., 1., 5., 5., 5., 8., 1., 8., 4., 3., 9., 4., 2., 8.,\n",
       "       7., 6., 7.])"
      ]
     },
     "execution_count": 59,
     "metadata": {},
     "output_type": "execute_result"
    }
   ],
   "source": [
    "%time clf.predict(X_test)"
   ]
  },
  {
   "cell_type": "code",
   "execution_count": 60,
   "metadata": {},
   "outputs": [
    {
     "name": "stdout",
     "output_type": "stream",
     "text": [
      "CPU times: user 10min 6s, sys: 1min 29s, total: 11min 36s\n",
      "Wall time: 3min 30s\n"
     ]
    },
    {
     "data": {
      "text/plain": [
       "array([5, 3, 8, 5, 9, 2, 7, 1, 0, 6, 1, 5, 5, 6, 7, 3, 9, 5, 7, 7, 6, 0,\n",
       "       4, 1, 7, 7, 8, 4, 1, 0, 0, 4, 9, 7, 5, 5, 2, 0, 4, 2, 2, 4, 7, 7,\n",
       "       8, 0, 0, 8, 1, 2, 6, 1, 1, 4, 3, 3, 0, 7, 2, 9, 0, 3, 5, 7, 6, 4,\n",
       "       2, 5, 6, 4, 8, 4, 3, 2, 9, 9, 0, 0, 4, 7, 8, 7, 9, 6, 6, 4, 1, 4,\n",
       "       2, 0, 2, 1, 1, 6, 1, 2, 1, 8, 7, 1, 1, 7, 4, 7, 5, 4, 9, 7, 2, 2,\n",
       "       5, 5, 3, 3, 8, 5, 4, 0, 7, 0, 0, 5, 9, 6, 3, 1, 9, 9, 4, 4, 2, 9,\n",
       "       3, 0, 6, 8, 6, 6, 2, 6, 8, 6, 5, 7, 7, 9, 9, 0, 8, 8, 6, 9, 6, 5,\n",
       "       1, 5, 7, 7, 1, 3, 7, 1, 6, 0, 5, 2, 6, 7, 6, 0, 3, 5, 9, 0, 6, 0,\n",
       "       1, 1, 8, 9, 2, 3, 4, 4, 9, 9, 9, 2, 4, 1, 3, 7, 9, 7, 4, 5, 1, 4,\n",
       "       3, 3, 1, 3, 2, 5, 0, 7, 9, 1, 6, 6, 8, 3, 0, 0, 7, 6, 6, 2, 0, 9,\n",
       "       4, 4, 4, 9, 2, 2, 3, 6, 2, 1, 1, 2, 1, 5, 0, 7, 8, 1, 7, 9, 9, 5,\n",
       "       1, 3, 4, 5, 0, 7, 5, 5, 0, 7, 4, 0, 2, 5, 2, 0, 8, 0, 4, 4, 1, 6,\n",
       "       2, 4, 4, 8, 9, 0, 6, 5, 7, 0, 2, 0, 3, 0, 6, 7, 3, 0, 8, 6, 0, 9,\n",
       "       6, 8, 5, 3, 9, 6, 0, 3, 2, 5, 5, 1, 2, 9, 0, 2, 0, 1, 5, 0, 2, 7,\n",
       "       7, 8, 2, 2, 7, 3, 7, 2, 9, 8, 5, 0, 4, 1, 1, 8, 1, 4, 9, 3, 0, 5,\n",
       "       8, 6, 2, 1, 5, 9, 8, 8, 9, 8, 1, 8, 6, 3, 0, 7, 0, 1, 7, 8, 2, 1,\n",
       "       2, 5, 1, 4, 9, 3, 5, 6, 5, 9, 1, 5, 6, 9, 2, 1, 4, 9, 1, 2, 9, 6,\n",
       "       7, 6, 9, 3, 6, 3, 7, 1, 3, 9, 3, 3, 2, 3, 3, 1, 9, 3, 6, 7, 6, 5,\n",
       "       1, 8, 1, 3, 2, 8, 1, 4, 7, 4, 6, 4, 1, 4, 4, 9, 1, 6, 3, 7, 2, 8,\n",
       "       7, 7, 6, 4, 5, 9, 0, 2, 8, 3, 9, 6, 7, 9, 1, 0, 3, 6, 1, 1, 6, 3,\n",
       "       2, 6, 8, 7, 5, 7, 4, 8, 6, 1, 8, 5, 3, 5, 3, 7, 0, 3, 8, 2, 9, 5,\n",
       "       4, 0, 2, 3, 7, 3, 2, 1, 3, 8, 4, 8, 7, 4, 8, 3, 9, 1, 1, 9, 8, 5,\n",
       "       8, 9, 2, 6, 8, 7, 8, 6, 5, 5, 3, 1, 6, 4, 2, 7, 4, 4, 4, 2, 8, 2,\n",
       "       9, 7, 3, 7, 2, 4, 9, 3, 0, 1, 5, 7, 7, 9, 7, 9, 1, 0, 5, 4, 1, 0,\n",
       "       4, 1, 8, 1, 8, 7, 8, 0, 2, 2, 7, 2, 2, 6, 9, 2, 7, 8, 8, 1, 5, 9,\n",
       "       9, 3, 4, 3, 7, 8, 8, 9, 0, 4, 8, 9, 1, 1, 1, 3, 2, 4, 3, 0, 6, 6,\n",
       "       3, 5, 1, 1, 0, 6, 0, 4, 3, 0, 1, 0, 5, 1, 0, 2, 5, 4, 3, 8, 5, 3,\n",
       "       7, 2, 0, 8, 2, 6, 4, 0, 1, 4, 6, 8, 0, 1, 2, 5, 3, 1, 2, 1, 8, 5,\n",
       "       3, 4, 8, 9, 3, 6, 6, 8, 7, 9, 3, 5, 3, 4, 9, 2, 9, 6, 7, 6, 3, 9,\n",
       "       0, 7, 8, 6, 0, 7, 5, 7, 7, 9, 6, 4, 7, 5, 3, 8, 1, 3, 9, 8, 8, 4,\n",
       "       0, 3, 2, 0, 5, 6, 3, 4, 4, 1, 6, 2, 4, 6, 0, 3, 1, 2, 6, 2, 0, 5,\n",
       "       3, 9, 1, 5, 5, 5, 8, 1, 8, 4, 3, 9, 4, 2, 8, 7, 6, 7])"
      ]
     },
     "execution_count": 60,
     "metadata": {},
     "output_type": "execute_result"
    }
   ],
   "source": [
    "%time my_clf.predict(X_test)"
   ]
  },
  {
   "cell_type": "code",
   "execution_count": 61,
   "metadata": {},
   "outputs": [
    {
     "name": "stdout",
     "output_type": "stream",
     "text": [
      "CPU times: user 1min 12s, sys: 22 ms, total: 1min 12s\n",
      "Wall time: 1min 12s\n"
     ]
    },
    {
     "data": {
      "text/plain": [
       "array([[0., 0., 0., ..., 0., 0., 0.],\n",
       "       [0., 0., 0., ..., 0., 0., 0.],\n",
       "       [0., 0., 0., ..., 0., 1., 0.],\n",
       "       ...,\n",
       "       [0., 0., 0., ..., 1., 0., 0.],\n",
       "       [0., 0., 0., ..., 0., 0., 0.],\n",
       "       [0., 0., 0., ..., 1., 0., 0.]])"
      ]
     },
     "execution_count": 61,
     "metadata": {},
     "output_type": "execute_result"
    }
   ],
   "source": [
    "%time clf.predict_proba(X_test)"
   ]
  },
  {
   "cell_type": "code",
   "execution_count": 62,
   "metadata": {},
   "outputs": [
    {
     "name": "stdout",
     "output_type": "stream",
     "text": [
      "CPU times: user 10min, sys: 1min 30s, total: 11min 31s\n",
      "Wall time: 3min 33s\n"
     ]
    },
    {
     "data": {
      "text/plain": [
       "array([[0., 0., 0., ..., 0., 0., 0.],\n",
       "       [0., 0., 0., ..., 0., 0., 0.],\n",
       "       [0., 0., 0., ..., 0., 1., 0.],\n",
       "       ...,\n",
       "       [0., 0., 0., ..., 1., 0., 0.],\n",
       "       [0., 0., 0., ..., 0., 0., 0.],\n",
       "       [0., 0., 0., ..., 1., 0., 0.]])"
      ]
     },
     "execution_count": 62,
     "metadata": {},
     "output_type": "execute_result"
    }
   ],
   "source": [
    "%time my_clf.predict_proba(X_test)"
   ]
  },
  {
   "cell_type": "code",
   "execution_count": 63,
   "metadata": {},
   "outputs": [
    {
     "data": {
      "text/plain": [
       "0.9871428571428571"
      ]
     },
     "execution_count": 63,
     "metadata": {},
     "output_type": "execute_result"
    }
   ],
   "source": [
    "clf.score(X_test, y_test)"
   ]
  },
  {
   "cell_type": "code",
   "execution_count": 64,
   "metadata": {},
   "outputs": [
    {
     "data": {
      "text/plain": [
       "0.9871428571428571"
      ]
     },
     "execution_count": 64,
     "metadata": {},
     "output_type": "execute_result"
    }
   ],
   "source": [
    "my_clf.score(X_test, y_test)"
   ]
  },
  {
   "cell_type": "markdown",
   "metadata": {},
   "source": [
    "Задание 4"
   ]
  },
  {
   "cell_type": "code",
   "execution_count": 65,
   "metadata": {},
   "outputs": [],
   "source": [
    "clf = KNeighborsClassifier(n_neighbors=2, algorithm='kd_tree')\n",
    "my_clf = MyKNeighborsClassifier(n_neighbors=2, algorithm='kd_tree')"
   ]
  },
  {
   "cell_type": "code",
   "execution_count": 66,
   "metadata": {},
   "outputs": [],
   "source": [
    "X_train, X_test, y_train, y_test = train_test_split(mnist.data, mnist.target, test_size=0.01, stratify=mnist.target)"
   ]
  },
  {
   "cell_type": "code",
   "execution_count": 67,
   "metadata": {},
   "outputs": [
    {
     "name": "stdout",
     "output_type": "stream",
     "text": [
      "CPU times: user 23.3 s, sys: 171 ms, total: 23.5 s\n",
      "Wall time: 23.4 s\n"
     ]
    },
    {
     "data": {
      "text/plain": [
       "KNeighborsClassifier(algorithm='kd_tree', leaf_size=30, metric='minkowski',\n",
       "           metric_params=None, n_jobs=1, n_neighbors=2, p=2,\n",
       "           weights='uniform')"
      ]
     },
     "execution_count": 67,
     "metadata": {},
     "output_type": "execute_result"
    }
   ],
   "source": [
    "%time clf.fit(X_train, y_train)"
   ]
  },
  {
   "cell_type": "code",
   "execution_count": 68,
   "metadata": {},
   "outputs": [
    {
     "name": "stdout",
     "output_type": "stream",
     "text": [
      "CPU times: user 23.3 s, sys: 205 ms, total: 23.5 s\n",
      "Wall time: 22.9 s\n"
     ]
    }
   ],
   "source": [
    "%time my_clf.fit(X_train, y_train)"
   ]
  },
  {
   "cell_type": "code",
   "execution_count": 69,
   "metadata": {},
   "outputs": [
    {
     "name": "stdout",
     "output_type": "stream",
     "text": [
      "CPU times: user 1min 5s, sys: 25.4 ms, total: 1min 5s\n",
      "Wall time: 1min 5s\n"
     ]
    },
    {
     "data": {
      "text/plain": [
       "array([9., 7., 4., 0., 8., 2., 2., 1., 0., 8., 4., 5., 2., 1., 9., 9., 1.,\n",
       "       4., 3., 2., 0., 5., 6., 7., 6., 2., 2., 3., 3., 1., 2., 1., 7., 4.,\n",
       "       5., 7., 2., 5., 6., 2., 8., 9., 7., 7., 4., 4., 1., 5., 5., 6., 2.,\n",
       "       7., 0., 6., 8., 7., 2., 6., 1., 5., 5., 4., 4., 6., 9., 0., 2., 3.,\n",
       "       8., 4., 4., 7., 2., 0., 3., 3., 7., 5., 9., 6., 3., 9., 9., 3., 2.,\n",
       "       2., 9., 9., 0., 6., 7., 7., 4., 3., 8., 9., 6., 0., 1., 9., 4., 4.,\n",
       "       2., 6., 1., 3., 6., 5., 2., 9., 8., 6., 7., 0., 3., 8., 6., 2., 7.,\n",
       "       8., 3., 7., 9., 3., 4., 5., 2., 6., 3., 5., 9., 0., 4., 4., 7., 3.,\n",
       "       8., 1., 3., 2., 4., 8., 1., 6., 5., 0., 8., 3., 1., 6., 6., 5., 6.,\n",
       "       0., 9., 3., 0., 0., 6., 1., 2., 5., 1., 9., 0., 9., 1., 9., 7., 5.,\n",
       "       5., 9., 0., 8., 3., 2., 6., 8., 0., 9., 7., 1., 2., 6., 1., 6., 4.,\n",
       "       4., 1., 8., 4., 8., 6., 7., 2., 6., 0., 1., 2., 7., 6., 9., 4., 6.,\n",
       "       2., 7., 4., 7., 0., 1., 1., 7., 0., 0., 9., 5., 5., 1., 3., 7., 2.,\n",
       "       7., 9., 9., 2., 8., 3., 5., 3., 2., 7., 8., 5., 5., 3., 6., 2., 4.,\n",
       "       7., 8., 6., 1., 2., 7., 6., 5., 6., 3., 9., 9., 7., 9., 7., 7., 8.,\n",
       "       0., 2., 8., 9., 7., 0., 0., 1., 4., 0., 5., 5., 5., 9., 9., 6., 1.,\n",
       "       9., 4., 7., 9., 8., 3., 6., 9., 8., 6., 1., 1., 2., 1., 2., 5., 4.,\n",
       "       3., 5., 6., 3., 6., 1., 3., 5., 6., 6., 5., 2., 3., 1., 6., 8., 6.,\n",
       "       1., 2., 1., 2., 4., 9., 0., 0., 4., 6., 1., 0., 0., 9., 5., 0., 5.,\n",
       "       8., 3., 5., 5., 2., 3., 7., 1., 6., 3., 8., 5., 5., 0., 7., 1., 7.,\n",
       "       9., 1., 6., 3., 4., 0., 9., 5., 2., 2., 4., 3., 2., 5., 6., 4., 6.,\n",
       "       9., 2., 8., 4., 8., 9., 0., 5., 1., 8., 0., 3., 8., 4., 2., 7., 1.,\n",
       "       4., 1., 2., 4., 8., 3., 8., 2., 1., 2., 9., 0., 3., 6., 7., 2., 3.,\n",
       "       0., 0., 9., 3., 3., 7., 4., 0., 4., 4., 0., 0., 5., 5., 1., 3., 0.,\n",
       "       3., 2., 3., 3., 7., 4., 9., 3., 2., 6., 2., 3., 2., 8., 8., 6., 1.,\n",
       "       4., 5., 0., 1., 3., 9., 5., 6., 6., 3., 1., 8., 0., 4., 0., 1., 1.,\n",
       "       7., 8., 3., 4., 6., 4., 2., 6., 4., 1., 2., 8., 3., 1., 7., 6., 7.,\n",
       "       8., 1., 7., 5., 1., 9., 6., 1., 0., 2., 7., 8., 5., 1., 3., 2., 7.,\n",
       "       2., 2., 0., 7., 3., 0., 8., 4., 0., 6., 8., 6., 0., 1., 2., 3., 2.,\n",
       "       6., 7., 6., 9., 0., 8., 1., 2., 3., 2., 0., 1., 5., 9., 9., 2., 9.,\n",
       "       1., 8., 8., 5., 0., 4., 5., 3., 2., 7., 8., 9., 1., 1., 9., 6., 0.,\n",
       "       0., 9., 6., 2., 6., 3., 9., 9., 1., 3., 9., 4., 4., 1., 5., 1., 4.,\n",
       "       4., 7., 2., 3., 8., 9., 5., 0., 3., 4., 2., 9., 2., 2., 0., 8., 0.,\n",
       "       5., 7., 6., 7., 7., 3., 1., 7., 9., 5., 2., 5., 0., 4., 4., 8., 0.,\n",
       "       0., 8., 9., 1., 2., 8., 9., 9., 1., 4., 1., 8., 3., 5., 4., 8., 5.,\n",
       "       7., 8., 1., 7., 7., 1., 6., 2., 8., 6., 0., 3., 7., 1., 1., 8., 8.,\n",
       "       7., 9., 8., 4., 8., 5., 1., 7., 9., 7., 4., 1., 0., 3., 7., 4., 9.,\n",
       "       8., 6., 3., 9., 1., 7., 5., 1., 9., 9., 2., 4., 1., 4., 7., 4., 0.,\n",
       "       7., 2., 5., 3., 5., 8., 1., 8., 8., 0., 9., 1., 4., 2., 7., 0., 7.,\n",
       "       7., 2., 4., 4., 9., 1., 4., 3., 6., 8., 7., 4., 6., 0., 1., 3., 5.,\n",
       "       1., 8., 5., 2., 5., 3., 0., 5., 6., 4., 1., 1., 6., 5., 7., 7., 0.,\n",
       "       6., 8., 3.])"
      ]
     },
     "execution_count": 69,
     "metadata": {},
     "output_type": "execute_result"
    }
   ],
   "source": [
    "%time clf.predict(X_test)"
   ]
  },
  {
   "cell_type": "code",
   "execution_count": 70,
   "metadata": {},
   "outputs": [
    {
     "name": "stdout",
     "output_type": "stream",
     "text": [
      "CPU times: user 55.6 s, sys: 17.2 ms, total: 55.6 s\n",
      "Wall time: 55.6 s\n"
     ]
    },
    {
     "data": {
      "text/plain": [
       "array([9, 7, 4, 0, 8, 2, 2, 1, 0, 8, 4, 5, 2, 1, 9, 9, 1, 4, 3, 2, 0, 5,\n",
       "       6, 7, 6, 2, 2, 3, 3, 1, 2, 1, 7, 4, 5, 7, 2, 5, 6, 2, 8, 9, 7, 7,\n",
       "       4, 4, 1, 5, 5, 6, 2, 7, 0, 6, 8, 7, 2, 6, 1, 5, 5, 4, 4, 6, 9, 0,\n",
       "       2, 3, 8, 4, 4, 7, 2, 0, 3, 3, 7, 5, 9, 6, 3, 9, 9, 3, 2, 2, 9, 9,\n",
       "       0, 6, 7, 7, 4, 3, 8, 9, 6, 0, 1, 9, 4, 4, 2, 6, 1, 3, 6, 5, 2, 9,\n",
       "       8, 6, 7, 0, 3, 8, 6, 2, 7, 8, 3, 7, 9, 3, 4, 5, 2, 6, 3, 5, 9, 0,\n",
       "       4, 4, 7, 3, 8, 1, 3, 2, 4, 8, 1, 6, 5, 0, 8, 3, 1, 6, 6, 5, 6, 0,\n",
       "       9, 3, 0, 0, 6, 1, 2, 5, 1, 9, 0, 9, 1, 9, 7, 5, 5, 9, 0, 8, 3, 2,\n",
       "       6, 8, 0, 9, 7, 1, 2, 6, 1, 6, 4, 4, 1, 8, 4, 8, 6, 7, 2, 6, 0, 1,\n",
       "       2, 7, 6, 9, 4, 6, 2, 7, 4, 7, 0, 1, 1, 7, 0, 0, 9, 5, 5, 1, 3, 7,\n",
       "       2, 7, 9, 9, 2, 8, 3, 5, 3, 2, 7, 8, 5, 5, 3, 6, 2, 4, 7, 8, 6, 1,\n",
       "       2, 7, 6, 5, 6, 3, 9, 9, 7, 9, 7, 7, 8, 0, 2, 8, 9, 7, 0, 0, 1, 4,\n",
       "       0, 5, 5, 5, 9, 9, 6, 1, 9, 4, 7, 9, 8, 3, 6, 9, 8, 6, 1, 1, 2, 1,\n",
       "       2, 5, 4, 3, 5, 6, 3, 6, 1, 3, 5, 6, 6, 5, 2, 3, 1, 6, 8, 6, 1, 2,\n",
       "       1, 2, 4, 9, 0, 0, 4, 6, 1, 0, 0, 9, 5, 0, 5, 8, 3, 5, 5, 2, 3, 7,\n",
       "       1, 6, 3, 8, 5, 5, 0, 7, 1, 7, 9, 1, 6, 3, 4, 0, 9, 5, 2, 2, 4, 3,\n",
       "       2, 5, 6, 4, 6, 9, 2, 8, 4, 8, 9, 0, 5, 1, 8, 0, 3, 8, 4, 2, 7, 1,\n",
       "       4, 1, 2, 4, 8, 3, 8, 2, 1, 2, 9, 0, 3, 6, 7, 2, 3, 0, 0, 9, 3, 3,\n",
       "       7, 4, 0, 4, 4, 0, 0, 5, 5, 1, 3, 0, 3, 2, 3, 3, 7, 4, 9, 3, 2, 6,\n",
       "       2, 3, 2, 8, 8, 6, 1, 4, 5, 0, 1, 3, 9, 5, 6, 6, 3, 1, 8, 0, 4, 0,\n",
       "       1, 1, 7, 8, 3, 4, 6, 4, 2, 6, 4, 1, 2, 8, 3, 1, 7, 6, 7, 8, 1, 7,\n",
       "       5, 1, 9, 6, 1, 0, 2, 7, 8, 5, 1, 3, 2, 7, 2, 2, 0, 7, 3, 0, 8, 4,\n",
       "       0, 6, 8, 6, 0, 1, 2, 3, 2, 6, 7, 6, 9, 0, 8, 1, 2, 3, 2, 0, 1, 5,\n",
       "       9, 9, 2, 9, 1, 8, 8, 5, 0, 4, 5, 3, 2, 7, 8, 9, 1, 1, 9, 6, 0, 0,\n",
       "       9, 6, 2, 6, 3, 9, 9, 1, 3, 9, 4, 4, 1, 5, 1, 4, 4, 7, 2, 3, 8, 9,\n",
       "       5, 0, 3, 4, 2, 9, 2, 2, 0, 8, 0, 5, 7, 6, 7, 7, 3, 1, 7, 9, 5, 2,\n",
       "       5, 0, 4, 4, 8, 0, 0, 8, 9, 1, 2, 8, 9, 9, 1, 4, 1, 8, 3, 5, 4, 8,\n",
       "       5, 7, 8, 1, 7, 7, 1, 6, 2, 8, 6, 0, 3, 7, 1, 1, 8, 8, 7, 9, 8, 4,\n",
       "       8, 5, 1, 7, 9, 7, 4, 1, 0, 3, 7, 4, 9, 8, 6, 3, 9, 1, 7, 5, 1, 9,\n",
       "       9, 2, 4, 1, 4, 7, 4, 0, 7, 2, 5, 3, 5, 8, 1, 8, 8, 0, 9, 1, 4, 2,\n",
       "       7, 0, 7, 7, 2, 4, 4, 9, 1, 4, 3, 6, 8, 7, 4, 6, 0, 1, 3, 5, 1, 8,\n",
       "       5, 2, 5, 3, 0, 5, 6, 4, 1, 1, 6, 5, 7, 7, 0, 6, 8, 3])"
      ]
     },
     "execution_count": 70,
     "metadata": {},
     "output_type": "execute_result"
    }
   ],
   "source": [
    "%time my_clf.predict(X_test)"
   ]
  },
  {
   "cell_type": "code",
   "execution_count": 71,
   "metadata": {},
   "outputs": [
    {
     "name": "stdout",
     "output_type": "stream",
     "text": [
      "CPU times: user 1min 5s, sys: 39.4 ms, total: 1min 5s\n",
      "Wall time: 1min 5s\n"
     ]
    },
    {
     "data": {
      "text/plain": [
       "array([[0., 0., 0., ..., 0., 0., 1.],\n",
       "       [0., 0., 0., ..., 1., 0., 0.],\n",
       "       [0., 0., 0., ..., 0., 0., 0.],\n",
       "       ...,\n",
       "       [0., 0., 0., ..., 0., 0., 0.],\n",
       "       [0., 0., 0., ..., 0., 1., 0.],\n",
       "       [0., 0., 0., ..., 0., 0., 0.]])"
      ]
     },
     "execution_count": 71,
     "metadata": {},
     "output_type": "execute_result"
    }
   ],
   "source": [
    "%time clf.predict_proba(X_test)"
   ]
  },
  {
   "cell_type": "code",
   "execution_count": 72,
   "metadata": {},
   "outputs": [
    {
     "name": "stdout",
     "output_type": "stream",
     "text": [
      "CPU times: user 55.5 s, sys: 47.8 ms, total: 55.5 s\n",
      "Wall time: 55.6 s\n"
     ]
    },
    {
     "data": {
      "text/plain": [
       "array([[0., 0., 0., ..., 0., 0., 1.],\n",
       "       [0., 0., 0., ..., 1., 0., 0.],\n",
       "       [0., 0., 0., ..., 0., 0., 0.],\n",
       "       ...,\n",
       "       [0., 0., 0., ..., 0., 0., 0.],\n",
       "       [0., 0., 0., ..., 0., 1., 0.],\n",
       "       [0., 0., 0., ..., 0., 0., 0.]])"
      ]
     },
     "execution_count": 72,
     "metadata": {},
     "output_type": "execute_result"
    }
   ],
   "source": [
    "%time my_clf.predict_proba(X_test)"
   ]
  },
  {
   "cell_type": "code",
   "execution_count": 73,
   "metadata": {},
   "outputs": [
    {
     "data": {
      "text/plain": [
       "0.9757142857142858"
      ]
     },
     "execution_count": 73,
     "metadata": {},
     "output_type": "execute_result"
    }
   ],
   "source": [
    "clf.score(X_test, y_test)"
   ]
  },
  {
   "cell_type": "code",
   "execution_count": 74,
   "metadata": {},
   "outputs": [
    {
     "data": {
      "text/plain": [
       "0.9757142857142858"
      ]
     },
     "execution_count": 74,
     "metadata": {},
     "output_type": "execute_result"
    }
   ],
   "source": [
    "my_clf.score(X_test, y_test)"
   ]
  },
  {
   "cell_type": "markdown",
   "metadata": {},
   "source": [
    "Задание 5"
   ]
  },
  {
   "cell_type": "code",
   "execution_count": 75,
   "metadata": {},
   "outputs": [],
   "source": [
    "#seaborn\n",
    "# Библиотека для визуализации данных на основе matplotlib\n",
    "\n",
    "# matplotlib\n",
    "# Библиотека для визуализации данных двумерной графикой \n",
    "\n",
    "# train_test_split\n",
    "# Функция разбивающая массивы или матрицы на тренировочную и тестовую выборки.\n",
    "\n",
    "# Pipelin%load_ext e (from sklearn.pipeline import Pipeline)\n",
    "# Позволяет последовательно выполнять список действий над данными.\n",
    "\n",
    "# StandardScaler (from sklearn.preprocessing import StandardScaler)\n",
    "# Приводит распределение к нормальному виду путем удаления среднего значения и пересчета единыцы дисперсии\n",
    "\n",
    "# ClassifierMixin\n",
    "# Базовый класс классификаторов sklearn\n",
    "\n",
    "# NeighborsBase\n",
    "# Базовый класс для KNN в sklearn\n",
    "\n",
    "# KNeighborsMixin\n",
    "# Класс Mixin поиска k - ближайших соседей\n",
    "\n",
    "# SupervisedIntegerMixin\n",
    "# Базовый класс в sklearn, в котором написан метод fit(), который обучает модель \n"
   ]
  }
 ],
 "metadata": {
  "kernelspec": {
   "display_name": "Python 3",
   "language": "python",
   "name": "python3"
  },
  "language_info": {
   "codemirror_mode": {
    "name": "ipython",
    "version": 3
   },
   "file_extension": ".py",
   "mimetype": "text/x-python",
   "name": "python",
   "nbconvert_exporter": "python",
   "pygments_lexer": "ipython3",
   "version": "3.6.5"
  }
 },
 "nbformat": 4,
 "nbformat_minor": 2
}
