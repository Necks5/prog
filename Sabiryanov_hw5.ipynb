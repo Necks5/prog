{
 "cells": [
  {
   "cell_type": "markdown",
   "metadata": {},
   "source": [
    "# Алгоритмы интеллектуальной обработки больших объемов данных\n",
    "## Домашнее задание №5 - Алгоритмы кластеризации\n"
   ]
  },
  {
   "cell_type": "markdown",
   "metadata": {},
   "source": [
    "###### <hr\\>\n",
    "**Общая информация**\n",
    "\n",
    "**Срок сдачи:** 15 декабря 2018, 06:00 <br\\>\n",
    "**Штраф за опоздание:** -2 балла после 06:00 17 декабря, -4 балла после 06:00 24 декабря, -6 баллов после 06:00 31 декабря -8 баллов  после 06:00 7 января\n",
    "\n",
    "\n",
    "Используйте данный Ipython Notebook при оформлении домашнего задания.\n",
    "<hr\\>"
   ]
  },
  {
   "cell_type": "markdown",
   "metadata": {},
   "source": [
    "**Из чего состоит задание:**\n",
    "\n",
    "###### Теоретические вопросы (2 балла)\n",
    "\n",
    "###### Реализация алгоритма кластеризации (6 баллов)\n",
    "\n",
    "###### Боевое применение (2 балла)\n",
    "\n",
    "\n"
   ]
  },
  {
   "cell_type": "markdown",
   "metadata": {},
   "source": [
    "**Штрафные баллы:**\n",
    "\n",
    "1. Невыполнение PEP8 -1 балл\n",
    "2. Отсутствие фамилии в имени скрипта (скрипт должен называться по аналогии со stroykova_hw4.ipynb) -1 балл\n",
    "3. Все строчки должны быть выполнены. Нужно, чтобы output команды можно было увидеть уже в git'е. В противном случае -1 балл\n",
    "4. При оформлении ДЗ нужно пользоваться данным файлом в качестве шаблона. Не нужно удалять и видоизменять написанный код и текст. В противном случае -1 балл"
   ]
  },
  {
   "cell_type": "markdown",
   "metadata": {},
   "source": [
    "# Определяем, что вам досталось"
   ]
  },
  {
   "cell_type": "markdown",
   "metadata": {},
   "source": [
    "Укажите свою фамилию на русском языке в поле ниже."
   ]
  },
  {
   "cell_type": "code",
   "execution_count": 1,
   "metadata": {},
   "outputs": [
    {
     "name": "stdout",
     "output_type": "stream",
     "text": [
      "Имплементируйте алгоритм кластеризации Gaussian Mixture Model с использованием maximum a-posteriori для выбора кластера (параметр - число кластеров)\n"
     ]
    }
   ],
   "source": [
    "import hashlib\n",
    "\n",
    "def lucky_hash(text):\n",
    "    return int(hashlib.md5(text.encode('utf-8')).hexdigest()[:8], 16) \n",
    "\n",
    "USER_NAME = u\"Сабирьянов\".lower()\n",
    "\n",
    "ALGORITHMS = [\n",
    "    u\"Gaussian Mixture Model с использованием maximum a-posteriori для выбора кластера (параметр - число кластеров)\",\n",
    "    u\"Hierarchical clustering с поддержкой single-linkage, complete-linkage, average-linkage (параметры - число кластеров, linkage)\",]\n",
    "\n",
    "print (\"Имплементируйте алгоритм кластеризации %s\"\\\n",
    "% (\n",
    "    ALGORITHMS[lucky_hash(USER_NAME[::-1]) % 2]\n",
    ") )"
   ]
  },
  {
   "cell_type": "markdown",
   "metadata": {},
   "source": [
    "Не стоит переживать из-за Вашего варианта. Технически оба алгоритма несложно реализовать.  EM алгоритма бояться не стоит, Вам будет нужно просто реализовать уже выведенные формулы для E и M шагов."
   ]
  },
  {
   "cell_type": "code",
   "execution_count": 1,
   "metadata": {},
   "outputs": [
    {
     "name": "stdout",
     "output_type": "stream",
     "text": [
      "Populating the interactive namespace from numpy and matplotlib\n"
     ]
    }
   ],
   "source": [
    "import time\n",
    "import pandas as pd\n",
    "import pylab as pl\n",
    "import numpy as np\n",
    "import scipy.spatial as ss\n",
    "import sklearn.cluster as sc\n",
    "import sklearn.manifold as sm\n",
    "import sklearn.datasets as ds\n",
    "import sklearn.metrics as smt\n",
    "from sklearn.mixture import GaussianMixture\n",
    "from sklearn.cluster import AgglomerativeClustering\n",
    "\n",
    "import matplotlib.pyplot as plt\n",
    "\n",
    "%matplotlib inline\n",
    "\n",
    "plt.style.use('ggplot')\n",
    "plt.rcParams['figure.figsize'] = (12,5)\n",
    "\n",
    "# Plotting config\n",
    "%pylab inline"
   ]
  },
  {
   "cell_type": "markdown",
   "metadata": {},
   "source": [
    "# Теоретическое введение\n"
   ]
  },
  {
   "cell_type": "markdown",
   "metadata": {},
   "source": [
    "Основная задача кластерного анализа — разбиение исходного набора объектов на группы (кластеры) таким образом, чтобы объекты в группе были похожи друг на друга, а объекты из разных групп - отличались. \n",
    "\n",
    "В этой работе мы будем реализовывать один из двух популярных методов кластеризации: разделение смеси нормальных распределений или агломеративную кластеризацию. "
   ]
  },
  {
   "cell_type": "markdown",
   "metadata": {
    "collapsed": true
   },
   "source": [
    "## Смесь нормальных распределений\n",
    "\n"
   ]
  },
  {
   "cell_type": "markdown",
   "metadata": {
    "collapsed": true
   },
   "source": [
    "Предполагаем, что наши данные порождены смесью $k$ нормальных распределений, то есть \n",
    "\n",
    "$$ p(\\mathbf{x}) = \\sum_k \\pi_k \\mathcal{N}(\\mathbf{x} | \\mathbf{\\mu}_k, \\mathbf{\\Sigma}_k) $$,\n",
    "\n",
    "\n",
    "где $\\mathcal{N}$ - многомерное нормальное распределение размерности ${D}$:"
   ]
  },
  {
   "cell_type": "markdown",
   "metadata": {
    "collapsed": true
   },
   "source": [
    "$$\\mathcal{N(\\mathbf{x} | \\mathbf{\\mu}, \\mathbf{\\Sigma}}) = \\frac{1}{(2 \\pi)^{D/2}} \\frac{1}{|\\mathbf{\\Sigma}|^{1/2}} \\exp \\left\\{-\\frac{1}{2}(\\mathbf{x} - \\mathbf{\\mu})^T \\mathbf{\\Sigma^{-1}} (\\mathbf{x} - \\mathbf{\\mu})\\right\\}$$\n",
    "\n",
    "**Параметры**  \n",
    "\n",
    "\n",
    "${D}$-мерный вектор средних\n",
    "\n",
    "$$\\mathbf{\\mu}$$\n",
    "\n",
    "$D \\times D$-мерная матрица ковариации   (симметричная)\n",
    "\n",
    "\n",
    "$$\\mathbf{\\Sigma} = E[(\\mathbf{x} - \\mathbf{\\mu})(\\mathbf{x} - \\mathbf{\\mu})^T]$$\n",
    "\n"
   ]
  },
  {
   "cell_type": "markdown",
   "metadata": {
    "collapsed": true
   },
   "source": [
    "Необходимо оценить параметры $\\pi_k, \\mathbf{\\mu_k}, \\mathbf{\\Sigma_k} $ для всех компонент смеси.  Сделать это можно с помощью EM алгоритма - алгоритма, который находит оценку максимального правдоподобия в задаче со скрытыми переменными. "
   ]
  },
  {
   "cell_type": "markdown",
   "metadata": {},
   "source": [
    "## Expectation Maximization\n",
    "\n",
    "**I** До цикла проинциализировать случайно  $\\mu_k, \\Sigma_k, \\pi_k$ ($\\pi_k$ должны суммироваться в 1)\n",
    "\n",
    "**E** Expectation: при фиксированных $\\mu_k, \\Sigma_k, \\pi_k$\n",
    "$$\n",
    "p(z_k = 1| x_n ) = \\gamma(z_{nk}) = \\frac{\\pi_k \\mathcal{N} (\\mathbf{x}_n | \\mu_k, \\Sigma_k)}{\\sum_{j=1}^K \\pi_j \\mathcal{N} (\\mathbf{x}_n | \\mu_j, \\Sigma_j)}\n",
    "$$\n",
    "**M** Maximization: при фиксированных $\\gamma(z_{nk})$\n",
    "$$\n",
    "N_k = \\sum_{n=1}^N \\gamma(z_{nk}), \\;\\; \\mu_k = \\frac 1 {N_k} \\sum_{n=1}^N \\gamma(z_{nk}) \\mathbf{x}_n\n",
    "$$\n",
    "$$\n",
    "\\Sigma_k = \\frac 1 {N_k} \\sum_{n=1}^N \\gamma(z_{nk}) (\\mathbf{x}_n - \\mu_k)(\\mathbf{x}_n - \\mu_k)^T\n",
    "$$\n",
    "$$\n",
    "\\pi_k = \\frac{N_k}{N}\n",
    "$$\n",
    "**S** Остановиться при достижении сходимости"
   ]
  },
  {
   "cell_type": "markdown",
   "metadata": {},
   "source": [
    "Номер кластера для $n$ объекта будем брать по принципу maximum a-posteriori, то есть относить объект к тому кластеру, у которого максимальна апостериорная вероятность:\n",
    "$$ k_n =  \\arg\\underset{k}\\max  p(z_k = 1| x_n ) =  \\arg\\underset{k}\\max \\gamma(z_{nk}) $$"
   ]
  },
  {
   "cell_type": "markdown",
   "metadata": {
    "collapsed": true
   },
   "source": [
    "## Агломеративная кластеризация"
   ]
  },
  {
   "cell_type": "markdown",
   "metadata": {},
   "source": [
    "Иерархические алгоритмы кластеризации строят на выборке систему вложенных разбиений.  Наиболее часто испоьзуемые иерархические алгоритмы - агломеративные алгоритмы, которые строят ирархию по восходящей, то есть от момента, когда все элементы являются отдельными кластерами, до того момента, пока вся выборка не станет одним кластером."
   ]
  },
  {
   "cell_type": "markdown",
   "metadata": {},
   "source": [
    "Сам алгоритм описать можно примерно так:\n",
    "\n",
    "* начинаем с ситуации, когда каждый объект - отдельный кластер\n",
    "* на каждом шаге совмещаем два наиболее близких кластера\n",
    "* останавливаемся, когда получаем требуемое количество или единственный кластер"
   ]
  },
  {
   "cell_type": "markdown",
   "metadata": {},
   "source": [
    "\n",
    "В данной работе Вам предлагается реализовать три варианта расстояний между кластерами, по которым Вы определяете пару для слияния: \n",
    "* Single linkage\n",
    "$$ d_{min}(C_i, C_j) = \\min_{\\mathbf{x} \\in C_i, \\mathbf{x}' \\in C_j} \\|\\mathbf{x} -\\mathbf{x}' \\| $$\n",
    "\n",
    "* Complete linkage\n",
    "$$ d_{max}(C_i, C_j) = \\max_{\\mathbf{x} \\in C_i, \\mathbf{x}' \\in C_j} \\|\\mathbf{x} -\\mathbf{x}' \\| $$\n",
    "\n",
    "* Average linkage\n",
    "$$ d_{avg}(C_i, C_j) = \\frac{1}{n_i n_j}\\sum_{\\mathbf{x} \\in C_i}\\sum_{\\mathbf{x}' \\in C_j} \\|\\mathbf{x} -\\mathbf{x}' \\| $$\n",
    "\n",
    "Для простоты будем использовать евклидово расстояние между объектами.\n",
    "\n"
   ]
  },
  {
   "cell_type": "markdown",
   "metadata": {},
   "source": [
    "Для того, чтобы на втором этапе нам не пересчитывать заново расстояния между всеми парами кластеров, можно использовать Формулы Ланса-Вильямса, которые позволяют посчитать расстояние между кластерами после объединения, используя только расстояния между кластерами до объедения.  Таким образом, достаточно будет посчитать расстояния только между всеми одноэлементными кластерами (первый этап), а затем пересчитывать расстояния при их объединении через \n",
    "формулы Ланса-Вильямса. \n",
    "\n",
    "Общая  формула выглядит так:\n",
    "$$ d(C_i \\cup C_j, C_k) = a_i \\cdot d(C_i, C_k) + a_j \\cdot d(C_j, C_k) + b \\cdot d(C_i, C_j) + c \\cdot |d(C_i, C_k) - d(C_j, C_k)|$$\n",
    "\n",
    "Можно показать, что все относительно разумные кластерные расстояния можно описать данной формулой. \n",
    "\n",
    "Для интересущих нас linkage:\n",
    "\n",
    "* single-linkage       $a_i = \\frac{1}{2}, a_j =  \\frac{1}{2}, b = 0, c =  - \\frac{1}{2} $\n",
    "\n",
    "* complete-linkage     $a_i = \\frac{1}{2}, a_j =  \\frac{1}{2}, b = 0, c =   \\frac{1}{2} $\n",
    "\n",
    "* average-linkage       $a_i = \\frac{|C_i|}{|C_i \\cup C_j|}, a_j =  \\frac{|C_j|}{|C_i \\cup C_j|}, b = 0, c = 0 $\n",
    "\n"
   ]
  },
  {
   "cell_type": "markdown",
   "metadata": {},
   "source": [
    "# Теоретические вопросы (2 балла)\n",
    "В этой части Вам будут предложены теоретичские вопросы и задачи по теме. Вы, конечно, можете списать их у своего товарища или найти решение в интернете, но учтите, что они обязательно войдут в теоретический коллоквиум. Лучше разобраться в теме сейчас и успешно ответить на коллоквиуме, чем списать, не разобравшись в материале, и быть терзаемым совестью. \n",
    "\n",
    "\n",
    "Формулы надо оформлять в формате **LaTeX**."
   ]
  },
  {
   "cell_type": "markdown",
   "metadata": {},
   "source": [
    "Задача 1. Сходимость kmeans.\n",
    "\n",
    "Метод kmeans является частным случаем EM алгоритма и наиболее простым в обосновании сходимости. Докажите, что kmeans всегда сходится, и итераций не будет превышать $k^N$, где $k$ $-$ число кластеров, $N$ $-$ число объектов\n",
    "\n",
    "Подсказка: Вам стоит рассмотреть функционал, который минимизирует алгоритм, и подумать, как он изменяется на E шаге и на M шаге.\n",
    "\n"
   ]
  },
  {
   "cell_type": "markdown",
   "metadata": {},
   "source": [
    "***Ваше решение здесь***\n",
    "Алгоритм минимизирует суммарное квадратичное отклонение точек от центров кластеров. Каждый объект может принадлежать одному из k кластеров => всего возможных вариатов разить N объектов k^N штук.\n",
    "На каждой итерации алгоритма сум. кв. откл. не увеличивается и кол-во итераций ограничено, следовательно по Th Вейерштрасса сходится."
   ]
  },
  {
   "cell_type": "markdown",
   "metadata": {},
   "source": [
    "Задача 2. Сходимость EM.\n",
    "\n",
    "Разобравшись со сходимостью kmeans, можно догадаться и до ответа про EM алгоритм.\n",
    "\n",
    "При каком условии на правдоподобие системы EM алгоритм будет  сходиться?\n",
    "\n"
   ]
  },
  {
   "cell_type": "markdown",
   "metadata": {},
   "source": [
    "***Ваше решение здесь***\n",
    "На каждой итерации алгоритма правдоподобие системы не уменьшается => будет схлодиться, если правдоподобие ограничено."
   ]
  },
  {
   "cell_type": "markdown",
   "metadata": {},
   "source": [
    "Задача 3. Формулы Ланса-Вильямса.\n",
    "\n",
    "Формулы Ланса-Вильямса крайне удобны для быстрого пересчта расстояний в агломеративной кластеризации. Давайте докажем  формулы для single и complete linkage. \n",
    "\n",
    "Докажите, что:\n",
    "\n",
    "$d_{\\min}(U \\cup V, S) = \\frac{1}{2} d_{\\min}(U, S) + \\frac{1}{2} d_{\\min}(V, S)  - \\frac{1}{2} | d_{\\min}(U, S) - d_{\\min}(V, S) |  $\n",
    "\n",
    "\n",
    "$d_{\\max}(U \\cup V, S) = \\frac{1}{2} d_{\\max}(U, S) + \\frac{1}{2} d_{\\max}(V, S)  + \\frac{1}{2} | d_{\\max}(U, S) - d_{\\max}(V, S) |  $\n",
    "\n",
    "\n"
   ]
  },
  {
   "cell_type": "markdown",
   "metadata": {},
   "source": [
    "***Ваше решение здесь***\n",
    "Обозначим $d_{min}(U, S) = a1 $; $ d_{min}(V, S) = a2$. Тк $d_{min}(U \\bigcup V, S) = min(a1, a2)$  то требуется доказать что min(a1, a2) = 0.5*a1 + 0.5*a2 - 0.5*|a1 - a2|. Если расрыть модуль, то получаем тождество. Вторая формула аналогично."
   ]
  },
  {
   "cell_type": "markdown",
   "metadata": {},
   "source": [
    "# Реализация алгоритма кластеризации  (6 баллов)"
   ]
  },
  {
   "cell_type": "markdown",
   "metadata": {},
   "source": [
    "Алгоритм кластеризации должен удовлетворять следующему интерфейсу. Конструктор принимает набор параметров, необходимых для работы алгоритма кластеризации. Метод `fit` подсчитывает параметры модели и возвращает `self`. Метод `predict` возвращает вектор с индексами кластеров для поданных в него объектов `x`. "
   ]
  },
  {
   "cell_type": "code",
   "execution_count": 2,
   "metadata": {},
   "outputs": [],
   "source": [
    "from sklearn.base import BaseEstimator, ClusterMixin\n",
    "\n",
    "\n",
    "class Clustering(BaseEstimator, ClusterMixin):\n",
    "    \"\"\"\n",
    "    Implement clustering algorithm according \n",
    "    \"\"\"\n",
    "    \n",
    "    def __init__(self, n_components = 2, tol = 1e-3, max_iter = 50):\n",
    "        \"\"\"\n",
    "        Please add necessary algoritm parameters to class constructor.\n",
    "        \"\"\"\n",
    "        self.k = n_components\n",
    "        self.tol = tol\n",
    "        self.max_iter = max_iter\n",
    "        return\n",
    "        \n",
    "    def start(self, x):\n",
    "        w = np.random.rand(self.k) + self.k\n",
    "        w /= w.sum()\n",
    "        c = x[np.random.choice(np.shape(x)[0], \\\n",
    "                        size=self.k, replace=False)]\n",
    "        sigma = [np.diag(np.ones(x.shape[1])) for ind in range(self.k)] \n",
    "        return w, c, sigma\n",
    "    \n",
    "    def fit(self, x, y=None):\n",
    "        \"\"\"\n",
    "        Use data matrix x to compute model parameters\n",
    "        \"\"\"\n",
    "        self.x_len = len(x)\n",
    "        weights, means, cov = self.start(x)\n",
    "        max_del = 0\n",
    "        for i in range(self.max_iter):\n",
    "            C = np.empty([self.x_len, self.k])\n",
    "            temp1 = [np.array(x - means[l]) for l in range(self.k)]\n",
    "            temp2 = (1 / ((2 * math.pi) ** (x.shape[1] / 2) * \\\n",
    "                         np.sqrt(linalg.det(cov))))\n",
    "            Ot = np.empty((self.k, self.x_len))\n",
    "            for i in range(self.k):\n",
    "                hmm = np.dot(temp1[i], linalg.inv(cov[i]))\n",
    "                Ot[i] = np.exp((-1 / 2) * ((hmm) * temp1[i]).sum(axis=1))\n",
    "            temp3=  Ot * temp2.reshape(-1, 1)\n",
    "            temp3 = temp3.T\n",
    "            dell = np.log((weights * temp3).sum(axis=1)).sum() ##\n",
    "            if(abs(max_del - dell) < self.tol):\n",
    "                 return self\n",
    "            max_del = dell\n",
    "            gamma = weights * temp3 / \\\n",
    "                ((weights * temp3).sum(axis=1)).reshape(self.x_len, -1)\n",
    "            gam_sum = gamma.sum(axis=0)\n",
    "            gg = gamma / gam_sum\n",
    "            for t in range(self.k):\n",
    "                td = np.zeros([x.shape[1], x.shape[1]])\n",
    "                for j in range(self.x_len):\n",
    "                    U = (x[j] - means[t]).reshape(-1, 1)\n",
    "                    td += gg[j][t] * np.dot(U, U.T)\n",
    "                if (np.linalg.matrix_rank(td) == x.shape[1]):\n",
    "                    cov[t] = td\n",
    "            means = np.dot(gg.T, x)\n",
    "            weights = gam_sum / self.x_len\n",
    "            self.gam = gamma\n",
    "            self.weig = weights\n",
    "            self.covar = cov\n",
    "            self.mean = means\n",
    "        return self\n",
    "                \n",
    "            \n",
    "        return self\n",
    "    \n",
    "    def predict(self, x):\n",
    "        \"\"\"\n",
    "        Using computed model parameters predict cluster\n",
    "        for all objects from x\n",
    "        \"\"\"\n",
    "        return np.argmax(self.gam, axis = 1)\n",
    "    "
   ]
  },
  {
   "cell_type": "markdown",
   "metadata": {},
   "source": [
    "Сначала проверим реализованный алгоритм кластеризации на классическом наборе данных [Iris](http://www.wikiwand.com/en/Iris_flower_data_set). Загрузим данные (они включены в библиотеку sklearn) и посмотрим на то, как они выглядят в двух проекциях (для простоты используем 2 класса из 3)."
   ]
  },
  {
   "cell_type": "code",
   "execution_count": 25,
   "metadata": {
    "scrolled": true
   },
   "outputs": [
    {
     "data": {
      "image/png": "[encoded data removed]",
      "text/plain": [
       "<Figure size 720x360 with 2 Axes>"
      ]
     },
     "metadata": {},
     "output_type": "display_data"
    }
   ],
   "source": [
    "iris = ds.load_iris()\n",
    "x_iris = iris.data[:100]\n",
    "y_iris = iris.target[:100]\n",
    "\n",
    "pl.figure(figsize=(10, 5))\n",
    "\n",
    "pl.subplot(1, 2, 1)\n",
    "pl.scatter(x_iris[:, 0], x_iris[:, 1], c=y_iris, cmap=pl.cm.PuOr, lw=0, s=30)\n",
    "plt.xlabel('Sepal length')\n",
    "plt.ylabel('Sepal width')\n",
    "\n",
    "pl.subplot(1, 2, 2)\n",
    "pl.scatter(x_iris[:, 2], x_iris[:, 3], c=y_iris, cmap=pl.cm.PuOr, lw=0, s=30)\n",
    "plt.xlabel('Petal length')\n",
    "plt.ylabel('Petal width')\n",
    "pl.show()"
   ]
  },
  {
   "cell_type": "markdown",
   "metadata": {},
   "source": [
    "Видно, что классы разделяются, поэтому можно надеяться, что наш алгоритм \"найдет\" кластеры, соответствующие исходным классам. Результат работы реализованного алгоритма кластеризации предлагается сравнить с эталонной кластеризацией. Для этого предлагается изучить метрику ([adjusted rand score](http://scikit-learn.org/stable/modules/generated/sklearn.metrics.adjusted_rand_score.html)). В случае если значение этой метрики отличается от 1, предлагается поработать над улучшением реализации своего алгоритма."
   ]
  },
  {
   "cell_type": "code",
   "execution_count": 26,
   "metadata": {},
   "outputs": [
    {
     "name": "stdout",
     "output_type": "stream",
     "text": [
      "Adjusted Rand index for iris is: 1.00\n"
     ]
    }
   ],
   "source": [
    "clas = Clustering()\n",
    "clas.fit(x_iris)\n",
    "pred_iris = clas.predict(x_iris)\n",
    "print (\"Adjusted Rand index for iris is: %.2f\" % smt.adjusted_rand_score(y_iris, pred_iris))"
   ]
  },
  {
   "cell_type": "code",
   "execution_count": 28,
   "metadata": {},
   "outputs": [
    {
     "name": "stdout",
     "output_type": "stream",
     "text": [
      "GMM score 1.0. GMM time 0.24420475959777832. AGGL score 1.0. AGGL time 0.09100127220153809\n"
     ]
    }
   ],
   "source": [
    "# Давайте проверим, как справляются sklearn реализации\n",
    "sklearn_gmm = GaussianMixture(n_components=2)\n",
    "gmm_t0 = time.time()\n",
    "sklearn_gmm.fit(x_iris)\n",
    "gmm_diff = time.time() - gmm_t0\n",
    "gmm_score = smt.adjusted_rand_score(y_iris, sklearn_gmm.predict(x_iris))\n",
    "\n",
    "sklearn_aggl = AgglomerativeClustering(n_clusters=2)\n",
    "aggl_t0 = time.time()\n",
    "aggl_pred = sklearn_aggl.fit_predict(x_iris)\n",
    "aggl_diff = time.time() - aggl_t0\n",
    "aggl_score = smt.adjusted_rand_score(y_iris, aggl_pred)\n",
    "print (\"GMM score {}. GMM time {}. AGGL score {}. AGGL time {}\".format(gmm_score, gmm_diff, aggl_score, aggl_diff))"
   ]
  },
  {
   "cell_type": "markdown",
   "metadata": {},
   "source": [
    "Сверьте Ваш алгоритм с этими числами. Уверен, что у Вас получится не хуже!"
   ]
  },
  {
   "cell_type": "code",
   "execution_count": 29,
   "metadata": {},
   "outputs": [
    {
     "name": "stdout",
     "output_type": "stream",
     "text": [
      "my score 1.0. my time 0.0236666202545166.\n"
     ]
    }
   ],
   "source": [
    "gmm = Clustering(n_components=2)\n",
    "gmm_t0 = time.time()\n",
    "gmm.fit(x_iris)\n",
    "gmm_diff = time.time() - gmm_t0\n",
    "gmm_score = smt.adjusted_rand_score(y_iris, gmm.predict(x_iris))\n",
    "print (\"my score {}. my time {}.\".format(gmm_score, gmm_diff))"
   ]
  },
  {
   "cell_type": "markdown",
   "metadata": {
    "collapsed": true
   },
   "source": [
    "# Боевое применение (2  балла)\n"
   ]
  },
  {
   "cell_type": "markdown",
   "metadata": {
    "collapsed": true
   },
   "source": [
    "Алгоритмы кластеризации прекрасны тем, что они позволяют быстро понять, как устроены наши данные. Давайте применим Ваш алгоритм для анализа реальной задачи!"
   ]
  },
  {
   "cell_type": "markdown",
   "metadata": {},
   "source": [
    "Важное замечание: в этой части задания студенту самому предлагается разобраться с данными и их форматом в качестве полезного упраженения. Не принимайте это близко к сердцу :)"
   ]
  },
  {
   "cell_type": "markdown",
   "metadata": {},
   "source": [
    "Ввозьмем датасет различных стран.  \n",
    "Данные нужно скачать тут https://data.worldbank.org/data-catalog/world-development-indicators.   \n"
   ]
  },
  {
   "cell_type": "markdown",
   "metadata": {},
   "source": [
    "Подход следующий: фиксируем год, для каждой страны берём индикаторы по зафиксированному году, кластеризуем по индикаторам. \n",
    "Разбиение должно быть объяснимым, в противном случае, скорее всего нужно лучше настроить параметры кластеризации.   \n",
    "\n",
    "Необходимо показать, какие страны попали в общий кластер в и объяснить из-за каких признаков это произошло. Если страны были в одном кластере, а спустя несколько лет разъехались по разным кластерам, попробуйте это объяснить. "
   ]
  },
  {
   "cell_type": "code",
   "execution_count": 3,
   "metadata": {},
   "outputs": [
    {
     "data": {
      "text/html": [
       "<div>\n",
       "<style scoped>\n",
       "    .dataframe tbody tr th:only-of-type {\n",
       "        vertical-align: middle;\n",
       "    }\n",
       "\n",
       "    .dataframe tbody tr th {\n",
       "        vertical-align: top;\n",
       "    }\n",
       "\n",
       "    .dataframe thead th {\n",
       "        text-align: right;\n",
       "    }\n",
       "</style>\n",
       "<table border=\"1\" class=\"dataframe\">\n",
       "  <thead>\n",
       "    <tr style=\"text-align: right;\">\n",
       "      <th></th>\n",
       "      <th>Country Name</th>\n",
       "      <th>Country Code</th>\n",
       "      <th>Indicator Name</th>\n",
       "      <th>Indicator Code</th>\n",
       "      <th>1960</th>\n",
       "      <th>1961</th>\n",
       "      <th>1962</th>\n",
       "      <th>1963</th>\n",
       "      <th>1964</th>\n",
       "      <th>1965</th>\n",
       "      <th>...</th>\n",
       "      <th>2009</th>\n",
       "      <th>2010</th>\n",
       "      <th>2011</th>\n",
       "      <th>2012</th>\n",
       "      <th>2013</th>\n",
       "      <th>2014</th>\n",
       "      <th>2015</th>\n",
       "      <th>2016</th>\n",
       "      <th>2017</th>\n",
       "      <th>Unnamed: 62</th>\n",
       "    </tr>\n",
       "  </thead>\n",
       "  <tbody>\n",
       "    <tr>\n",
       "      <th>0</th>\n",
       "      <td>Arab World</td>\n",
       "      <td>ARB</td>\n",
       "      <td>2005 PPP conversion factor, GDP (LCU per inter...</td>\n",
       "      <td>PA.NUS.PPP.05</td>\n",
       "      <td>NaN</td>\n",
       "      <td>NaN</td>\n",
       "      <td>NaN</td>\n",
       "      <td>NaN</td>\n",
       "      <td>NaN</td>\n",
       "      <td>NaN</td>\n",
       "      <td>...</td>\n",
       "      <td>NaN</td>\n",
       "      <td>NaN</td>\n",
       "      <td>NaN</td>\n",
       "      <td>NaN</td>\n",
       "      <td>NaN</td>\n",
       "      <td>NaN</td>\n",
       "      <td>NaN</td>\n",
       "      <td>NaN</td>\n",
       "      <td>NaN</td>\n",
       "      <td>NaN</td>\n",
       "    </tr>\n",
       "    <tr>\n",
       "      <th>1</th>\n",
       "      <td>Arab World</td>\n",
       "      <td>ARB</td>\n",
       "      <td>2005 PPP conversion factor, private consumptio...</td>\n",
       "      <td>PA.NUS.PRVT.PP.05</td>\n",
       "      <td>NaN</td>\n",
       "      <td>NaN</td>\n",
       "      <td>NaN</td>\n",
       "      <td>NaN</td>\n",
       "      <td>NaN</td>\n",
       "      <td>NaN</td>\n",
       "      <td>...</td>\n",
       "      <td>NaN</td>\n",
       "      <td>NaN</td>\n",
       "      <td>NaN</td>\n",
       "      <td>NaN</td>\n",
       "      <td>NaN</td>\n",
       "      <td>NaN</td>\n",
       "      <td>NaN</td>\n",
       "      <td>NaN</td>\n",
       "      <td>NaN</td>\n",
       "      <td>NaN</td>\n",
       "    </tr>\n",
       "    <tr>\n",
       "      <th>2</th>\n",
       "      <td>Arab World</td>\n",
       "      <td>ARB</td>\n",
       "      <td>Access to clean fuels and technologies for coo...</td>\n",
       "      <td>EG.CFT.ACCS.ZS</td>\n",
       "      <td>NaN</td>\n",
       "      <td>NaN</td>\n",
       "      <td>NaN</td>\n",
       "      <td>NaN</td>\n",
       "      <td>NaN</td>\n",
       "      <td>NaN</td>\n",
       "      <td>...</td>\n",
       "      <td>81.844982</td>\n",
       "      <td>82.407647</td>\n",
       "      <td>82.827636</td>\n",
       "      <td>83.169227</td>\n",
       "      <td>83.587141</td>\n",
       "      <td>83.954293</td>\n",
       "      <td>84.230630</td>\n",
       "      <td>84.570425</td>\n",
       "      <td>NaN</td>\n",
       "      <td>NaN</td>\n",
       "    </tr>\n",
       "    <tr>\n",
       "      <th>3</th>\n",
       "      <td>Arab World</td>\n",
       "      <td>ARB</td>\n",
       "      <td>Access to electricity (% of population)</td>\n",
       "      <td>EG.ELC.ACCS.ZS</td>\n",
       "      <td>NaN</td>\n",
       "      <td>NaN</td>\n",
       "      <td>NaN</td>\n",
       "      <td>NaN</td>\n",
       "      <td>NaN</td>\n",
       "      <td>NaN</td>\n",
       "      <td>...</td>\n",
       "      <td>85.189815</td>\n",
       "      <td>86.136134</td>\n",
       "      <td>86.782683</td>\n",
       "      <td>87.288244</td>\n",
       "      <td>88.389705</td>\n",
       "      <td>88.076774</td>\n",
       "      <td>88.517967</td>\n",
       "      <td>88.768654</td>\n",
       "      <td>NaN</td>\n",
       "      <td>NaN</td>\n",
       "    </tr>\n",
       "    <tr>\n",
       "      <th>4</th>\n",
       "      <td>Arab World</td>\n",
       "      <td>ARB</td>\n",
       "      <td>Access to electricity, rural (% of rural popul...</td>\n",
       "      <td>EG.ELC.ACCS.RU.ZS</td>\n",
       "      <td>NaN</td>\n",
       "      <td>NaN</td>\n",
       "      <td>NaN</td>\n",
       "      <td>NaN</td>\n",
       "      <td>NaN</td>\n",
       "      <td>NaN</td>\n",
       "      <td>...</td>\n",
       "      <td>73.530494</td>\n",
       "      <td>74.543489</td>\n",
       "      <td>75.770972</td>\n",
       "      <td>76.772916</td>\n",
       "      <td>78.839139</td>\n",
       "      <td>77.487377</td>\n",
       "      <td>78.564439</td>\n",
       "      <td>78.958780</td>\n",
       "      <td>NaN</td>\n",
       "      <td>NaN</td>\n",
       "    </tr>\n",
       "  </tbody>\n",
       "</table>\n",
       "<p>5 rows × 63 columns</p>\n",
       "</div>"
      ],
      "text/plain": [
       "  Country Name Country Code  \\\n",
       "0   Arab World          ARB   \n",
       "1   Arab World          ARB   \n",
       "2   Arab World          ARB   \n",
       "3   Arab World          ARB   \n",
       "4   Arab World          ARB   \n",
       "\n",
       "                                      Indicator Name     Indicator Code  1960  \\\n",
       "0  2005 PPP conversion factor, GDP (LCU per inter...      PA.NUS.PPP.05   NaN   \n",
       "1  2005 PPP conversion factor, private consumptio...  PA.NUS.PRVT.PP.05   NaN   \n",
       "2  Access to clean fuels and technologies for coo...     EG.CFT.ACCS.ZS   NaN   \n",
       "3            Access to electricity (% of population)     EG.ELC.ACCS.ZS   NaN   \n",
       "4  Access to electricity, rural (% of rural popul...  EG.ELC.ACCS.RU.ZS   NaN   \n",
       "\n",
       "   1961  1962  1963  1964  1965     ...            2009       2010       2011  \\\n",
       "0   NaN   NaN   NaN   NaN   NaN     ...             NaN        NaN        NaN   \n",
       "1   NaN   NaN   NaN   NaN   NaN     ...             NaN        NaN        NaN   \n",
       "2   NaN   NaN   NaN   NaN   NaN     ...       81.844982  82.407647  82.827636   \n",
       "3   NaN   NaN   NaN   NaN   NaN     ...       85.189815  86.136134  86.782683   \n",
       "4   NaN   NaN   NaN   NaN   NaN     ...       73.530494  74.543489  75.770972   \n",
       "\n",
       "        2012       2013       2014       2015       2016  2017  Unnamed: 62  \n",
       "0        NaN        NaN        NaN        NaN        NaN   NaN          NaN  \n",
       "1        NaN        NaN        NaN        NaN        NaN   NaN          NaN  \n",
       "2  83.169227  83.587141  83.954293  84.230630  84.570425   NaN          NaN  \n",
       "3  87.288244  88.389705  88.076774  88.517967  88.768654   NaN          NaN  \n",
       "4  76.772916  78.839139  77.487377  78.564439  78.958780   NaN          NaN  \n",
       "\n",
       "[5 rows x 63 columns]"
      ]
     },
     "execution_count": 3,
     "metadata": {},
     "output_type": "execute_result"
    }
   ],
   "source": [
    "# Место для Вашего кластерного анализа\n",
    "df = pd.read_csv('./WDIData.csv')\n",
    "df.head()"
   ]
  },
  {
   "cell_type": "code",
   "execution_count": 4,
   "metadata": {},
   "outputs": [
    {
     "data": {
      "text/html": [
       "<div>\n",
       "<style scoped>\n",
       "    .dataframe tbody tr th:only-of-type {\n",
       "        vertical-align: middle;\n",
       "    }\n",
       "\n",
       "    .dataframe tbody tr th {\n",
       "        vertical-align: top;\n",
       "    }\n",
       "\n",
       "    .dataframe thead th {\n",
       "        text-align: right;\n",
       "    }\n",
       "</style>\n",
       "<table border=\"1\" class=\"dataframe\">\n",
       "  <thead>\n",
       "    <tr style=\"text-align: right;\">\n",
       "      <th>Indicator Name</th>\n",
       "      <th>2005 PPP conversion factor, GDP (LCU per international $)</th>\n",
       "      <th>2005 PPP conversion factor, private consumption (LCU per international $)</th>\n",
       "      <th>ARI treatment (% of children under 5 taken to a health provider)</th>\n",
       "      <th>Access to clean fuels and technologies for cooking  (% of population)</th>\n",
       "      <th>Access to electricity (% of population)</th>\n",
       "      <th>Access to electricity, rural (% of rural population)</th>\n",
       "      <th>Access to electricity, urban (% of urban population)</th>\n",
       "      <th>Account ownership at a financial institution or with a mobile-money-service provider (% of population ages 15+)</th>\n",
       "      <th>Account ownership at a financial institution or with a mobile-money-service provider, female (% of population ages 15+)</th>\n",
       "      <th>Account ownership at a financial institution or with a mobile-money-service provider, male (% of population ages 15+)</th>\n",
       "      <th>...</th>\n",
       "      <th>Women participating in the three decisions (own health care, major household purchases, and visiting family) (% of women age 15-49)</th>\n",
       "      <th>Women who believe a husband is justified in beating his wife (any of five reasons) (%)</th>\n",
       "      <th>Women who believe a husband is justified in beating his wife when she argues with him (%)</th>\n",
       "      <th>Women who believe a husband is justified in beating his wife when she burns the food (%)</th>\n",
       "      <th>Women who believe a husband is justified in beating his wife when she goes out without telling him (%)</th>\n",
       "      <th>Women who believe a husband is justified in beating his wife when she neglects the children (%)</th>\n",
       "      <th>Women who believe a husband is justified in beating his wife when she refuses sex with him (%)</th>\n",
       "      <th>Women who were first married by age 15 (% of women ages 20-24)</th>\n",
       "      <th>Women who were first married by age 18 (% of women ages 20-24)</th>\n",
       "      <th>Women's share of population ages 15+ living with HIV (%)</th>\n",
       "    </tr>\n",
       "    <tr>\n",
       "      <th>Country Name</th>\n",
       "      <th></th>\n",
       "      <th></th>\n",
       "      <th></th>\n",
       "      <th></th>\n",
       "      <th></th>\n",
       "      <th></th>\n",
       "      <th></th>\n",
       "      <th></th>\n",
       "      <th></th>\n",
       "      <th></th>\n",
       "      <th></th>\n",
       "      <th></th>\n",
       "      <th></th>\n",
       "      <th></th>\n",
       "      <th></th>\n",
       "      <th></th>\n",
       "      <th></th>\n",
       "      <th></th>\n",
       "      <th></th>\n",
       "      <th></th>\n",
       "      <th></th>\n",
       "    </tr>\n",
       "  </thead>\n",
       "  <tbody>\n",
       "    <tr>\n",
       "      <th>Afghanistan</th>\n",
       "      <td>NaN</td>\n",
       "      <td>NaN</td>\n",
       "      <td>NaN</td>\n",
       "      <td>32.44</td>\n",
       "      <td>84.137138</td>\n",
       "      <td>78.961074</td>\n",
       "      <td>98.038414</td>\n",
       "      <td>NaN</td>\n",
       "      <td>NaN</td>\n",
       "      <td>NaN</td>\n",
       "      <td>...</td>\n",
       "      <td>NaN</td>\n",
       "      <td>NaN</td>\n",
       "      <td>NaN</td>\n",
       "      <td>NaN</td>\n",
       "      <td>NaN</td>\n",
       "      <td>NaN</td>\n",
       "      <td>NaN</td>\n",
       "      <td>NaN</td>\n",
       "      <td>NaN</td>\n",
       "      <td>NaN</td>\n",
       "    </tr>\n",
       "    <tr>\n",
       "      <th>Albania</th>\n",
       "      <td>NaN</td>\n",
       "      <td>NaN</td>\n",
       "      <td>NaN</td>\n",
       "      <td>77.42</td>\n",
       "      <td>100.000000</td>\n",
       "      <td>100.000000</td>\n",
       "      <td>100.000000</td>\n",
       "      <td>NaN</td>\n",
       "      <td>NaN</td>\n",
       "      <td>NaN</td>\n",
       "      <td>...</td>\n",
       "      <td>NaN</td>\n",
       "      <td>NaN</td>\n",
       "      <td>NaN</td>\n",
       "      <td>NaN</td>\n",
       "      <td>NaN</td>\n",
       "      <td>NaN</td>\n",
       "      <td>NaN</td>\n",
       "      <td>NaN</td>\n",
       "      <td>NaN</td>\n",
       "      <td>30.4</td>\n",
       "    </tr>\n",
       "    <tr>\n",
       "      <th>Algeria</th>\n",
       "      <td>NaN</td>\n",
       "      <td>NaN</td>\n",
       "      <td>NaN</td>\n",
       "      <td>92.62</td>\n",
       "      <td>99.439568</td>\n",
       "      <td>98.955372</td>\n",
       "      <td>99.634430</td>\n",
       "      <td>NaN</td>\n",
       "      <td>NaN</td>\n",
       "      <td>NaN</td>\n",
       "      <td>...</td>\n",
       "      <td>NaN</td>\n",
       "      <td>NaN</td>\n",
       "      <td>NaN</td>\n",
       "      <td>NaN</td>\n",
       "      <td>NaN</td>\n",
       "      <td>NaN</td>\n",
       "      <td>NaN</td>\n",
       "      <td>NaN</td>\n",
       "      <td>NaN</td>\n",
       "      <td>45.3</td>\n",
       "    </tr>\n",
       "    <tr>\n",
       "      <th>American Samoa</th>\n",
       "      <td>NaN</td>\n",
       "      <td>NaN</td>\n",
       "      <td>NaN</td>\n",
       "      <td>NaN</td>\n",
       "      <td>NaN</td>\n",
       "      <td>NaN</td>\n",
       "      <td>NaN</td>\n",
       "      <td>NaN</td>\n",
       "      <td>NaN</td>\n",
       "      <td>NaN</td>\n",
       "      <td>...</td>\n",
       "      <td>NaN</td>\n",
       "      <td>NaN</td>\n",
       "      <td>NaN</td>\n",
       "      <td>NaN</td>\n",
       "      <td>NaN</td>\n",
       "      <td>NaN</td>\n",
       "      <td>NaN</td>\n",
       "      <td>NaN</td>\n",
       "      <td>NaN</td>\n",
       "      <td>NaN</td>\n",
       "    </tr>\n",
       "    <tr>\n",
       "      <th>Andorra</th>\n",
       "      <td>NaN</td>\n",
       "      <td>NaN</td>\n",
       "      <td>NaN</td>\n",
       "      <td>100.00</td>\n",
       "      <td>100.000000</td>\n",
       "      <td>100.000000</td>\n",
       "      <td>100.000000</td>\n",
       "      <td>NaN</td>\n",
       "      <td>NaN</td>\n",
       "      <td>NaN</td>\n",
       "      <td>...</td>\n",
       "      <td>NaN</td>\n",
       "      <td>NaN</td>\n",
       "      <td>NaN</td>\n",
       "      <td>NaN</td>\n",
       "      <td>NaN</td>\n",
       "      <td>NaN</td>\n",
       "      <td>NaN</td>\n",
       "      <td>NaN</td>\n",
       "      <td>NaN</td>\n",
       "      <td>NaN</td>\n",
       "    </tr>\n",
       "  </tbody>\n",
       "</table>\n",
       "<p>5 rows × 1600 columns</p>\n",
       "</div>"
      ],
      "text/plain": [
       "Indicator Name  2005 PPP conversion factor, GDP (LCU per international $)  \\\n",
       "Country Name                                                                \n",
       "Afghanistan                                                   NaN           \n",
       "Albania                                                       NaN           \n",
       "Algeria                                                       NaN           \n",
       "American Samoa                                                NaN           \n",
       "Andorra                                                       NaN           \n",
       "\n",
       "Indicator Name  2005 PPP conversion factor, private consumption (LCU per international $)  \\\n",
       "Country Name                                                                                \n",
       "Afghanistan                                                   NaN                           \n",
       "Albania                                                       NaN                           \n",
       "Algeria                                                       NaN                           \n",
       "American Samoa                                                NaN                           \n",
       "Andorra                                                       NaN                           \n",
       "\n",
       "Indicator Name  ARI treatment (% of children under 5 taken to a health provider)  \\\n",
       "Country Name                                                                       \n",
       "Afghanistan                                                   NaN                  \n",
       "Albania                                                       NaN                  \n",
       "Algeria                                                       NaN                  \n",
       "American Samoa                                                NaN                  \n",
       "Andorra                                                       NaN                  \n",
       "\n",
       "Indicator Name  Access to clean fuels and technologies for cooking  (% of population)  \\\n",
       "Country Name                                                                            \n",
       "Afghanistan                                                 32.44                       \n",
       "Albania                                                     77.42                       \n",
       "Algeria                                                     92.62                       \n",
       "American Samoa                                                NaN                       \n",
       "Andorra                                                    100.00                       \n",
       "\n",
       "Indicator Name  Access to electricity (% of population)  \\\n",
       "Country Name                                              \n",
       "Afghanistan                                   84.137138   \n",
       "Albania                                      100.000000   \n",
       "Algeria                                       99.439568   \n",
       "American Samoa                                      NaN   \n",
       "Andorra                                      100.000000   \n",
       "\n",
       "Indicator Name  Access to electricity, rural (% of rural population)  \\\n",
       "Country Name                                                           \n",
       "Afghanistan                                             78.961074      \n",
       "Albania                                                100.000000      \n",
       "Algeria                                                 98.955372      \n",
       "American Samoa                                                NaN      \n",
       "Andorra                                                100.000000      \n",
       "\n",
       "Indicator Name  Access to electricity, urban (% of urban population)  \\\n",
       "Country Name                                                           \n",
       "Afghanistan                                             98.038414      \n",
       "Albania                                                100.000000      \n",
       "Algeria                                                 99.634430      \n",
       "American Samoa                                                NaN      \n",
       "Andorra                                                100.000000      \n",
       "\n",
       "Indicator Name  Account ownership at a financial institution or with a mobile-money-service provider (% of population ages 15+)  \\\n",
       "Country Name                                                                                                                      \n",
       "Afghanistan                                                   NaN                                                                 \n",
       "Albania                                                       NaN                                                                 \n",
       "Algeria                                                       NaN                                                                 \n",
       "American Samoa                                                NaN                                                                 \n",
       "Andorra                                                       NaN                                                                 \n",
       "\n",
       "Indicator Name  Account ownership at a financial institution or with a mobile-money-service provider, female (% of population ages 15+)  \\\n",
       "Country Name                                                                                                                              \n",
       "Afghanistan                                                   NaN                                                                         \n",
       "Albania                                                       NaN                                                                         \n",
       "Algeria                                                       NaN                                                                         \n",
       "American Samoa                                                NaN                                                                         \n",
       "Andorra                                                       NaN                                                                         \n",
       "\n",
       "Indicator Name  Account ownership at a financial institution or with a mobile-money-service provider, male (% of population ages 15+)  \\\n",
       "Country Name                                                                                                                            \n",
       "Afghanistan                                                   NaN                                                                       \n",
       "Albania                                                       NaN                                                                       \n",
       "Algeria                                                       NaN                                                                       \n",
       "American Samoa                                                NaN                                                                       \n",
       "Andorra                                                       NaN                                                                       \n",
       "\n",
       "Indicator Name                            ...                             \\\n",
       "Country Name                              ...                              \n",
       "Afghanistan                               ...                              \n",
       "Albania                                   ...                              \n",
       "Algeria                                   ...                              \n",
       "American Samoa                            ...                              \n",
       "Andorra                                   ...                              \n",
       "\n",
       "Indicator Name  Women participating in the three decisions (own health care, major household purchases, and visiting family) (% of women age 15-49)  \\\n",
       "Country Name                                                                                                                                          \n",
       "Afghanistan                                                   NaN                                                                                     \n",
       "Albania                                                       NaN                                                                                     \n",
       "Algeria                                                       NaN                                                                                     \n",
       "American Samoa                                                NaN                                                                                     \n",
       "Andorra                                                       NaN                                                                                     \n",
       "\n",
       "Indicator Name  Women who believe a husband is justified in beating his wife (any of five reasons) (%)  \\\n",
       "Country Name                                                                                             \n",
       "Afghanistan                                                   NaN                                        \n",
       "Albania                                                       NaN                                        \n",
       "Algeria                                                       NaN                                        \n",
       "American Samoa                                                NaN                                        \n",
       "Andorra                                                       NaN                                        \n",
       "\n",
       "Indicator Name  Women who believe a husband is justified in beating his wife when she argues with him (%)  \\\n",
       "Country Name                                                                                                \n",
       "Afghanistan                                                   NaN                                           \n",
       "Albania                                                       NaN                                           \n",
       "Algeria                                                       NaN                                           \n",
       "American Samoa                                                NaN                                           \n",
       "Andorra                                                       NaN                                           \n",
       "\n",
       "Indicator Name  Women who believe a husband is justified in beating his wife when she burns the food (%)  \\\n",
       "Country Name                                                                                               \n",
       "Afghanistan                                                   NaN                                          \n",
       "Albania                                                       NaN                                          \n",
       "Algeria                                                       NaN                                          \n",
       "American Samoa                                                NaN                                          \n",
       "Andorra                                                       NaN                                          \n",
       "\n",
       "Indicator Name  Women who believe a husband is justified in beating his wife when she goes out without telling him (%)  \\\n",
       "Country Name                                                                                                             \n",
       "Afghanistan                                                   NaN                                                        \n",
       "Albania                                                       NaN                                                        \n",
       "Algeria                                                       NaN                                                        \n",
       "American Samoa                                                NaN                                                        \n",
       "Andorra                                                       NaN                                                        \n",
       "\n",
       "Indicator Name  Women who believe a husband is justified in beating his wife when she neglects the children (%)  \\\n",
       "Country Name                                                                                                      \n",
       "Afghanistan                                                   NaN                                                 \n",
       "Albania                                                       NaN                                                 \n",
       "Algeria                                                       NaN                                                 \n",
       "American Samoa                                                NaN                                                 \n",
       "Andorra                                                       NaN                                                 \n",
       "\n",
       "Indicator Name  Women who believe a husband is justified in beating his wife when she refuses sex with him (%)  \\\n",
       "Country Name                                                                                                     \n",
       "Afghanistan                                                   NaN                                                \n",
       "Albania                                                       NaN                                                \n",
       "Algeria                                                       NaN                                                \n",
       "American Samoa                                                NaN                                                \n",
       "Andorra                                                       NaN                                                \n",
       "\n",
       "Indicator Name  Women who were first married by age 15 (% of women ages 20-24)  \\\n",
       "Country Name                                                                     \n",
       "Afghanistan                                                   NaN                \n",
       "Albania                                                       NaN                \n",
       "Algeria                                                       NaN                \n",
       "American Samoa                                                NaN                \n",
       "Andorra                                                       NaN                \n",
       "\n",
       "Indicator Name  Women who were first married by age 18 (% of women ages 20-24)  \\\n",
       "Country Name                                                                     \n",
       "Afghanistan                                                   NaN                \n",
       "Albania                                                       NaN                \n",
       "Algeria                                                       NaN                \n",
       "American Samoa                                                NaN                \n",
       "Andorra                                                       NaN                \n",
       "\n",
       "Indicator Name  Women's share of population ages 15+ living with HIV (%)  \n",
       "Country Name                                                              \n",
       "Afghanistan                                                   NaN         \n",
       "Albania                                                      30.4         \n",
       "Algeria                                                      45.3         \n",
       "American Samoa                                                NaN         \n",
       "Andorra                                                       NaN         \n",
       "\n",
       "[5 rows x 1600 columns]"
      ]
     },
     "execution_count": 4,
     "metadata": {},
     "output_type": "execute_result"
    }
   ],
   "source": [
    "df2 = df.loc[:, ['Country Name', 'Indicator Name', '2016']]\n",
    "df2 = df2.pivot(index = 'Country Name', columns = 'Indicator Name' , values = '2016')\n",
    "df2.head()"
   ]
  },
  {
   "cell_type": "code",
   "execution_count": 5,
   "metadata": {},
   "outputs": [
    {
     "data": {
      "text/plain": [
       "(264, 1600)"
      ]
     },
     "execution_count": 5,
     "metadata": {},
     "output_type": "execute_result"
    }
   ],
   "source": [
    "df2.shape"
   ]
  },
  {
   "cell_type": "code",
   "execution_count": 71,
   "metadata": {
    "scrolled": true
   },
   "outputs": [
    {
     "data": {
      "text/html": [
       "<div>\n",
       "<style scoped>\n",
       "    .dataframe tbody tr th:only-of-type {\n",
       "        vertical-align: middle;\n",
       "    }\n",
       "\n",
       "    .dataframe tbody tr th {\n",
       "        vertical-align: top;\n",
       "    }\n",
       "\n",
       "    .dataframe thead th {\n",
       "        text-align: right;\n",
       "    }\n",
       "</style>\n",
       "<table border=\"1\" class=\"dataframe\">\n",
       "  <thead>\n",
       "    <tr style=\"text-align: right;\">\n",
       "      <th>Indicator Name</th>\n",
       "      <th>Population growth (annual %)</th>\n",
       "      <th>Surface area (sq. km)</th>\n",
       "    </tr>\n",
       "    <tr>\n",
       "      <th>Country Name</th>\n",
       "      <th></th>\n",
       "      <th></th>\n",
       "    </tr>\n",
       "  </thead>\n",
       "  <tbody>\n",
       "    <tr>\n",
       "      <th>Afghanistan</th>\n",
       "      <td>2.689163</td>\n",
       "      <td>652860.0</td>\n",
       "    </tr>\n",
       "    <tr>\n",
       "      <th>Albania</th>\n",
       "      <td>-0.159880</td>\n",
       "      <td>28750.0</td>\n",
       "    </tr>\n",
       "    <tr>\n",
       "      <th>Algeria</th>\n",
       "      <td>1.825463</td>\n",
       "      <td>2381740.0</td>\n",
       "    </tr>\n",
       "    <tr>\n",
       "      <th>American Samoa</th>\n",
       "      <td>0.111575</td>\n",
       "      <td>200.0</td>\n",
       "    </tr>\n",
       "    <tr>\n",
       "      <th>Andorra</th>\n",
       "      <td>-0.944017</td>\n",
       "      <td>470.0</td>\n",
       "    </tr>\n",
       "    <tr>\n",
       "      <th>Angola</th>\n",
       "      <td>3.367572</td>\n",
       "      <td>1246700.0</td>\n",
       "    </tr>\n",
       "    <tr>\n",
       "      <th>Antigua and Barbuda</th>\n",
       "      <td>1.035422</td>\n",
       "      <td>440.0</td>\n",
       "    </tr>\n",
       "    <tr>\n",
       "      <th>Arab World</th>\n",
       "      <td>2.045601</td>\n",
       "      <td>13152649.5</td>\n",
       "    </tr>\n",
       "    <tr>\n",
       "      <th>Argentina</th>\n",
       "      <td>0.984742</td>\n",
       "      <td>2780400.0</td>\n",
       "    </tr>\n",
       "    <tr>\n",
       "      <th>Armenia</th>\n",
       "      <td>0.269302</td>\n",
       "      <td>29740.0</td>\n",
       "    </tr>\n",
       "    <tr>\n",
       "      <th>Aruba</th>\n",
       "      <td>0.459929</td>\n",
       "      <td>180.0</td>\n",
       "    </tr>\n",
       "    <tr>\n",
       "      <th>Australia</th>\n",
       "      <td>1.498210</td>\n",
       "      <td>7741220.0</td>\n",
       "    </tr>\n",
       "    <tr>\n",
       "      <th>Austria</th>\n",
       "      <td>1.081396</td>\n",
       "      <td>83879.0</td>\n",
       "    </tr>\n",
       "    <tr>\n",
       "      <th>Azerbaijan</th>\n",
       "      <td>1.117857</td>\n",
       "      <td>86600.0</td>\n",
       "    </tr>\n",
       "    <tr>\n",
       "      <th>Bahamas, The</th>\n",
       "      <td>1.129473</td>\n",
       "      <td>13880.0</td>\n",
       "    </tr>\n",
       "    <tr>\n",
       "      <th>Bahrain</th>\n",
       "      <td>3.812797</td>\n",
       "      <td>771.0</td>\n",
       "    </tr>\n",
       "    <tr>\n",
       "      <th>Bangladesh</th>\n",
       "      <td>1.080165</td>\n",
       "      <td>147630.0</td>\n",
       "    </tr>\n",
       "    <tr>\n",
       "      <th>Barbados</th>\n",
       "      <td>0.273711</td>\n",
       "      <td>430.0</td>\n",
       "    </tr>\n",
       "    <tr>\n",
       "      <th>Belarus</th>\n",
       "      <td>0.125511</td>\n",
       "      <td>207600.0</td>\n",
       "    </tr>\n",
       "    <tr>\n",
       "      <th>Belgium</th>\n",
       "      <td>0.506300</td>\n",
       "      <td>30530.0</td>\n",
       "    </tr>\n",
       "    <tr>\n",
       "      <th>Belize</th>\n",
       "      <td>2.111220</td>\n",
       "      <td>22970.0</td>\n",
       "    </tr>\n",
       "    <tr>\n",
       "      <th>Benin</th>\n",
       "      <td>2.763534</td>\n",
       "      <td>114760.0</td>\n",
       "    </tr>\n",
       "    <tr>\n",
       "      <th>Bermuda</th>\n",
       "      <td>0.156348</td>\n",
       "      <td>50.0</td>\n",
       "    </tr>\n",
       "    <tr>\n",
       "      <th>Bhutan</th>\n",
       "      <td>1.309547</td>\n",
       "      <td>38394.0</td>\n",
       "    </tr>\n",
       "    <tr>\n",
       "      <th>Bolivia</th>\n",
       "      <td>1.510047</td>\n",
       "      <td>1098580.0</td>\n",
       "    </tr>\n",
       "    <tr>\n",
       "      <th>Bosnia and Herzegovina</th>\n",
       "      <td>-0.542908</td>\n",
       "      <td>51210.0</td>\n",
       "    </tr>\n",
       "    <tr>\n",
       "      <th>Botswana</th>\n",
       "      <td>1.841666</td>\n",
       "      <td>581730.0</td>\n",
       "    </tr>\n",
       "    <tr>\n",
       "      <th>Brazil</th>\n",
       "      <td>0.817556</td>\n",
       "      <td>8515770.0</td>\n",
       "    </tr>\n",
       "    <tr>\n",
       "      <th>British Virgin Islands</th>\n",
       "      <td>1.803452</td>\n",
       "      <td>150.0</td>\n",
       "    </tr>\n",
       "    <tr>\n",
       "      <th>Brunei Darussalam</th>\n",
       "      <td>1.345029</td>\n",
       "      <td>5770.0</td>\n",
       "    </tr>\n",
       "    <tr>\n",
       "      <th>...</th>\n",
       "      <td>...</td>\n",
       "      <td>...</td>\n",
       "    </tr>\n",
       "    <tr>\n",
       "      <th>Syrian Arab Republic</th>\n",
       "      <td>-1.638839</td>\n",
       "      <td>185180.0</td>\n",
       "    </tr>\n",
       "    <tr>\n",
       "      <th>Tajikistan</th>\n",
       "      <td>2.155884</td>\n",
       "      <td>141376.0</td>\n",
       "    </tr>\n",
       "    <tr>\n",
       "      <th>Tanzania</th>\n",
       "      <td>3.092454</td>\n",
       "      <td>947300.0</td>\n",
       "    </tr>\n",
       "    <tr>\n",
       "      <th>Thailand</th>\n",
       "      <td>0.299466</td>\n",
       "      <td>513120.0</td>\n",
       "    </tr>\n",
       "    <tr>\n",
       "      <th>Timor-Leste</th>\n",
       "      <td>2.207092</td>\n",
       "      <td>14870.0</td>\n",
       "    </tr>\n",
       "    <tr>\n",
       "      <th>Togo</th>\n",
       "      <td>2.523861</td>\n",
       "      <td>56790.0</td>\n",
       "    </tr>\n",
       "    <tr>\n",
       "      <th>Tonga</th>\n",
       "      <td>0.710120</td>\n",
       "      <td>750.0</td>\n",
       "    </tr>\n",
       "    <tr>\n",
       "      <th>Trinidad and Tobago</th>\n",
       "      <td>0.357424</td>\n",
       "      <td>5130.0</td>\n",
       "    </tr>\n",
       "    <tr>\n",
       "      <th>Tunisia</th>\n",
       "      <td>1.142911</td>\n",
       "      <td>163610.0</td>\n",
       "    </tr>\n",
       "    <tr>\n",
       "      <th>Turkey</th>\n",
       "      <td>1.573012</td>\n",
       "      <td>785350.0</td>\n",
       "    </tr>\n",
       "    <tr>\n",
       "      <th>Turkmenistan</th>\n",
       "      <td>1.732524</td>\n",
       "      <td>488100.0</td>\n",
       "    </tr>\n",
       "    <tr>\n",
       "      <th>Turks and Caicos Islands</th>\n",
       "      <td>1.620509</td>\n",
       "      <td>950.0</td>\n",
       "    </tr>\n",
       "    <tr>\n",
       "      <th>Tuvalu</th>\n",
       "      <td>0.868862</td>\n",
       "      <td>30.0</td>\n",
       "    </tr>\n",
       "    <tr>\n",
       "      <th>Uganda</th>\n",
       "      <td>3.290872</td>\n",
       "      <td>241550.0</td>\n",
       "    </tr>\n",
       "    <tr>\n",
       "      <th>Ukraine</th>\n",
       "      <td>-0.331381</td>\n",
       "      <td>603550.0</td>\n",
       "    </tr>\n",
       "    <tr>\n",
       "      <th>United Arab Emirates</th>\n",
       "      <td>1.251759</td>\n",
       "      <td>83600.0</td>\n",
       "    </tr>\n",
       "    <tr>\n",
       "      <th>United Kingdom</th>\n",
       "      <td>0.714030</td>\n",
       "      <td>243610.0</td>\n",
       "    </tr>\n",
       "    <tr>\n",
       "      <th>United States</th>\n",
       "      <td>0.734307</td>\n",
       "      <td>9831510.0</td>\n",
       "    </tr>\n",
       "    <tr>\n",
       "      <th>Upper middle income</th>\n",
       "      <td>0.767896</td>\n",
       "      <td>56966994.0</td>\n",
       "    </tr>\n",
       "    <tr>\n",
       "      <th>Uruguay</th>\n",
       "      <td>0.362269</td>\n",
       "      <td>176220.0</td>\n",
       "    </tr>\n",
       "    <tr>\n",
       "      <th>Uzbekistan</th>\n",
       "      <td>1.738849</td>\n",
       "      <td>447400.0</td>\n",
       "    </tr>\n",
       "    <tr>\n",
       "      <th>Vanuatu</th>\n",
       "      <td>2.167915</td>\n",
       "      <td>12190.0</td>\n",
       "    </tr>\n",
       "    <tr>\n",
       "      <th>Venezuela, RB</th>\n",
       "      <td>1.317057</td>\n",
       "      <td>912050.0</td>\n",
       "    </tr>\n",
       "    <tr>\n",
       "      <th>Vietnam</th>\n",
       "      <td>1.060392</td>\n",
       "      <td>330967.0</td>\n",
       "    </tr>\n",
       "    <tr>\n",
       "      <th>Virgin Islands (U.S.)</th>\n",
       "      <td>-0.185856</td>\n",
       "      <td>350.0</td>\n",
       "    </tr>\n",
       "    <tr>\n",
       "      <th>West Bank and Gaza</th>\n",
       "      <td>2.884693</td>\n",
       "      <td>6020.0</td>\n",
       "    </tr>\n",
       "    <tr>\n",
       "      <th>World</th>\n",
       "      <td>1.176992</td>\n",
       "      <td>134325130.2</td>\n",
       "    </tr>\n",
       "    <tr>\n",
       "      <th>Yemen, Rep.</th>\n",
       "      <td>2.451502</td>\n",
       "      <td>527970.0</td>\n",
       "    </tr>\n",
       "    <tr>\n",
       "      <th>Zambia</th>\n",
       "      <td>3.002816</td>\n",
       "      <td>752610.0</td>\n",
       "    </tr>\n",
       "    <tr>\n",
       "      <th>Zimbabwe</th>\n",
       "      <td>2.336070</td>\n",
       "      <td>390760.0</td>\n",
       "    </tr>\n",
       "  </tbody>\n",
       "</table>\n",
       "<p>264 rows × 2 columns</p>\n",
       "</div>"
      ],
      "text/plain": [
       "Indicator Name            Population growth (annual %)  Surface area (sq. km)\n",
       "Country Name                                                                 \n",
       "Afghanistan                                   2.689163               652860.0\n",
       "Albania                                      -0.159880                28750.0\n",
       "Algeria                                       1.825463              2381740.0\n",
       "American Samoa                                0.111575                  200.0\n",
       "Andorra                                      -0.944017                  470.0\n",
       "Angola                                        3.367572              1246700.0\n",
       "Antigua and Barbuda                           1.035422                  440.0\n",
       "Arab World                                    2.045601             13152649.5\n",
       "Argentina                                     0.984742              2780400.0\n",
       "Armenia                                       0.269302                29740.0\n",
       "Aruba                                         0.459929                  180.0\n",
       "Australia                                     1.498210              7741220.0\n",
       "Austria                                       1.081396                83879.0\n",
       "Azerbaijan                                    1.117857                86600.0\n",
       "Bahamas, The                                  1.129473                13880.0\n",
       "Bahrain                                       3.812797                  771.0\n",
       "Bangladesh                                    1.080165               147630.0\n",
       "Barbados                                      0.273711                  430.0\n",
       "Belarus                                       0.125511               207600.0\n",
       "Belgium                                       0.506300                30530.0\n",
       "Belize                                        2.111220                22970.0\n",
       "Benin                                         2.763534               114760.0\n",
       "Bermuda                                       0.156348                   50.0\n",
       "Bhutan                                        1.309547                38394.0\n",
       "Bolivia                                       1.510047              1098580.0\n",
       "Bosnia and Herzegovina                       -0.542908                51210.0\n",
       "Botswana                                      1.841666               581730.0\n",
       "Brazil                                        0.817556              8515770.0\n",
       "British Virgin Islands                        1.803452                  150.0\n",
       "Brunei Darussalam                             1.345029                 5770.0\n",
       "...                                                ...                    ...\n",
       "Syrian Arab Republic                         -1.638839               185180.0\n",
       "Tajikistan                                    2.155884               141376.0\n",
       "Tanzania                                      3.092454               947300.0\n",
       "Thailand                                      0.299466               513120.0\n",
       "Timor-Leste                                   2.207092                14870.0\n",
       "Togo                                          2.523861                56790.0\n",
       "Tonga                                         0.710120                  750.0\n",
       "Trinidad and Tobago                           0.357424                 5130.0\n",
       "Tunisia                                       1.142911               163610.0\n",
       "Turkey                                        1.573012               785350.0\n",
       "Turkmenistan                                  1.732524               488100.0\n",
       "Turks and Caicos Islands                      1.620509                  950.0\n",
       "Tuvalu                                        0.868862                   30.0\n",
       "Uganda                                        3.290872               241550.0\n",
       "Ukraine                                      -0.331381               603550.0\n",
       "United Arab Emirates                          1.251759                83600.0\n",
       "United Kingdom                                0.714030               243610.0\n",
       "United States                                 0.734307              9831510.0\n",
       "Upper middle income                           0.767896             56966994.0\n",
       "Uruguay                                       0.362269               176220.0\n",
       "Uzbekistan                                    1.738849               447400.0\n",
       "Vanuatu                                       2.167915                12190.0\n",
       "Venezuela, RB                                 1.317057               912050.0\n",
       "Vietnam                                       1.060392               330967.0\n",
       "Virgin Islands (U.S.)                        -0.185856                  350.0\n",
       "West Bank and Gaza                            2.884693                 6020.0\n",
       "World                                         1.176992            134325130.2\n",
       "Yemen, Rep.                                   2.451502               527970.0\n",
       "Zambia                                        3.002816               752610.0\n",
       "Zimbabwe                                      2.336070               390760.0\n",
       "\n",
       "[264 rows x 2 columns]"
      ]
     },
     "execution_count": 71,
     "metadata": {},
     "output_type": "execute_result"
    }
   ],
   "source": [
    "df3 = df2.iloc[:, np.array(df2.count(axis=0)) >= 262]\n",
    "del df3['Population, total']\n",
    "del df3['Land area (sq. km)']\n",
    "meann = df3.mean(axis = 0)\n",
    "df3 = df3.fillna(meann, axis = 0)\n",
    "df3"
   ]
  },
  {
   "cell_type": "code",
   "execution_count": 72,
   "metadata": {},
   "outputs": [
    {
     "data": {
      "text/plain": [
       "(264, 2)"
      ]
     },
     "execution_count": 72,
     "metadata": {},
     "output_type": "execute_result"
    }
   ],
   "source": [
    "df3.shape"
   ]
  },
  {
   "cell_type": "code",
   "execution_count": 73,
   "metadata": {},
   "outputs": [
    {
     "data": {
      "text/plain": [
       "(264, 2)"
      ]
     },
     "execution_count": 73,
     "metadata": {},
     "output_type": "execute_result"
    }
   ],
   "source": [
    "from sklearn.preprocessing import StandardScaler\n",
    "m = StandardScaler().fit_transform(df3)\n",
    "m.shape"
   ]
  },
  {
   "cell_type": "code",
   "execution_count": 74,
   "metadata": {},
   "outputs": [],
   "source": [
    "cl = Clustering()\n",
    "cl.fit(m)\n",
    "pred = cl.predict(m)"
   ]
  },
  {
   "cell_type": "code",
   "execution_count": 76,
   "metadata": {},
   "outputs": [],
   "source": [
    "from sklearn.manifold import TSNE"
   ]
  },
  {
   "cell_type": "code",
   "execution_count": 75,
   "metadata": {},
   "outputs": [
    {
     "data": {
      "image/png": "[encoded data removed]",
      "text/plain": [
       "<Figure size 1440x1440 with 1 Axes>"
      ]
     },
     "metadata": {},
     "output_type": "display_data"
    }
   ],
   "source": [
    "m_temp = TSNE(n_components=2).fit_transform(m)\n",
    "pl.figure(figsize=(20, 20))\n",
    "pl.scatter(m_temp[:, 0], m_temp[:, 1], c=pred)\n",
    "pl.show()"
   ]
  },
  {
   "cell_type": "code",
   "execution_count": 77,
   "metadata": {},
   "outputs": [],
   "source": [
    "countries = list(df3.index)"
   ]
  },
  {
   "cell_type": "code",
   "execution_count": 79,
   "metadata": {},
   "outputs": [
    {
     "name": "stdout",
     "output_type": "stream",
     "text": [
      "['Algeria' 'Arab World' 'Argentina' 'Australia' 'Brazil' 'Canada' 'China'\n",
      " 'Congo, Dem. Rep.' 'Early-demographic dividend' 'East Asia & Pacific'\n",
      " 'East Asia & Pacific (IDA & IBRD countries)'\n",
      " 'East Asia & Pacific (excluding high income)' 'Euro area'\n",
      " 'Europe & Central Asia' 'Europe & Central Asia (IDA & IBRD countries)'\n",
      " 'Europe & Central Asia (excluding high income)' 'European Union'\n",
      " 'Fragile and conflict affected situations'\n",
      " 'Heavily indebted poor countries (HIPC)' 'High income' 'IBRD only'\n",
      " 'IDA & IBRD total' 'IDA blend' 'IDA only' 'IDA total' 'India' 'Indonesia'\n",
      " 'Iran, Islamic Rep.' 'Kazakhstan' 'Late-demographic dividend'\n",
      " 'Latin America & Caribbean'\n",
      " 'Latin America & Caribbean (excluding high income)'\n",
      " 'Latin America & the Caribbean (IDA & IBRD countries)'\n",
      " 'Least developed countries: UN classification' 'Libya'\n",
      " 'Low & middle income' 'Low income' 'Lower middle income' 'Mexico'\n",
      " 'Middle East & North Africa'\n",
      " 'Middle East & North Africa (IDA & IBRD countries)'\n",
      " 'Middle East & North Africa (excluding high income)' 'Middle income'\n",
      " 'Mongolia' 'North America' 'Not classified' 'OECD members'\n",
      " 'Other small states' 'Peru' 'Post-demographic dividend'\n",
      " 'Pre-demographic dividend' 'Russian Federation' 'Saudi Arabia'\n",
      " 'Small states' 'South Africa' 'South Asia' 'South Asia (IDA & IBRD)'\n",
      " 'Sub-Saharan Africa' 'Sub-Saharan Africa (IDA & IBRD countries)'\n",
      " 'Sub-Saharan Africa (excluding high income)' 'Sudan' 'United States'\n",
      " 'Upper middle income' 'World']\n",
      "['Afghanistan' 'Albania' 'American Samoa' 'Andorra' 'Angola'\n",
      " 'Antigua and Barbuda' 'Armenia' 'Aruba' 'Austria' 'Azerbaijan'\n",
      " 'Bahamas, The' 'Bahrain' 'Bangladesh' 'Barbados' 'Belarus' 'Belgium'\n",
      " 'Belize' 'Benin' 'Bermuda' 'Bhutan' 'Bolivia' 'Bosnia and Herzegovina'\n",
      " 'Botswana' 'British Virgin Islands' 'Brunei Darussalam' 'Bulgaria'\n",
      " 'Burkina Faso' 'Burundi' 'Cabo Verde' 'Cambodia' 'Cameroon'\n",
      " 'Caribbean small states' 'Cayman Islands' 'Central African Republic'\n",
      " 'Central Europe and the Baltics' 'Chad' 'Channel Islands' 'Chile'\n",
      " 'Colombia' 'Comoros' 'Congo, Rep.' 'Costa Rica' \"Cote d'Ivoire\" 'Croatia'\n",
      " 'Cuba' 'Curacao' 'Cyprus' 'Czech Republic' 'Denmark' 'Djibouti'\n",
      " 'Dominica' 'Dominican Republic' 'Ecuador' 'Egypt, Arab Rep.'\n",
      " 'El Salvador' 'Equatorial Guinea' 'Eritrea' 'Estonia' 'Eswatini'\n",
      " 'Ethiopia' 'Faroe Islands' 'Fiji' 'Finland' 'France' 'French Polynesia'\n",
      " 'Gabon' 'Gambia, The' 'Georgia' 'Germany' 'Ghana' 'Gibraltar' 'Greece'\n",
      " 'Greenland' 'Grenada' 'Guam' 'Guatemala' 'Guinea' 'Guinea-Bissau'\n",
      " 'Guyana' 'Haiti' 'Honduras' 'Hong Kong SAR, China' 'Hungary' 'Iceland'\n",
      " 'Iraq' 'Ireland' 'Isle of Man' 'Israel' 'Italy' 'Jamaica' 'Japan'\n",
      " 'Jordan' 'Kenya' 'Kiribati' 'Korea, Dem. People’s Rep.' 'Korea, Rep.'\n",
      " 'Kosovo' 'Kuwait' 'Kyrgyz Republic' 'Lao PDR' 'Latvia' 'Lebanon'\n",
      " 'Lesotho' 'Liberia' 'Liechtenstein' 'Lithuania' 'Luxembourg'\n",
      " 'Macao SAR, China' 'Macedonia, FYR' 'Madagascar' 'Malawi' 'Malaysia'\n",
      " 'Maldives' 'Mali' 'Malta' 'Marshall Islands' 'Mauritania' 'Mauritius'\n",
      " 'Micronesia, Fed. Sts.' 'Moldova' 'Monaco' 'Montenegro' 'Morocco'\n",
      " 'Mozambique' 'Myanmar' 'Namibia' 'Nauru' 'Nepal' 'Netherlands'\n",
      " 'New Caledonia' 'New Zealand' 'Nicaragua' 'Niger' 'Nigeria'\n",
      " 'Northern Mariana Islands' 'Norway' 'Oman' 'Pacific island small states'\n",
      " 'Pakistan' 'Palau' 'Panama' 'Papua New Guinea' 'Paraguay' 'Philippines'\n",
      " 'Poland' 'Portugal' 'Puerto Rico' 'Qatar' 'Romania' 'Rwanda' 'Samoa'\n",
      " 'San Marino' 'Sao Tome and Principe' 'Senegal' 'Serbia' 'Seychelles'\n",
      " 'Sierra Leone' 'Singapore' 'Sint Maarten (Dutch part)' 'Slovak Republic'\n",
      " 'Slovenia' 'Solomon Islands' 'Somalia' 'South Sudan' 'Spain' 'Sri Lanka'\n",
      " 'St. Kitts and Nevis' 'St. Lucia' 'St. Martin (French part)'\n",
      " 'St. Vincent and the Grenadines' 'Suriname' 'Sweden' 'Switzerland'\n",
      " 'Syrian Arab Republic' 'Tajikistan' 'Tanzania' 'Thailand' 'Timor-Leste'\n",
      " 'Togo' 'Tonga' 'Trinidad and Tobago' 'Tunisia' 'Turkey' 'Turkmenistan'\n",
      " 'Turks and Caicos Islands' 'Tuvalu' 'Uganda' 'Ukraine'\n",
      " 'United Arab Emirates' 'United Kingdom' 'Uruguay' 'Uzbekistan' 'Vanuatu'\n",
      " 'Venezuela, RB' 'Vietnam' 'Virgin Islands (U.S.)' 'West Bank and Gaza'\n",
      " 'Yemen, Rep.' 'Zambia' 'Zimbabwe']\n"
     ]
    }
   ],
   "source": [
    "class1 = np.array(countries)\n",
    "print(class1[pred == 0])\n",
    "print(class1[pred == 1])"
   ]
  },
  {
   "cell_type": "code",
   "execution_count": 8,
   "metadata": {
    "collapsed": true
   },
   "outputs": [],
   "source": [
    "# Не переживайте, мне тоже было тяжело разобраться с данными"
   ]
  },
  {
   "cell_type": "markdown",
   "metadata": {},
   "source": [
    "# Контрольные вопросы\n",
    "Постарайтесь максимально развернуто и честно ответить на вопросы. Они охватывают тему алгоритмов кластеризации и скорее нужны преподавателям, чтобы понимать, что именно Вы усвоили плохо. Надеюсь, они подскажут, что именно в теме Вы не понимаете или наоборот порадают, что Вы все знаете ^_^"
   ]
  },
  {
   "cell_type": "markdown",
   "metadata": {},
   "source": [
    "* Опишите, пожалуйста, для каких прикладных задач Вы бы стали использовать методы кластеризации?"
   ]
  },
  {
   "cell_type": "markdown",
   "metadata": {},
   "source": [
    "***Ваше ответ здесь***\n",
    "Для определения похожих объектов, чтобы, например анализировать не каждый объект, а кластер схожих объектов целиком. "
   ]
  },
  {
   "cell_type": "markdown",
   "metadata": {},
   "source": [
    "* Какие преимущества и недостатки Вы видите у следуюших алгоритмов кластеризации: kmeans, dbscan, агломеративная кластеризация?"
   ]
  },
  {
   "cell_type": "markdown",
   "metadata": {},
   "source": [
    "***Ваше ответ здесь***\n",
    "kmeans зависит от начальногого положения кластеров, чувствителен к выбросам и не очень хорошо (мне не нравится как он это делает) кластеризует когда кружочек в кружочке, но он быстрый.\n",
    "dbscan позволяет находить кластеры произвольной формы, не требует кол-ва кластеров, но не работает на различных плотностях.\n",
    "агломеративная кластеризация позволяет получать дендограмму, не требует кол-ва кластеров, кластеры произвольной формы."
   ]
  },
  {
   "cell_type": "markdown",
   "metadata": {},
   "source": [
    "* На лекции было показано, что EM алгоритм находит оценку максимального правдоподобия в задаче со сккрытыми переменными. Из курса мат. статистики Вы можете знать, оценка максимального правдоподобия \"оптимальная\" во многих смыслах. В каких же случаях тогда не следует применять метод максимального правдоподобия?"
   ]
  },
  {
   "cell_type": "markdown",
   "metadata": {},
   "source": [
    "***Ваше ответ здесь*** "
   ]
  },
  {
   "cell_type": "markdown",
   "metadata": {},
   "source": [
    "* Многие алгоритмы анализа данных страдают \"проклятием\" размерности. Страдают ли этим проклятием алгоритмы кластеризации? Если да, то как бы Вы с этим боролись?"
   ]
  },
  {
   "cell_type": "markdown",
   "metadata": {},
   "source": [
    "***Ваше ответ здесь***\n",
    "Да, страдают. Помогают бороться с этим такие алгоритмы, как PCA, t-SNE и тд."
   ]
  },
  {
   "cell_type": "markdown",
   "metadata": {},
   "source": [
    "* Представьте, что у Вас есть набор текстовых документов, и Вы хотите разбить эти документы на тематики - новости, спорт, кулинария, кино и так далее. Размеченной выборки у Вас нет, только сами тексты документов. Какие алгоритмы и какие признаки Вы бы использовали для решения данной задачи?"
   ]
  },
  {
   "cell_type": "markdown",
   "metadata": {},
   "source": [
    "***Ваше ответ здесь*** Я бы сначала сделал токенизацию и нормализацию. Потом выделял специальные слова (профессионализмы и слова, ассоциирующиеся с данными тематиками) и подсчитал кол-во их вхождений в каждый текст. А потом применил кластеризацию."
   ]
  },
  {
   "cell_type": "markdown",
   "metadata": {},
   "source": [
    "* Теперь представьте, что небольшая часть Ваших текстов была размечена людьми, но большая часть так и осталась без таргета. Смогли ли бы Вы использовать эти данные для улучения качества кластеризации? (эта задача называется semi-supervised learning)"
   ]
  },
  {
   "cell_type": "markdown",
   "metadata": {},
   "source": [
    "***Ваше ответ здесь***\n"
   ]
  },
  {
   "cell_type": "markdown",
   "metadata": {},
   "source": [
    "Здесь Вы можете оставить отзыв о этой домашней работе или о всем курсе.   "
   ]
  },
  {
   "cell_type": "markdown",
   "metadata": {},
   "source": [
    "*** ВАШ ОТЗЫВ ЗДЕСЬ***"
   ]
  },
  {
   "cell_type": "code",
   "execution_count": null,
   "metadata": {
    "collapsed": true
   },
   "outputs": [],
   "source": []
  },
  {
   "cell_type": "code",
   "execution_count": null,
   "metadata": {
    "collapsed": true
   },
   "outputs": [],
   "source": []
  }
 ],
 "metadata": {
  "anaconda-cloud": {},
  "kernelspec": {
   "display_name": "Python 3",
   "language": "python",
   "name": "python3"
  },
  "language_info": {
   "codemirror_mode": {
    "name": "ipython",
    "version": 3
   },
   "file_extension": ".py",
   "mimetype": "text/x-python",
   "name": "python",
   "nbconvert_exporter": "python",
   "pygments_lexer": "ipython3",
   "version": "3.6.5"
  }
 },
 "nbformat": 4,
 "nbformat_minor": 1
}
