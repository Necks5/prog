{
 "cells": [
  {
   "cell_type": "code",
   "execution_count": 4,
   "metadata": {},
   "outputs": [],
   "source": [
    "import requests\n",
    "from html.parser import HTMLParser\n",
    "import re\n",
    "from tqdm import tqdm\n",
    "import json\n",
    "import pandas as pd\n",
    "from bs4 import BeautifulSoup\n",
    "from multiprocessing.dummy import Pool as ThreadPool\n",
    "from selenium import webdriver\n",
    "import html\n",
    "from time import sleep"
   ]
  },
  {
   "cell_type": "code",
   "execution_count": 6,
   "metadata": {},
   "outputs": [],
   "source": [
    "def parser(url):\n",
    "    hotel_html = requests.get(url).text\n",
    "    soup = BeautifulSoup(hotel_html, 'html.parser')\n",
    "    hotel_info = {\n",
    "        'name': soup.find('h2', id = 'hp_hotel_name').find('span').text.split('\\n')[2],\n",
    "        'rating': soup.find('div', class_='bui-review-score').find('div', class_='bui-review-score__badge').text,\n",
    "        'otzivi': re.sub('\\D', '', soup.find('div', class_='bui-review-score').find('div', class_='bui-review-score__text').text),\n",
    "        'hotels_star': re.findall('\\d', soup.find('span', class_ ='hp__hotel_ratings').find('span', class_= 'invisible_spoken').text)[0],\n",
    "        'kolvo_udobstv': len(soup.find('div',class_='hp_desc_important_facilities clearfix ').find_all('div', class_='important_facility')),\n",
    "    }"
   ]
  },
  {
   "cell_type": "code",
   "execution_count": 53,
   "metadata": {},
   "outputs": [
    {
     "name": "stdout",
     "output_type": "stream",
     "text": [
      "None\n"
     ]
    }
   ],
   "source": [
    "ur = 'https://www.booking.com/hotel/ru/izmailovo-alpha.ru.html?aid=309654;label=hotels-russian-ru-YvrJvwE8WYJzHYvdMYkWxwS45957826252%3Apl%3Ata%3Ap1%3Ap22.135.000%3Aac%3Aap1t1%3Aneg%3Afi%3Atiaud-146342136550%3Akwd-5149291475%3Alp9047030%3Ali%3Adec%3Adm;sid=2d5600f715c9f836b37b0f49ba8a5264;dest_id=-2960561;dest_type=city;dist=0;hapos=1;hpos=1;room1=A%2CA;sb_price_type=total;srepoch=1542496615;srfid=c55b6661c6508ff339768ab7d622f53675317bcdX1;srpvid=0523a3b3c7650370;type=total;ucfs=1&'\n",
    "html = requests.get(ur).text\n",
    "soup = BeautifulSoup(html, 'html.parser')\n",
    "#dd = soup.find('div', class_='location_block')\n",
    "#gg = [i.text[-2] for i in dd]\n",
    "#gg = dd[1]\n",
    "print( soup.find('div', class_='location_block__wrapper'))"
   ]
  },
  {
   "cell_type": "code",
   "execution_count": null,
   "metadata": {},
   "outputs": [],
   "source": []
  }
 ],
 "metadata": {
  "kernelspec": {
   "display_name": "Python 3",
   "language": "python",
   "name": "python3"
  },
  "language_info": {
   "codemirror_mode": {
    "name": "ipython",
    "version": 3
   },
   "file_extension": ".py",
   "mimetype": "text/x-python",
   "name": "python",
   "nbconvert_exporter": "python",
   "pygments_lexer": "ipython3",
   "version": "3.6.5"
  }
 },
 "nbformat": 4,
 "nbformat_minor": 2
}
