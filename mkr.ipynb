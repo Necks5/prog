{
 "cells": [
  {
   "cell_type": "markdown",
   "metadata": {},
   "source": [
    "# Сабирьянов Артур; МКР, вариант 1"
   ]
  },
  {
   "cell_type": "code",
   "execution_count": 1,
   "metadata": {},
   "outputs": [],
   "source": [
    "from scipy.sparse import csr_matrix\n",
    "from scipy.sparse.linalg import spsolve, inv\n",
    "import numpy as np\n",
    "from numpy.linalg import norm\n",
    "from math import pi, sin, cos\n",
    "from itertools import permutations\n",
    "import matplotlib.pyplot as plt"
   ]
  },
  {
   "cell_type": "code",
   "execution_count": 2,
   "metadata": {},
   "outputs": [],
   "source": [
    "def f(x, y):\n",
    "    return sin(pi * x) * sin(pi * y)\n",
    "\n",
    "def laplas_f(x, y, dx, dy):\n",
    "    return -1.0 * pi * pi * (dx  * sin(pi * x) * sin(pi * y) + \\\n",
    "            dy * sin(pi * x) * sin(pi * y))"
   ]
  },
  {
   "cell_type": "code",
   "execution_count": 3,
   "metadata": {},
   "outputs": [],
   "source": [
    "N = 33\n",
    "dx = 1.0\n",
    "dy = 100.0\n",
    "h = 1.0 / (N -1)\n",
    "koef = 2 # poryadok tochnosti dlya Neimana (1 or 2)\n",
    "row = []\n",
    "col = []\n",
    "data = []\n",
    "\n",
    "y = np.zeros(N*N)\n",
    "true_y = np.zeros(N*N)\n",
    "\n",
    "def add_elem(r, c, d):\n",
    "    row.append(r)\n",
    "    col.append(c)\n",
    "    data.append(d)\n",
    "    \n",
    "\n",
    "for i in range(0, N):\n",
    "    for j in range(0, N):\n",
    "        true_y[i*N + j] = f(i*h, j*h)\n",
    "        \n",
    "        if j == N - 1 and i == 0: # Neumans angle\n",
    "            add_elem(i * N + j, i * N + j, -(dx+dy))\n",
    "            add_elem(i * N + j, i * N + j - 1, dx)\n",
    "            add_elem(i * N + j, (i+1) * N + j, dy)\n",
    "            y[i] = -dx * h * dx * pi * cos(pi * i * h) * sin(pi * j * h) - \\\n",
    "                    dy * h * dy * pi * sin(pi * i * h) * cos(pi * j * h) + \\\n",
    "                    (h**2 / 2) * laplas_f(i*h, j*h, dx, dy)\n",
    "            \n",
    "            continue\n",
    "            \n",
    "\n",
    "            \n",
    "        if j == 0: #down (D)\n",
    "            add_elem(i * N + j, i * N + j, 1.0)\n",
    "            y[j] = f(i*h, j*h)\n",
    "            continue\n",
    "            \n",
    "        if i == N-1:  #right (D)\n",
    "            add_elem(i * N + j, i * N + j, 1.0)\n",
    "            y[i*N + j] = f(i*h, j*h)\n",
    "            continue\n",
    "            \n",
    "        if i == 0: #left (N)\n",
    "            if koef == 1:\n",
    "                add_elem(i * N + j, i*N + j, -dx / h)\n",
    "                add_elem(i * N + j, (i+1)*N + j, dx / h)\n",
    "                y[i * N + j] = dx * pi * cos(pi * i * h) * sin(pi * j * h)\n",
    "            else:\n",
    "                add_elem(i * N + j, (i+1) * N + j, dx / h**2)\n",
    "                add_elem(i * N + j, i * N + j, -(dx + dy) / h**2 )\n",
    "                add_elem(i * N + j, i * N + j + 1, dy / (2 * h**2))\n",
    "                add_elem(i * N + j, i * N + j - 1, dy /(2 * h**2))\n",
    "                y[i * N + j] = laplas_f(i*h, j*h, dx, dy) / 2 + (dx * pi * cos(pi * i * h) * sin(pi * j * h)) / h\n",
    "                \n",
    "            continue\n",
    "            \n",
    "        if j == N-1: #up (N)\n",
    "            if koef == 1:\n",
    "                add_elem(i * N + j, i*N + j, dy / h)\n",
    "                add_elem(i * N + j, i*N + j-1 , -dy / h)\n",
    "                y[i * N + j] = dy * pi * sin(pi * i * h) * cos(pi * j * h) \n",
    "            else:\n",
    "                add_elem(i * N + j, i * N + j,  (dx + dy) / h**2)\n",
    "                add_elem(i * N + j, i * N + j - 1, -dy / h**2)\n",
    "                add_elem(i * N + j, (i+1) * N + j , -dx / (2 * h**2))\n",
    "                add_elem(i * N + j, (i-1) * N + j, -dx / (2 * h**2))\n",
    "                y[i * N + j] = laplas_f(i*h, j*h, dx, dy) / 2 + (dy * pi * sin(pi * i * h) * cos(pi * j * h)) / h\n",
    "            continue\n",
    "        \n",
    "        \n",
    "        add_elem(i * N + j, (i+1)*N + j, dx / (h*h))\n",
    "        add_elem(i * N + j, (i-1)*N + j, dx / (h*h))\n",
    "        \n",
    "        add_elem(i * N + j, i*N + j + 1, dy / (h*h))\n",
    "        add_elem(i * N + j, i*N + j - 1, dy / (h*h))\n",
    "        \n",
    "        add_elem(i * N + j, i*N + j, -1.0 * (2 * dx + 2 * dy) / (h*h))\n",
    "        \n",
    "        y[i * N + j] = laplas_f(i*h, j*h, dx, dy)\n",
    "        \n",
    "\n",
    "\n",
    "\n",
    "matr = csr_matrix((data, (row, col)), shape=(N*N, N*N)).astype('float')"
   ]
  },
  {
   "cell_type": "code",
   "execution_count": 4,
   "metadata": {},
   "outputs": [
    {
     "name": "stdout",
     "output_type": "stream",
     "text": [
      "Wall time: 4.81 ms\n"
     ]
    }
   ],
   "source": [
    "%%time\n",
    "answer = spsolve(matr, y)"
   ]
  },
  {
   "cell_type": "markdown",
   "metadata": {},
   "source": [
    "### $C_{h}$-норма"
   ]
  },
  {
   "cell_type": "code",
   "execution_count": 5,
   "metadata": {},
   "outputs": [
    {
     "data": {
      "text/plain": [
       "0.0024440871371430198"
      ]
     },
     "execution_count": 5,
     "metadata": {},
     "output_type": "execute_result"
    }
   ],
   "source": [
    "norm(answer - true_y, ord=np.inf)"
   ]
  },
  {
   "cell_type": "code",
   "execution_count": null,
   "metadata": {},
   "outputs": [],
   "source": []
  },
  {
   "cell_type": "code",
   "execution_count": 6,
   "metadata": {},
   "outputs": [
    {
     "data": {
      "image/png": "[encoded data removed]",
      "text/plain": [
       "<Figure size 432x288 with 2 Axes>"
      ]
     },
     "metadata": {
      "needs_background": "light"
     },
     "output_type": "display_data"
    }
   ],
   "source": [
    "error = np.abs(answer - true_y).reshape(N, N)\n",
    "im = plt.imshow(error)\n",
    "plt.colorbar()\n",
    "plt.show()"
   ]
  },
  {
   "cell_type": "code",
   "execution_count": 7,
   "metadata": {},
   "outputs": [
    {
     "data": {
      "image/png": "[encoded data removed]",
      "text/plain": [
       "<Figure size 432x288 with 2 Axes>"
      ]
     },
     "metadata": {
      "needs_background": "light"
     },
     "output_type": "display_data"
    }
   ],
   "source": [
    "temp = true_y.reshape(N, N)\n",
    "im = plt.imshow(temp)\n",
    "plt.colorbar()\n",
    "plt.show()"
   ]
  },
  {
   "cell_type": "code",
   "execution_count": 8,
   "metadata": {},
   "outputs": [],
   "source": [
    "def bilin(x, y, x0, y0, h, c_x0_y0, c_x0_y1, c_x1_y0, c_x1_y1):\n",
    "    return (c_x1_y1*(x - x0) / h + c_x0_y1 * (x0 + h - x) / h) * (y - y0) / h + \\\n",
    "        (c_x1_y0*(x - x0) / h + c_x0_y0 * (x0 + h - x) / h) * (y0 + h - y) / h"
   ]
  },
  {
   "cell_type": "code",
   "execution_count": 9,
   "metadata": {},
   "outputs": [],
   "source": [
    "def integ(x0, y0, h, c_x0_y0, c_x0_y1, c_x1_y0, c_x1_y1):\n",
    "    w1 = 0.2059505047\n",
    "    w2 = 0.0636914142\n",
    "    nu_1 = [0.1249495032, 0.4375252483, 0.4375252483]\n",
    "    nu_2 = [0.7971126518, 0.1654099273, 0.0374774207]\n",
    "    comb = list({(i, w1) for i in permutations(nu_1)} | {(i, w2) for i in permutations(nu_2)})\n",
    "    triangles = [([x0, x0, x0+h], \n",
    "                 [y0, y0+h, y0]), \n",
    "                ([x0+h, x0, x0+h], \n",
    "                [y0, y0+h, y0+h])]\n",
    "    triangle_mes = h*h / 2\n",
    "    result = []\n",
    "    for x, y in triangles:\n",
    "        triangle_res = 0\n",
    "        cords = np.array([x, y, [1, 1, 1]])\n",
    "        for a, w in comb:\n",
    "            a = np.array(a)\n",
    "            xy1 = cords.dot(a)\n",
    "            xi = xy1[0]\n",
    "            yi = xy1[1]\n",
    "            fi = bilin(xi, yi, 0, 0, h, c_x0_y0, c_x0_y1, c_x1_y0, c_x1_y1) - f(x0 + xi, y0 + yi)\n",
    "            triangle_res += (w * fi)\n",
    "        triangle_res *= triangle_mes\n",
    "        result.append(triangle_res)\n",
    "    return sum(result)"
   ]
  },
  {
   "cell_type": "markdown",
   "metadata": {},
   "source": [
    "### $L_{2, h}$-норма"
   ]
  },
  {
   "cell_type": "code",
   "execution_count": 10,
   "metadata": {},
   "outputs": [],
   "source": [
    "l2_err = []\n",
    "for i in range(N-1):\n",
    "    for j in range(N-1):\n",
    "        l2_err.append(integ(i*h, j*h, h, answer[i*N+j], answer[i*N + j + 1], answer[(i+1)*N + j], answer[(i+1)*N + j + 1]))"
   ]
  },
  {
   "cell_type": "code",
   "execution_count": 11,
   "metadata": {},
   "outputs": [],
   "source": [
    "l2_err = np.array(l2_err)"
   ]
  },
  {
   "cell_type": "code",
   "execution_count": 12,
   "metadata": {},
   "outputs": [
    {
     "data": {
      "text/plain": [
       "0.050862309703123"
      ]
     },
     "execution_count": 12,
     "metadata": {},
     "output_type": "execute_result"
    }
   ],
   "source": [
    "norm(l2_err, ord=2)"
   ]
  },
  {
   "cell_type": "code",
   "execution_count": null,
   "metadata": {},
   "outputs": [],
   "source": []
  }
 ],
 "metadata": {
  "kernelspec": {
   "display_name": "Python 3",
   "language": "python",
   "name": "python3"
  },
  "language_info": {
   "codemirror_mode": {
    "name": "ipython",
    "version": 3
   },
   "file_extension": ".py",
   "mimetype": "text/x-python",
   "name": "python",
   "nbconvert_exporter": "python",
   "pygments_lexer": "ipython3",
   "version": "3.7.7"
  }
 },
 "nbformat": 4,
 "nbformat_minor": 4
}
