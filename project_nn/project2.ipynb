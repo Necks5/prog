{
 "cells": [
  {
   "cell_type": "code",
   "execution_count": 11,
   "metadata": {},
   "outputs": [],
   "source": [
    "import numpy as np\n",
    "from random import normalvariate as nv\n",
    "import re\n",
    "from torch import nn\n",
    "from torch.autograd import Variable\n",
    "import matplotlib.pyplot as plt\n",
    "import torch\n",
    "from torch.utils.data import Dataset, DataLoader\n",
    "import sys\n",
    "from IPython.display import clear_output"
   ]
  },
  {
   "cell_type": "code",
   "execution_count": 12,
   "metadata": {},
   "outputs": [],
   "source": [
    "uint_32_max = 4294967295\n",
    "def generate_sequence(length=25):\n",
    "    temp = np.random.sample(length) * uint_32_max\n",
    "    return temp.astype('uint')"
   ]
  },
  {
   "cell_type": "code",
   "execution_count": 13,
   "metadata": {},
   "outputs": [],
   "source": [
    "def encode(sequence):\n",
    "    enc = np.zeros((len(sequence), 32))\n",
    "    for i in range(len(sequence)):\n",
    "        bin_num = str(bin(sequence[i]))[2:]\n",
    "        for ind, bit in enumerate(bin_num[::-1]):\n",
    "            enc[i, ind] = int(bit)\n",
    "    return enc\n",
    "def encode_item(item):\n",
    "    enc = np.zeros(32)\n",
    "    bin_num = str(bin(item))[2:]\n",
    "    for ind, bit in enumerate(bin_num[::-1]):\n",
    "        enc[ind] = int(bit)\n",
    "    return enc"
   ]
  },
  {
   "cell_type": "code",
   "execution_count": 14,
   "metadata": {},
   "outputs": [
    {
     "data": {
      "text/plain": [
       "array([1., 1., 1., 1., 1., 0., 0., 0., 0., 0., 0., 0., 0., 0., 0., 0., 0.,\n",
       "       0., 0., 0., 0., 0., 0., 0., 0., 0., 0., 0., 0., 0., 0., 0.])"
      ]
     },
     "execution_count": 14,
     "metadata": {},
     "output_type": "execute_result"
    }
   ],
   "source": [
    "encode_item(31)"
   ]
  },
  {
   "cell_type": "code",
   "execution_count": 15,
   "metadata": {},
   "outputs": [],
   "source": [
    "def decode(encoded_seq):\n",
    "    temp = [0] * len(encoded_seq)\n",
    "    for i, s in enumerate(encoded_seq):\n",
    "        for j, num in enumerate(s):\n",
    "            if num > 0.5:\n",
    "                temp[i] += (2**(j))\n",
    "                \n",
    "    return np.array(temp)"
   ]
  },
  {
   "cell_type": "code",
   "execution_count": 16,
   "metadata": {},
   "outputs": [],
   "source": [
    "tt = generate_sequence()\n",
    "assert (tt == decode(encode(tt))).all()"
   ]
  },
  {
   "cell_type": "code",
   "execution_count": 17,
   "metadata": {},
   "outputs": [],
   "source": [
    "def create_dataset(dataset, look_back=10, look_forward=1):\n",
    "    dataX, dataY = [], []\n",
    "    for i in range(len(dataset)-look_back-1-look_forward):\n",
    "        a = dataset[i:(i+look_back)]\n",
    "        dataX.append(a)\n",
    "        y = dataset[i + look_back : (i + look_back + look_forward)]\n",
    "        dataY.append(y)\n",
    "    return torch.tensor(dataX), torch.tensor(dataY)"
   ]
  },
  {
   "cell_type": "code",
   "execution_count": 69,
   "metadata": {},
   "outputs": [],
   "source": [
    "class Dataset():\n",
    "    def __init__(self):\n",
    "        self.datas = generate_sequence(3000)\n",
    "        self.c=0\n",
    "    def __getitem__(self, index):\n",
    "        temp = self.datas[index]\n",
    "        temp = encode_item(temp)\n",
    "        return temp\n",
    "        \n",
    "    def __len__(self):\n",
    "        return len(self.datas) - 1\n",
    "data = Dataset()\n",
    "dataloader = DataLoader(data,num_workers=0,batch_size=25, shuffle=False)\n"
   ]
  },
  {
   "cell_type": "code",
   "execution_count": 70,
   "metadata": {},
   "outputs": [],
   "source": [
    "class myLSTM(nn.Module):    \n",
    "    def __init__(self, hidden_dim):\n",
    "        super(myLSTM, self).__init__()\n",
    "        self.hidden_dim = hidden_dim\n",
    "        self.lstm = nn.LSTM(10, hidden_dim, 2).cuda()\n",
    "        self.linear = nn.Sequential(nn.Linear(hidden_dim, 1)).cuda()\n",
    "        self.hidden = (Variable(torch.zeros(2, 1, self.hidden_dim), requires_grad=False).cuda(),\n",
    "                  Variable(torch.zeros(2, 1, self.hidden_dim), requires_grad=False).cuda())\n",
    "    def forward(self, inp):\n",
    "        self.lstm.train()\n",
    "        self.linear.train()\n",
    "        lstm_out, _ = self.lstm(inp)\n",
    "#         print(lstm_out.shape)\n",
    "        out = self.linear(lstm_out)\n",
    "        return torch.nn.functional.sigmoid(out)\n",
    "    def generate(self, inp):\n",
    "        self.lstm.eval()\n",
    "        self.linear.eval()\n",
    "        lstm_out, temp= self.lstm(inp, self.hidden)\n",
    "        lstm_out = lstm_out.detach()\n",
    "        temp1, temp2 = temp\n",
    "        self.hidden = (temp1.detach(), temp2.detach())\n",
    "        out = self.linear(lstm_out)\n",
    "        return torch.nn.functional.sigmoid(out)\n",
    "    "
   ]
  },
  {
   "cell_type": "code",
   "execution_count": 1,
   "metadata": {
    "scrolled": true
   },
   "outputs": [],
   "source": [
    "loss = nn.BCELoss()\n",
    "network = myLSTM(300).to('cuda')\n",
    "optimizer = torch.optim.Adam(network.parameters(), lr=0.0001)\n",
    "\n",
    "\n",
    "for epoch in range(2000):\n",
    "    ep_losses = [] \n",
    "    for ss in dataloader:\n",
    "        ss = np.array(ss)\n",
    "        X, y = create_dataset(ss)\n",
    "        X = Variable(X.transpose(0, 2).transpose(1, 2)).float().cuda()\n",
    "        y = Variable(y).float().cuda()\n",
    "        prediction = network(X)\n",
    "        prediction = prediction.transpose(0, 1).transpose(1, 2)\n",
    "        loss_batch = loss(prediction, y)\n",
    "        \n",
    "        loss_batch.backward()\n",
    "        optimizer.step()\n",
    "        \n",
    "        ep_losses.append(loss_batch.data.cpu().item())\n",
    "        \n",
    "    print(epoch, np.array(ep_losses).mean())"
   ]
  },
  {
   "cell_type": "code",
   "execution_count": 54,
   "metadata": {},
   "outputs": [],
   "source": [
    "def generate(network, gen_len = 10):\n",
    "    mas = list(generate_sequence(20))\n",
    "    for i in range(gen_len):\n",
    "        ss = encode(mas[-10:])\n",
    "        tens = torch.tensor(ss)\n",
    "        tens = tens.reshape(32, 1, -1)\n",
    "        el = Variable(tens, requires_grad=False).float().cuda()\n",
    "        pred = network.generate(el).detach().cpu().flatten()\n",
    "#         print(pred)\n",
    "        mas.append(decode(pred.reshape(1, -1)).item())\n",
    "    return mas[20:]"
   ]
  },
  {
   "cell_type": "code",
   "execution_count": 55,
   "metadata": {},
   "outputs": [
    {
     "data": {
      "text/plain": [
       "<torch._C.Generator at 0x2399d6586b0>"
      ]
     },
     "execution_count": 55,
     "metadata": {},
     "output_type": "execute_result"
    }
   ],
   "source": [
    "i=6\n",
    "np.random.seed(i)\n",
    "torch.random.manual_seed(i)"
   ]
  },
  {
   "cell_type": "code",
   "execution_count": 56,
   "metadata": {},
   "outputs": [],
   "source": [
    "res = generate(network, gen_len= 2000000)"
   ]
  },
  {
   "cell_type": "code",
   "execution_count": 57,
   "metadata": {},
   "outputs": [
    {
     "data": {
      "text/plain": [
       "2000000"
      ]
     },
     "execution_count": 57,
     "metadata": {},
     "output_type": "execute_result"
    },
    {
     "data": {
      "image/png": "[encoded data removed]",
      "text/plain": [
       "<Figure size 432x288 with 1 Axes>"
      ]
     },
     "metadata": {
      "needs_background": "light"
     },
     "output_type": "display_data"
    }
   ],
   "source": [
    "plt.hist(res, 500)\n",
    "len(res)"
   ]
  },
  {
   "cell_type": "code",
   "execution_count": 58,
   "metadata": {},
   "outputs": [],
   "source": [
    "with open('res3.txt', 'w') as f:\n",
    "    for i in res:\n",
    "        f.write(str(i) + '\\n')"
   ]
  },
  {
   "cell_type": "code",
   "execution_count": null,
   "metadata": {},
   "outputs": [],
   "source": []
  }
 ],
 "metadata": {
  "kernelspec": {
   "display_name": "Python 3",
   "language": "python",
   "name": "python3"
  },
  "language_info": {
   "codemirror_mode": {
    "name": "ipython",
    "version": 3
   },
   "file_extension": ".py",
   "mimetype": "text/x-python",
   "name": "python",
   "nbconvert_exporter": "python",
   "pygments_lexer": "ipython3",
   "version": "3.7.6"
  }
 },
 "nbformat": 4,
 "nbformat_minor": 4
}
