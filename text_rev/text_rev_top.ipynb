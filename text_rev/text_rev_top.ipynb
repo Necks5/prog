{
 "cells": [
  {
   "cell_type": "code",
   "execution_count": 1,
   "metadata": {
    "colab": {
     "base_uri": "https://localhost:8080/",
     "height": 666
    },
    "colab_type": "code",
    "executionInfo": {
     "elapsed": 8906,
     "status": "ok",
     "timestamp": 1589838699353,
     "user": {
      "displayName": "G Kek",
      "photoUrl": "https://lh3.googleusercontent.com/a-/AOh14GgY8D7IfgzONxBTThDqEyKQXy2bs-zy4reP3JnpSA=s64",
      "userId": "00260416878081302894"
     },
     "user_tz": -300
    },
    "id": "tyNw1dlbaWf2",
    "outputId": "46040ff9-346d-460c-b61d-78f5e84e7d11"
   },
   "outputs": [],
   "source": [
    "!pip install tensorflow\n",
    "!pip3 install tensorflow_text>=2.0.0rc0\n",
    "! pip install pymorphy2"
   ]
  },
  {
   "cell_type": "code",
   "execution_count": 0,
   "metadata": {
    "colab": {},
    "colab_type": "code",
    "id": "lkj4kxUfmtwv"
   },
   "outputs": [],
   "source": [
    "import tensorflow as tf\n",
    "import tensorflow_hub as hub\n",
    "from tensorflow.python.keras import backend as K\n",
    "import tensorflow_text\n",
    "import numpy as np\n",
    "import pymorphy2"
   ]
  },
  {
   "cell_type": "code",
   "execution_count": 5,
   "metadata": {
    "colab": {
     "base_uri": "https://localhost:8080/",
     "height": 34
    },
    "colab_type": "code",
    "executionInfo": {
     "elapsed": 25689,
     "status": "ok",
     "timestamp": 1589838716881,
     "user": {
      "displayName": "G Kek",
      "photoUrl": "https://lh3.googleusercontent.com/a-/AOh14GgY8D7IfgzONxBTThDqEyKQXy2bs-zy4reP3JnpSA=s64",
      "userId": "00260416878081302894"
     },
     "user_tz": -300
    },
    "id": "SByIyf0saWlX",
    "outputId": "284fe913-7572-47a8-86ee-270417a3031e"
   },
   "outputs": [
    {
     "name": "stdout",
     "output_type": "stream",
     "text": [
      "2.2.0\n"
     ]
    }
   ],
   "source": [
    "print(tf.__version__)"
   ]
  },
  {
   "cell_type": "code",
   "execution_count": 8,
   "metadata": {
    "colab": {
     "base_uri": "https://localhost:8080/",
     "height": 54
    },
    "colab_type": "code",
    "executionInfo": {
     "elapsed": 46804,
     "status": "ok",
     "timestamp": 1589838739461,
     "user": {
      "displayName": "G Kek",
      "photoUrl": "https://lh3.googleusercontent.com/a-/AOh14GgY8D7IfgzONxBTThDqEyKQXy2bs-zy4reP3JnpSA=s64",
      "userId": "00260416878081302894"
     },
     "user_tz": -300
    },
    "id": "mQ6GXkpBusMD",
    "outputId": "4004bac3-5f54-4358-9a5b-cb6ea33fd4ac"
   },
   "outputs": [
    {
     "name": "stdout",
     "output_type": "stream",
     "text": [
      "Drive already mounted at /content/drive; to attempt to forcibly remount, call drive.mount(\"/content/drive\", force_remount=True).\n"
     ]
    }
   ],
   "source": [
    "from google.colab import drive\n",
    "drive.mount('/content/drive')"
   ]
  },
  {
   "cell_type": "code",
   "execution_count": 10,
   "metadata": {
    "colab": {
     "base_uri": "https://localhost:8080/",
     "height": 34
    },
    "colab_type": "code",
    "executionInfo": {
     "elapsed": 48299,
     "status": "ok",
     "timestamp": 1589838741800,
     "user": {
      "displayName": "G Kek",
      "photoUrl": "https://lh3.googleusercontent.com/a-/AOh14GgY8D7IfgzONxBTThDqEyKQXy2bs-zy4reP3JnpSA=s64",
      "userId": "00260416878081302894"
     },
     "user_tz": -300
    },
    "id": "Dn26bz5qusFh",
    "outputId": "4d4742f9-4323-48bd-fdab-61ff82306dd5"
   },
   "outputs": [
    {
     "name": "stdout",
     "output_type": "stream",
     "text": [
      "38114 38114 38114\n"
     ]
    }
   ],
   "source": [
    "urls_to_id = dict() # url -> id\n",
    "id_to_urls=  dict() #id -> url\n",
    "i= 0\n",
    "with open(\"/content/drive/My Drive/Colab Notebooks/urls.numerate.txt\", encoding='utf-8') as f:\n",
    "    i = 0\n",
    "    for s in f:\n",
    "        tt = s.split('\\t')\n",
    "        id_ = int(tt[0])\n",
    "        urls_to_id[tt[1][:-1]] = id_\n",
    "        id_to_urls[id_] = tt[1][:-1]\n",
    "        i += 1\n",
    "print(i, len(urls_to_id), len(id_to_urls))"
   ]
  },
  {
   "cell_type": "code",
   "execution_count": 11,
   "metadata": {
    "colab": {
     "base_uri": "https://localhost:8080/",
     "height": 34
    },
    "colab_type": "code",
    "executionInfo": {
     "elapsed": 47903,
     "status": "ok",
     "timestamp": 1589838741801,
     "user": {
      "displayName": "G Kek",
      "photoUrl": "https://lh3.googleusercontent.com/a-/AOh14GgY8D7IfgzONxBTThDqEyKQXy2bs-zy4reP3JnpSA=s64",
      "userId": "00260416878081302894"
     },
     "user_tz": -300
    },
    "id": "yGXqX7NhiCeU",
    "outputId": "fed8aa0e-0c8f-4b9e-9b3e-8fe97788014b"
   },
   "outputs": [
    {
     "name": "stdout",
     "output_type": "stream",
     "text": [
      "399 399\n"
     ]
    }
   ],
   "source": [
    "queries = []\n",
    "i= 0\n",
    "with open(\"/content/drive/My Drive/Colab Notebooks/queries.corr.txt\", encoding='utf-8') as f:\n",
    "    i = 0\n",
    "    for s in f:\n",
    "        tt = s.split('\\t')\n",
    "        queries.append(tt[1][:-1])\n",
    "        i += 1\n",
    "print(i, len(queries))"
   ]
  },
  {
   "cell_type": "code",
   "execution_count": 0,
   "metadata": {
    "colab": {},
    "colab_type": "code",
    "id": "blcMI_JgtThS"
   },
   "outputs": [],
   "source": [
    "quer_to_id = dict() #quer_num -> list_id\n",
    "with open(\"/content/drive/My Drive/Colab Notebooks/sample.submission.txt\", encoding='utf-8') as f:\n",
    "    temp = f.readline()\n",
    "    for line in f:\n",
    "        q, ii = line.split(',')\n",
    "        q = int(q)\n",
    "        ii = int(ii[:-1])\n",
    "        if q not in quer_to_id:\n",
    "            quer_to_id[q] = []\n",
    "        quer_to_id[q].append(ii)"
   ]
  },
  {
   "cell_type": "code",
   "execution_count": 0,
   "metadata": {
    "colab": {},
    "colab_type": "code",
    "id": "bl6ZwcdptTeh"
   },
   "outputs": [],
   "source": [
    "url_to_title = dict()\n",
    "titles  =[]\n",
    "with open(\"/content/drive/My Drive/Colab Notebooks/titles_norm.txt\", \"r\", encoding='cp1251',errors = 'ignore') as f:\n",
    "    for s in f:\n",
    "      u, t = s.split('\\t')\n",
    "      t = t[:-1]\n",
    "      titles.append(t)\n",
    "      url_to_title[u] = t"
   ]
  },
  {
   "cell_type": "code",
   "execution_count": 2,
   "metadata": {
    "colab": {
     "base_uri": "https://localhost:8080/",
     "height": 1000
    },
    "colab_type": "code",
    "executionInfo": {
     "elapsed": 1226980,
     "status": "ok",
     "timestamp": 1589840052833,
     "user": {
      "displayName": "G Kek",
      "photoUrl": "https://lh3.googleusercontent.com/a-/AOh14GgY8D7IfgzONxBTThDqEyKQXy2bs-zy4reP3JnpSA=s64",
      "userId": "00260416878081302894"
     },
     "user_tz": -300
    },
    "id": "cHFW11fCtTWZ",
    "outputId": "ac541e7f-03cc-4c4f-95c3-4fd23a8145f5"
   },
   "outputs": [],
   "source": [
    "answer = []\n",
    "stop_words = ['как', \"где\", \"что\", \"почему\", \"ли\", \"какой\"]\n",
    "module = hub.load('https://tfhub.dev/google/universal-sentence-encoder-multilingual-qa/3')\n",
    "\n",
    "# for quer_num in range(1):\n",
    "for quer_num in range(len(queries)):\n",
    "    if quer_num == 394 or quer_num == 398:\n",
    "        continue\n",
    "    print(quer_num)\n",
    "    ids = quer_to_id[quer_num +1]\n",
    "    texts_title = []\n",
    "    texts_all = []\n",
    "    for id_ in ids:\n",
    "        try:\n",
    "            texts_title.append(url_to_title[id_to_urls[id_]])\n",
    "        except:\n",
    "            print(id_, '####')\n",
    "            texts_title.append('')\n",
    "\n",
    "    with open(\"/content/drive/My Drive/Colab Notebooks/text_quer/\" + str(quer_num + 1), encoding='cp1251') as f:\n",
    "        for i in f:\n",
    "            texts_all.append(i[:5500])\n",
    "\n",
    "    assert len(texts_title) == len(texts_all) \n",
    "\n",
    "    morph = pymorphy2.MorphAnalyzer()\n",
    "    tokenized_query = [morph.parse(i)[0].normal_form \\\n",
    "                       for i in queries[quer_num].split() \\\n",
    "                      if i not in stop_words]\n",
    "                      \n",
    "    quer = ' '.join(tokenized_query)\n",
    "\n",
    "\n",
    "    question_embeddings = module.signatures['question_encoder'](\n",
    "            tf.constant(quer))\n",
    "    response_embeddings = module.signatures['response_encoder'](\n",
    "            input=tf.constant(texts_title),\n",
    "            context=tf.constant(texts_all))\n",
    "\n",
    "    dists = np.inner(question_embeddings['outputs'], response_embeddings['outputs'])\n",
    "    top_rangs = list(np.argsort(dists[0]))[::-1]\n",
    "    top_rangs = top_rangs[:10]\n",
    "    \n",
    "    for i in top_rangs:\n",
    "        answer.append((quer_num + 1, ids[i]))\n",
    "    "
   ]
  },
  {
   "cell_type": "code",
   "execution_count": 20,
   "metadata": {
    "colab": {
     "base_uri": "https://localhost:8080/",
     "height": 527
    },
    "colab_type": "code",
    "executionInfo": {
     "elapsed": 969,
     "status": "ok",
     "timestamp": 1589840095224,
     "user": {
      "displayName": "G Kek",
      "photoUrl": "https://lh3.googleusercontent.com/a-/AOh14GgY8D7IfgzONxBTThDqEyKQXy2bs-zy4reP3JnpSA=s64",
      "userId": "00260416878081302894"
     },
     "user_tz": -300
    },
    "id": "XpRcolnltTTi",
    "outputId": "0934081d-a67e-4ca3-b8fb-7f1e93d0d372"
   },
   "outputs": [
    {
     "data": {
      "text/plain": [
       "[(1, 74),\n",
       " (1, 28),\n",
       " (1, 53),\n",
       " (1, 78),\n",
       " (1, 44),\n",
       " (1, 7),\n",
       " (1, 66),\n",
       " (1, 57),\n",
       " (1, 58),\n",
       " (1, 17),\n",
       " (2, 154),\n",
       " (2, 156),\n",
       " (2, 165),\n",
       " (2, 125),\n",
       " (2, 185),\n",
       " (2, 103),\n",
       " (2, 192),\n",
       " (2, 131),\n",
       " (2, 141),\n",
       " (2, 179),\n",
       " (3, 228),\n",
       " (3, 201),\n",
       " (3, 242),\n",
       " (3, 271),\n",
       " (3, 217),\n",
       " (3, 198),\n",
       " (3, 275),\n",
       " (3, 294),\n",
       " (3, 293),\n",
       " (3, 225)]"
      ]
     },
     "execution_count": 20,
     "metadata": {
      "tags": []
     },
     "output_type": "execute_result"
    }
   ],
   "source": [
    "answer[:30]"
   ]
  },
  {
   "cell_type": "code",
   "execution_count": 0,
   "metadata": {
    "colab": {},
    "colab_type": "code",
    "id": "R1_AxDIs3znO"
   },
   "outputs": [],
   "source": []
  },
  {
   "cell_type": "code",
   "execution_count": 0,
   "metadata": {
    "colab": {},
    "colab_type": "code",
    "id": "HGu1wsbo3zkW"
   },
   "outputs": [],
   "source": [
    "with open(\"/content/drive/My Drive/Colab Notebooks/predict2.csv\", \"w\") as f:\n",
    "    f.write(\"QueryId,DocumentId\\n\")\n",
    "    for i in answer:\n",
    "        f.write(\"{},{}\\n\".format(i[0], i[1]))"
   ]
  },
  {
   "cell_type": "code",
   "execution_count": 0,
   "metadata": {
    "colab": {},
    "colab_type": "code",
    "id": "6K3ysYHN7AZP"
   },
   "outputs": [],
   "source": []
  }
 ],
 "metadata": {
  "anaconda-cloud": {},
  "colab": {
   "collapsed_sections": [],
   "name": "text_rev_top.ipynb",
   "provenance": []
  },
  "kernelspec": {
   "display_name": "Python 3",
   "language": "python",
   "name": "python3"
  },
  "language_info": {
   "codemirror_mode": {
    "name": "ipython",
    "version": 3
   },
   "file_extension": ".py",
   "mimetype": "text/x-python",
   "name": "python",
   "nbconvert_exporter": "python",
   "pygments_lexer": "ipython3",
   "version": "3.7.6"
  }
 },
 "nbformat": 4,
 "nbformat_minor": 1
}
